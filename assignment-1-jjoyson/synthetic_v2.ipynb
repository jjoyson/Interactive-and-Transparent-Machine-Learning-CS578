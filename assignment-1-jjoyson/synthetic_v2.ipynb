{
 "cells": [
  {
   "cell_type": "markdown",
   "metadata": {},
   "source": [
    "<h1><center>Assignment 1</center></h1>"
   ]
  },
  {
   "cell_type": "markdown",
   "metadata": {},
   "source": [
    "# Initializations"
   ]
  },
  {
   "cell_type": "code",
   "execution_count": 1,
   "metadata": {},
   "outputs": [],
   "source": [
    "import numpy as np\n",
    "import pandas as pd\n",
    "from sklearn.preprocessing import label_binarize\n",
    "\n",
    "def load_hugin_dataset(filename, target_feature):\n",
    "    \"\"\"Load a dataset simulated from a Hugin file.\"\"\"\n",
    "    df=pd.read_csv(filename)\n",
    "    y=np.asarray(df[target_feature].values, dtype=str)\n",
    "    X=df.loc[:, df.columns != target_feature].values\n",
    "    feature_names = df.loc[:, df.columns != target_feature].columns.values\n",
    "    return X, y, feature_names\n",
    "\n",
    "def mutual_information(X_Y,X,Y):\n",
    "    total = 0\n",
    "    counter = 0\n",
    "    index = 0\n",
    "    for i in X_Y:\n",
    "        if counter == 2:\n",
    "            index += 1\n",
    "        total += i*np.log2(i/(X[counter % 2]*Y[index]))\n",
    "        counter +=1\n",
    "    return total"
   ]
  },
  {
   "cell_type": "code",
   "execution_count": 2,
   "metadata": {},
   "outputs": [],
   "source": [
    "X, y, feature_names = load_hugin_dataset(\"synthetic_v2_1000.dat\", 'Label')"
   ]
  },
  {
   "cell_type": "code",
   "execution_count": 3,
   "metadata": {},
   "outputs": [],
   "source": [
    "from sklearn.feature_selection import chi2, mutual_info_classif"
   ]
  },
  {
   "cell_type": "code",
   "execution_count": 4,
   "metadata": {},
   "outputs": [
    {
     "data": {
      "text/plain": [
       "array(['F3', 'F2', 'F1'], dtype=object)"
      ]
     },
     "execution_count": 4,
     "metadata": {},
     "output_type": "execute_result"
    }
   ],
   "source": [
    "feature_names"
   ]
  },
  {
   "cell_type": "code",
   "execution_count": 5,
   "metadata": {},
   "outputs": [],
   "source": [
    "F1 = [[i] for i in X[:, 2]]\n",
    "F2 = [[i] for i in X[:, 1]]\n",
    "F3 = [[i] for i in X[:, 0]]"
   ]
  },
  {
   "cell_type": "markdown",
   "metadata": {},
   "source": [
    "# Problem 1"
   ]
  },
  {
   "cell_type": "markdown",
   "metadata": {},
   "source": [
    "## Part A"
   ]
  },
  {
   "cell_type": "code",
   "execution_count": 6,
   "metadata": {},
   "outputs": [],
   "source": [
    "F1_ = [.55,.45]\n",
    "Label = [.50,.50]"
   ]
  },
  {
   "cell_type": "code",
   "execution_count": 7,
   "metadata": {},
   "outputs": [
    {
     "name": "stdout",
     "output_type": "stream",
     "text": [
      "[0.45, 0.1, 0.05, 0.4] 1.0\n"
     ]
    }
   ],
   "source": [
    "Label_F1 = []\n",
    "Label_F1 += [.5 * .9] \n",
    "Label_F1 += [.5 * .2]\n",
    "Label_F1 += [.5 * .1]\n",
    "Label_F1 += [.5 * .8]\n",
    "print(Label_F1, sum(Label_F1))"
   ]
  },
  {
   "cell_type": "code",
   "execution_count": 8,
   "metadata": {},
   "outputs": [
    {
     "data": {
      "text/plain": [
       "0.39731260974948646"
      ]
     },
     "execution_count": 8,
     "metadata": {},
     "output_type": "execute_result"
    }
   ],
   "source": [
    "mutual_information(Label_F1,Label,F1_)"
   ]
  },
  {
   "cell_type": "code",
   "execution_count": 9,
   "metadata": {
    "scrolled": true
   },
   "outputs": [
    {
     "data": {
      "text/plain": [
       "array([0.39731261])"
      ]
     },
     "execution_count": 9,
     "metadata": {},
     "output_type": "execute_result"
    }
   ],
   "source": [
    "# Testing\n",
    "size = 100\n",
    "example = [[True] if i < int((F1_[0])*size)  else [False] for i in range(size)]\n",
    "label = ['A' if i < int(Label_F1[0]*size) or i > int(size-(Label_F1[2]*size+1))  else 'B' for i in range(size)]\n",
    "mutual_info_classif(example, label, discrete_features=True)/np.log(2)"
   ]
  },
  {
   "cell_type": "markdown",
   "metadata": {},
   "source": [
    "## Part B"
   ]
  },
  {
   "cell_type": "code",
   "execution_count": 10,
   "metadata": {},
   "outputs": [
    {
     "data": {
      "text/plain": [
       "array([0.42399351])"
      ]
     },
     "execution_count": 10,
     "metadata": {},
     "output_type": "execute_result"
    }
   ],
   "source": [
    "mutual_info_classif(F1, y, discrete_features=True)/np.log(2)"
   ]
  },
  {
   "cell_type": "markdown",
   "metadata": {},
   "source": [
    "# Problem 2"
   ]
  },
  {
   "cell_type": "markdown",
   "metadata": {},
   "source": [
    "## Part A"
   ]
  },
  {
   "cell_type": "code",
   "execution_count": 11,
   "metadata": {},
   "outputs": [],
   "source": [
    "F2_ = [.55,.45]"
   ]
  },
  {
   "cell_type": "code",
   "execution_count": 12,
   "metadata": {},
   "outputs": [
    {
     "name": "stdout",
     "output_type": "stream",
     "text": [
      "[0.2, 0.35, 0.3, 0.15] 1.0\n"
     ]
    }
   ],
   "source": [
    "Label_F2 = []\n",
    "Label_F2 += [.5 * .4] \n",
    "Label_F2 += [.5 * .7]\n",
    "Label_F2 += [.5 * .6]\n",
    "Label_F2 += [.5 * .3]\n",
    "print(Label_F2, sum(Label_F2))"
   ]
  },
  {
   "cell_type": "code",
   "execution_count": 13,
   "metadata": {},
   "outputs": [
    {
     "data": {
      "text/plain": [
       "0.06665370714512754"
      ]
     },
     "execution_count": 13,
     "metadata": {},
     "output_type": "execute_result"
    }
   ],
   "source": [
    "mutual_information(Label_F2,Label,F2_)"
   ]
  },
  {
   "cell_type": "code",
   "execution_count": 14,
   "metadata": {},
   "outputs": [
    {
     "data": {
      "text/plain": [
       "array([0.06665371])"
      ]
     },
     "execution_count": 14,
     "metadata": {},
     "output_type": "execute_result"
    }
   ],
   "source": [
    "#Testing\n",
    "size = 100\n",
    "example = [[True] if i < int((F2_[0])*size)  else [False] for i in range(size)]\n",
    "label = ['A' if i < int(Label_F2[0]*size) or i > int(size-(Label_F2[2]*size+1))  else 'B' for i in range(size)]\n",
    "mutual_info_classif(example, label, discrete_features=True)/np.log(2)"
   ]
  },
  {
   "cell_type": "markdown",
   "metadata": {},
   "source": [
    "## Part B"
   ]
  },
  {
   "cell_type": "code",
   "execution_count": 15,
   "metadata": {
    "scrolled": true
   },
   "outputs": [
    {
     "data": {
      "text/plain": [
       "array([0.0571478])"
      ]
     },
     "execution_count": 15,
     "metadata": {},
     "output_type": "execute_result"
    }
   ],
   "source": [
    "mutual_info_classif(F2, y, discrete_features=True)/np.log(2)"
   ]
  },
  {
   "cell_type": "markdown",
   "metadata": {},
   "source": [
    "# Problem 3 "
   ]
  },
  {
   "cell_type": "markdown",
   "metadata": {},
   "source": [
    "## Part A"
   ]
  },
  {
   "cell_type": "code",
   "execution_count": 16,
   "metadata": {},
   "outputs": [],
   "source": [
    "F3_ = [.545,.455]"
   ]
  },
  {
   "cell_type": "code",
   "execution_count": 17,
   "metadata": {},
   "outputs": [
    {
     "name": "stdout",
     "output_type": "stream",
     "text": [
      "[0.43, 0.115, 0.07, 0.385] 1.0\n"
     ]
    }
   ],
   "source": [
    "Label_F3 = []\n",
    "Label_F3 += [.5 * .86] \n",
    "Label_F3 += [.5 * .23]\n",
    "Label_F3 += [.5 * .14]\n",
    "Label_F3 += [.5 * .77]\n",
    "print(Label_F3, sum(Label_F3))"
   ]
  },
  {
   "cell_type": "code",
   "execution_count": 18,
   "metadata": {},
   "outputs": [
    {
     "data": {
      "text/plain": [
       "0.31302411388619616"
      ]
     },
     "execution_count": 18,
     "metadata": {},
     "output_type": "execute_result"
    }
   ],
   "source": [
    "mutual_information(Label_F3,Label,F3_)"
   ]
  },
  {
   "cell_type": "code",
   "execution_count": 19,
   "metadata": {},
   "outputs": [
    {
     "data": {
      "text/plain": [
       "array([0.31302411])"
      ]
     },
     "execution_count": 19,
     "metadata": {},
     "output_type": "execute_result"
    }
   ],
   "source": [
    "# Testing\n",
    "size = 1000\n",
    "example = [[True] if i < int((F3_[0])*size)  else [False] for i in range(size)]\n",
    "label = ['A' if i < int(Label_F3[0]*size) or i > int(size-(Label_F3[2]*size+1))  else 'B' for i in range(size)]\n",
    "mutual_info_classif(example, label, discrete_features=True)/np.log(2)"
   ]
  },
  {
   "cell_type": "markdown",
   "metadata": {},
   "source": [
    "## Part B"
   ]
  },
  {
   "cell_type": "code",
   "execution_count": 20,
   "metadata": {
    "scrolled": true
   },
   "outputs": [
    {
     "data": {
      "text/plain": [
       "array([0.34144697])"
      ]
     },
     "execution_count": 20,
     "metadata": {},
     "output_type": "execute_result"
    }
   ],
   "source": [
    "mutual_info_classif(F3, y, discrete_features=True)/np.log(2)"
   ]
  },
  {
   "cell_type": "markdown",
   "metadata": {},
   "source": [
    "# Problem 4"
   ]
  },
  {
   "cell_type": "markdown",
   "metadata": {},
   "source": [
    "## Part A"
   ]
  },
  {
   "cell_type": "code",
   "execution_count": 21,
   "metadata": {},
   "outputs": [],
   "source": [
    "F1_F3_True = [.9587,.0413]\n",
    "Label_F3_True = [.789,.211]"
   ]
  },
  {
   "cell_type": "code",
   "execution_count": 22,
   "metadata": {
    "scrolled": true
   },
   "outputs": [
    {
     "name": "stdout",
     "output_type": "stream",
     "text": [
      "[0.78440834, 0.17429166, 0.004588430000000001, 0.036711570000000006] 1.0\n"
     ]
    }
   ],
   "source": [
    "Label_F1_F3_True = []\n",
    "Label_F1_F3_True += [.9587 * .8182] \n",
    "Label_F1_F3_True += [.9587 * .1818]\n",
    "Label_F1_F3_True += [.0413 * .1111]\n",
    "Label_F1_F3_True += [.0413 * .8889]\n",
    "print(Label_F1_F3_True, sum(Label_F1_F3_True))"
   ]
  },
  {
   "cell_type": "code",
   "execution_count": 23,
   "metadata": {},
   "outputs": [
    {
     "data": {
      "text/plain": [
       "0.06686299074387433"
      ]
     },
     "execution_count": 23,
     "metadata": {},
     "output_type": "execute_result"
    }
   ],
   "source": [
    "mutual_information(Label_F1_F3_True,Label_F3_True,F1_F3_True)"
   ]
  },
  {
   "cell_type": "markdown",
   "metadata": {},
   "source": [
    "## Part B"
   ]
  },
  {
   "cell_type": "code",
   "execution_count": 37,
   "metadata": {},
   "outputs": [
    {
     "name": "stdout",
     "output_type": "stream",
     "text": [
      "566\n"
     ]
    },
    {
     "data": {
      "text/plain": [
       "array([0.0582666])"
      ]
     },
     "execution_count": 37,
     "metadata": {},
     "output_type": "execute_result"
    }
   ],
   "source": [
    "indicies = [i for i in range(len(F3)) if F3[i] == [True]]\n",
    "y_sample = [y[j] for j in indicies]\n",
    "print(len(y_sample))\n",
    "x_sample = [F1[k] for k in indicies]\n",
    "mutual_info_classif(x_sample, y_sample, discrete_features=True)/np.log(2)"
   ]
  },
  {
   "cell_type": "markdown",
   "metadata": {},
   "source": [
    "# Problem 5"
   ]
  },
  {
   "cell_type": "markdown",
   "metadata": {},
   "source": [
    "## Part A"
   ]
  },
  {
   "cell_type": "code",
   "execution_count": 25,
   "metadata": {},
   "outputs": [],
   "source": [
    "F1_F3_False = [.0604,.9396]\n",
    "Label_F3_False = [.1538,.8462]"
   ]
  },
  {
   "cell_type": "code",
   "execution_count": 26,
   "metadata": {},
   "outputs": [
    {
     "name": "stdout",
     "output_type": "stream",
     "text": [
      "[0.04941928, 0.01098072, 0.10438956, 0.83521044] 1.0\n"
     ]
    }
   ],
   "source": [
    "Label_F1_F3_False = []\n",
    "Label_F1_F3_False += [.0604 * .8182] \n",
    "Label_F1_F3_False += [.0604 * .1818]\n",
    "Label_F1_F3_False += [.9396 * .1111]\n",
    "Label_F1_F3_False += [.9396 * .8889]\n",
    "print(Label_F1_F3_False, sum(Label_F1_F3_False))"
   ]
  },
  {
   "cell_type": "code",
   "execution_count": 27,
   "metadata": {},
   "outputs": [
    {
     "data": {
      "text/plain": [
       "0.10514666759156843"
      ]
     },
     "execution_count": 27,
     "metadata": {},
     "output_type": "execute_result"
    }
   ],
   "source": [
    "mutual_information(Label_F1_F3_False,Label_F3_False,F1_F3_False)"
   ]
  },
  {
   "cell_type": "markdown",
   "metadata": {},
   "source": [
    "## Part B"
   ]
  },
  {
   "cell_type": "code",
   "execution_count": 28,
   "metadata": {},
   "outputs": [
    {
     "data": {
      "text/plain": [
       "array([0.11679318])"
      ]
     },
     "execution_count": 28,
     "metadata": {},
     "output_type": "execute_result"
    }
   ],
   "source": [
    "indicies = [i for i in range(len(F3)) if F3[i] == [False]]\n",
    "y_sample = [y[j] for j in indicies]\n",
    "x_sample = [F1[k] for k in indicies]\n",
    "mutual_info_classif(x_sample, y_sample, discrete_features=True)/np.log(2)"
   ]
  },
  {
   "cell_type": "markdown",
   "metadata": {},
   "source": [
    "# Problem 6"
   ]
  },
  {
   "cell_type": "markdown",
   "metadata": {},
   "source": [
    "## Part A"
   ]
  },
  {
   "cell_type": "code",
   "execution_count": 29,
   "metadata": {},
   "outputs": [],
   "source": [
    "F3_F1_True = [.95,.05]\n",
    "Label_F1_True = [.8182,.1818]"
   ]
  },
  {
   "cell_type": "code",
   "execution_count": 30,
   "metadata": {},
   "outputs": [
    {
     "name": "stdout",
     "output_type": "stream",
     "text": [
      "[0.77729, 0.17270999999999997, 0.04091, 0.009089999999999999] 1.0\n"
     ]
    }
   ],
   "source": [
    "Label_F3_F1_True = []\n",
    "Label_F3_F1_True += [.95 * .8182] \n",
    "Label_F3_F1_True += [.95 * .1818]\n",
    "Label_F3_F1_True += [.05 * .8182]\n",
    "Label_F3_F1_True += [.05 * .1818]\n",
    "print(Label_F3_F1_True, sum(Label_F3_F1_True))"
   ]
  },
  {
   "cell_type": "code",
   "execution_count": 31,
   "metadata": {},
   "outputs": [
    {
     "data": {
      "text/plain": [
       "0.0"
      ]
     },
     "execution_count": 31,
     "metadata": {},
     "output_type": "execute_result"
    }
   ],
   "source": [
    "mutual_information(Label_F3_F1_True,Label_F1_True,F3_F1_True)"
   ]
  },
  {
   "cell_type": "markdown",
   "metadata": {},
   "source": [
    "## Part B"
   ]
  },
  {
   "cell_type": "code",
   "execution_count": 32,
   "metadata": {},
   "outputs": [
    {
     "data": {
      "text/plain": [
       "array([0.00103186])"
      ]
     },
     "execution_count": 32,
     "metadata": {},
     "output_type": "execute_result"
    }
   ],
   "source": [
    "indicies = [i for i in range(len(F1)) if F1[i] == [True]]\n",
    "y_sample = [y[j] for j in indicies]\n",
    "x_sample = [F3[k] for k in indicies]\n",
    "mutual_info_classif(x_sample, y_sample, discrete_features=True)/np.log(2)"
   ]
  },
  {
   "cell_type": "markdown",
   "metadata": {},
   "source": [
    "# Problem 7"
   ]
  },
  {
   "cell_type": "markdown",
   "metadata": {},
   "source": [
    "## Part A"
   ]
  },
  {
   "cell_type": "code",
   "execution_count": 33,
   "metadata": {},
   "outputs": [],
   "source": [
    "F3_F1_False = [.05,.95]\n",
    "Label_F1_False = [.1111,.8889]"
   ]
  },
  {
   "cell_type": "code",
   "execution_count": 34,
   "metadata": {},
   "outputs": [
    {
     "name": "stdout",
     "output_type": "stream",
     "text": [
      "[0.005555000000000001, 0.044445000000000005, 0.105545, 0.844455] 1.0\n"
     ]
    }
   ],
   "source": [
    "Label_F3_F1_False = []\n",
    "Label_F3_F1_False += [.05 * .1111] \n",
    "Label_F3_F1_False += [.05 * .8889]\n",
    "Label_F3_F1_False += [.95 * .1111]\n",
    "Label_F3_F1_False += [.95 * .8889]\n",
    "print(Label_F3_F1_False, sum(Label_F3_F1_False))"
   ]
  },
  {
   "cell_type": "code",
   "execution_count": 35,
   "metadata": {},
   "outputs": [
    {
     "data": {
      "text/plain": [
       "0.0"
      ]
     },
     "execution_count": 35,
     "metadata": {},
     "output_type": "execute_result"
    }
   ],
   "source": [
    "mutual_information(Label_F3_F1_False,Label_F1_False,F3_F1_False)"
   ]
  },
  {
   "cell_type": "markdown",
   "metadata": {},
   "source": [
    "## Part B"
   ]
  },
  {
   "cell_type": "code",
   "execution_count": 36,
   "metadata": {},
   "outputs": [
    {
     "data": {
      "text/plain": [
       "array([0.00123679])"
      ]
     },
     "execution_count": 36,
     "metadata": {},
     "output_type": "execute_result"
    }
   ],
   "source": [
    "indicies = [i for i in range(len(F1)) if F1[i] == [False]]\n",
    "y_sample = [y[j] for j in indicies]\n",
    "x_sample = [F3[k] for k in indicies]\n",
    "mutual_info_classif(x_sample, y_sample, discrete_features=True)/np.log(2)"
   ]
  }
 ],
 "metadata": {
  "kernelspec": {
   "display_name": "Python 3",
   "language": "python",
   "name": "python3"
  },
  "language_info": {
   "codemirror_mode": {
    "name": "ipython",
    "version": 3
   },
   "file_extension": ".py",
   "mimetype": "text/x-python",
   "name": "python",
   "nbconvert_exporter": "python",
   "pygments_lexer": "ipython3",
   "version": "3.7.1"
  },
  "toc": {
   "base_numbering": 1,
   "nav_menu": {},
   "number_sections": false,
   "sideBar": true,
   "skip_h1_title": false,
   "title_cell": "Table of Contents",
   "title_sidebar": "Contents",
   "toc_cell": false,
   "toc_position": {},
   "toc_section_display": true,
   "toc_window_display": false
  }
 },
 "nbformat": 4,
 "nbformat_minor": 2
}
