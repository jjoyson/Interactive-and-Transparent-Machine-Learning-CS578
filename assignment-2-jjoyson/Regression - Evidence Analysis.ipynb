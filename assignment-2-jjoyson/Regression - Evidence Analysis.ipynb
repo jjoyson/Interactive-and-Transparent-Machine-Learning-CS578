{
 "cells": [
  {
   "cell_type": "code",
   "execution_count": 1,
   "metadata": {},
   "outputs": [],
   "source": [
    "import localutils as lu\n",
    "import numpy as np\n",
    "from sklearn.linear_model import LinearRegression, Ridge, Lasso\n",
    "from sklearn.utils.validation import check_array"
   ]
  },
  {
   "cell_type": "markdown",
   "metadata": {},
   "source": [
    "Implement the evidence_matrix and evidence_array methods in localutils. See the lecture for details."
   ]
  },
  {
   "cell_type": "markdown",
   "metadata": {},
   "source": [
    "# Toy test 1"
   ]
  },
  {
   "cell_type": "code",
   "execution_count": 2,
   "metadata": {},
   "outputs": [],
   "source": [
    "X = [[1, 2, 3], [-1, 2, 3], [1, -2, 3], [-1, 2, 3]]\n",
    "X = check_array(X, accept_sparse=\"csr\")"
   ]
  },
  {
   "cell_type": "code",
   "execution_count": 3,
   "metadata": {},
   "outputs": [
    {
     "data": {
      "text/plain": [
       "array([[ 1,  2,  3],\n",
       "       [-1,  2,  3],\n",
       "       [ 1, -2,  3],\n",
       "       [-1,  2,  3]])"
      ]
     },
     "execution_count": 3,
     "metadata": {},
     "output_type": "execute_result"
    }
   ],
   "source": [
    "X"
   ]
  },
  {
   "cell_type": "code",
   "execution_count": 6,
   "metadata": {},
   "outputs": [
    {
     "data": {
      "text/plain": [
       "(4, 3)"
      ]
     },
     "execution_count": 6,
     "metadata": {},
     "output_type": "execute_result"
    }
   ],
   "source": [
    "X.shape"
   ]
  },
  {
   "cell_type": "code",
   "execution_count": 7,
   "metadata": {},
   "outputs": [],
   "source": [
    "w = np.asarray([-2, 3, -4])"
   ]
  },
  {
   "cell_type": "code",
   "execution_count": 8,
   "metadata": {},
   "outputs": [
    {
     "data": {
      "text/plain": [
       "array([-2,  3, -4])"
      ]
     },
     "execution_count": 8,
     "metadata": {},
     "output_type": "execute_result"
    }
   ],
   "source": [
    "w"
   ]
  },
  {
   "cell_type": "code",
   "execution_count": 9,
   "metadata": {},
   "outputs": [
    {
     "data": {
      "text/plain": [
       "(3,)"
      ]
     },
     "execution_count": 9,
     "metadata": {},
     "output_type": "execute_result"
    }
   ],
   "source": [
    "w.shape"
   ]
  },
  {
   "cell_type": "code",
   "execution_count": 6,
   "metadata": {},
   "outputs": [],
   "source": [
    "M = lu.evidence_matrix(X, w)"
   ]
  },
  {
   "cell_type": "code",
   "execution_count": 7,
   "metadata": {},
   "outputs": [
    {
     "data": {
      "text/plain": [
       "array([[ -2,   6, -12],\n",
       "       [  2,   6, -12],\n",
       "       [ -2,  -6, -12],\n",
       "       [  2,   6, -12]])"
      ]
     },
     "execution_count": 7,
     "metadata": {},
     "output_type": "execute_result"
    }
   ],
   "source": [
    "M"
   ]
  },
  {
   "cell_type": "code",
   "execution_count": 8,
   "metadata": {},
   "outputs": [],
   "source": [
    "ea = lu.evidence_array(M)"
   ]
  },
  {
   "cell_type": "code",
   "execution_count": 9,
   "metadata": {},
   "outputs": [
    {
     "data": {
      "text/plain": [
       "[[-14, 6], [-12, 8], [-20, 0], [-12, 8]]"
      ]
     },
     "execution_count": 9,
     "metadata": {},
     "output_type": "execute_result"
    }
   ],
   "source": [
    "ea"
   ]
  },
  {
   "cell_type": "markdown",
   "metadata": {},
   "source": [
    "# Toy test 2"
   ]
  },
  {
   "cell_type": "markdown",
   "metadata": {},
   "source": [
    "Create your own X and w to test your code."
   ]
  },
  {
   "cell_type": "code",
   "execution_count": 10,
   "metadata": {},
   "outputs": [
    {
     "data": {
      "text/plain": [
       "array([[ 1,  2,  3],\n",
       "       [-1,  2,  3],\n",
       "       [-1, -2,  3],\n",
       "       [-1, -2, -3]])"
      ]
     },
     "execution_count": 10,
     "metadata": {},
     "output_type": "execute_result"
    }
   ],
   "source": [
    "X = [[1, 2, 3], [-1, 2, 3], [-1, -2, 3], [-1, -2, -3]]\n",
    "X = check_array(X, accept_sparse=\"csr\")\n",
    "X"
   ]
  },
  {
   "cell_type": "code",
   "execution_count": 11,
   "metadata": {},
   "outputs": [
    {
     "data": {
      "text/plain": [
       "array([-4, -5, -6])"
      ]
     },
     "execution_count": 11,
     "metadata": {},
     "output_type": "execute_result"
    }
   ],
   "source": [
    "w = np.asarray([-4, -5, -6])\n",
    "w"
   ]
  },
  {
   "cell_type": "code",
   "execution_count": 12,
   "metadata": {},
   "outputs": [
    {
     "data": {
      "text/plain": [
       "array([[ -4, -10, -18],\n",
       "       [  4, -10, -18],\n",
       "       [  4,  10, -18],\n",
       "       [  4,  10,  18]])"
      ]
     },
     "execution_count": 12,
     "metadata": {},
     "output_type": "execute_result"
    }
   ],
   "source": [
    "M = lu.evidence_matrix(X, w)\n",
    "M"
   ]
  },
  {
   "cell_type": "code",
   "execution_count": 13,
   "metadata": {},
   "outputs": [
    {
     "data": {
      "text/plain": [
       "[[-32, 0], [-28, 4], [-18, 14], [0, 32]]"
      ]
     },
     "execution_count": 13,
     "metadata": {},
     "output_type": "execute_result"
    }
   ],
   "source": [
    "ea = lu.evidence_array(M)\n",
    "ea"
   ]
  },
  {
   "cell_type": "markdown",
   "metadata": {},
   "source": [
    "# Real data"
   ]
  },
  {
   "cell_type": "markdown",
   "metadata": {},
   "source": [
    "    1. Load boston house prices dataset"
   ]
  },
  {
   "cell_type": "code",
   "execution_count": 14,
   "metadata": {},
   "outputs": [],
   "source": [
    "from sklearn.datasets import load_boston\n",
    "boston = load_boston()\n",
    "X = boston.data\n",
    "y = boston.target\n",
    "feature_names = boston.feature_names"
   ]
  },
  {
   "cell_type": "markdown",
   "metadata": {},
   "source": [
    "    2. Z-score it using StandardScaler from scikit-learn"
   ]
  },
  {
   "cell_type": "code",
   "execution_count": 15,
   "metadata": {},
   "outputs": [],
   "source": [
    "from sklearn.preprocessing import StandardScaler\n",
    "scalar = StandardScaler()\n",
    "scalar.fit(X,y)\n",
    "Xz = scalar.transform(X)"
   ]
  },
  {
   "cell_type": "markdown",
   "metadata": {},
   "source": [
    "    3. Fit a Lasso regression model"
   ]
  },
  {
   "cell_type": "code",
   "execution_count": 16,
   "metadata": {},
   "outputs": [
    {
     "data": {
      "text/plain": [
       "Lasso(alpha=1.0, copy_X=True, fit_intercept=True, max_iter=1000,\n",
       "   normalize=False, positive=False, precompute=False, random_state=None,\n",
       "   selection='cyclic', tol=0.0001, warm_start=False)"
      ]
     },
     "execution_count": 16,
     "metadata": {},
     "output_type": "execute_result"
    }
   ],
   "source": [
    "from sklearn.linear_model import Lasso\n",
    "m = Lasso()\n",
    "m.fit(Xz, y)"
   ]
  },
  {
   "cell_type": "markdown",
   "metadata": {},
   "source": [
    "    4. Compute the evidence matrix; use the coefficients of Lasso as the weights"
   ]
  },
  {
   "cell_type": "code",
   "execution_count": 17,
   "metadata": {},
   "outputs": [],
   "source": [
    "w = m.coef_\n",
    "em = lu.evidence_matrix(Xz,w)"
   ]
  },
  {
   "cell_type": "markdown",
   "metadata": {},
   "source": [
    "    5. Compute the evidence array"
   ]
  },
  {
   "cell_type": "code",
   "execution_count": 18,
   "metadata": {
    "scrolled": false
   },
   "outputs": [],
   "source": [
    "ea = lu.evidence_array(em)"
   ]
  },
  {
   "cell_type": "markdown",
   "metadata": {},
   "source": [
    "    6. Print \"index, negative evidence, positive evidence\" for top 10 items where negative evidence + positive evidence is close to zero."
   ]
  },
  {
   "cell_type": "code",
   "execution_count": 19,
   "metadata": {},
   "outputs": [
    {
     "name": "stdout",
     "output_type": "stream",
     "text": [
      "INDEX \t  NEGATIVE EVIDENCE \t POSITIVE EVIDENCE\n",
      "----------------------------------------------------\n",
      "355 \t -3.549528710486456 \t 3.556504027097464\n",
      "230 \t -1.173730655729564 \t 1.1969217303157698\n",
      "79 \t -1.7392145444564937 \t 1.8429125478422939\n",
      "155 \t -2.2213931180889217 \t 2.332962150130343\n",
      "505 \t -2.564955253489921 \t 2.450539908788513\n",
      "485 \t -1.0836739935378703 \t 1.1988357814574857\n",
      "37 \t -2.1425923541816614 \t 2.0084865826443306\n",
      "78 \t -0.3553278957273713 \t 0.2144736150458669\n",
      "16 \t -2.932187744074467 \t 3.076295839794152\n",
      "345 \t -1.2601504786474012 \t 1.1119730453916121\n"
     ]
    }
   ],
   "source": [
    "print(\"INDEX\",\"\\t \",\"NEGATIVE EVIDENCE\",\"\\t\",\"POSITIVE EVIDENCE\")\n",
    "print(\"----------------------------------------------------\")\n",
    "for s in sorted(range(len(ea)), key = lambda x: abs(ea[x][1] + ea[x][0]))[:10]:\n",
    "    print(s,\"\\t\",ea[s][0],\"\\t\",ea[s][1])"
   ]
  },
  {
   "cell_type": "markdown",
   "metadata": {},
   "source": [
    "    7. Among top 10, which one has the minimum of the maximum of the absolute value of the evidences?"
   ]
  },
  {
   "cell_type": "code",
   "execution_count": 20,
   "metadata": {},
   "outputs": [
    {
     "name": "stdout",
     "output_type": "stream",
     "text": [
      "78 \t -0.3553278957273713 \t 0.2144736150458669\n"
     ]
    }
   ],
   "source": [
    "for t in sorted(range(len(ea)), key = lambda x: abs(ea[x][1] + ea[x][0]))[:10]:\n",
    "    if max(abs(ea[t][0]),abs(ea[t][1])) < max(abs(ea[s][0]),abs(ea[s][1])):\n",
    "        s = t\n",
    "print(s,\"\\t\",ea[s][0],\"\\t\",ea[s][1])"
   ]
  },
  {
   "cell_type": "markdown",
   "metadata": {},
   "source": [
    "    8. Among top 10, which one has the maximum of the minimum of the absolute value of the evidences?"
   ]
  },
  {
   "cell_type": "code",
   "execution_count": 21,
   "metadata": {},
   "outputs": [
    {
     "name": "stdout",
     "output_type": "stream",
     "text": [
      "355 \t -3.549528710486456 \t 3.556504027097464\n"
     ]
    }
   ],
   "source": [
    "for t in sorted(range(len(ea)), key = lambda x: abs(ea[x][1] + ea[x][0]))[:10]:\n",
    "    if min(abs(ea[t][0]),abs(ea[t][1])) > min(abs(ea[s][0]),abs(ea[s][1])):\n",
    "        s = t\n",
    "print(s,\"\\t\",ea[s][0],\"\\t\",ea[s][1])"
   ]
  },
  {
   "cell_type": "markdown",
   "metadata": {},
   "source": [
    "    9. Discuss your findings."
   ]
  },
  {
   "cell_type": "markdown",
   "metadata": {},
   "source": [
    "It is evident that the maximum of the minimums and minimum of the maximums to be at different indicies. Furthermore, it is interesting that the maximum of the minimums were the largest values independent of the minimum comparison; this is due to finding the top 10 forces the results of neg and pos evidence to be close to each other "
   ]
  }
 ],
 "metadata": {
  "kernelspec": {
   "display_name": "Python 3",
   "language": "python",
   "name": "python3"
  },
  "language_info": {
   "codemirror_mode": {
    "name": "ipython",
    "version": 3
   },
   "file_extension": ".py",
   "mimetype": "text/x-python",
   "name": "python",
   "nbconvert_exporter": "python",
   "pygments_lexer": "ipython3",
   "version": "3.6.8"
  },
  "toc": {
   "base_numbering": 1,
   "nav_menu": {},
   "number_sections": true,
   "sideBar": true,
   "skip_h1_title": false,
   "title_cell": "Table of Contents",
   "title_sidebar": "Contents",
   "toc_cell": false,
   "toc_position": {},
   "toc_section_display": true,
   "toc_window_display": false
  }
 },
 "nbformat": 4,
 "nbformat_minor": 2
}
