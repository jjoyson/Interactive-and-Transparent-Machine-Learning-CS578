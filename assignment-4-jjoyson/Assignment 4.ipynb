{
 "cells": [
  {
   "cell_type": "markdown",
   "metadata": {},
   "source": [
    "# Assignment 4 - Active Learning on the IMDB Dataset\n",
    "\n",
    "In this assignment, you'll perform active learning on the IMDB dataset, where you'll play the role of the expert/teacher and a Multinomial naive Bayes model will play the role of the learner/student."
   ]
  },
  {
   "cell_type": "code",
   "execution_count": 1,
   "metadata": {},
   "outputs": [],
   "source": [
    "import codecs\n",
    "from IPython.core import display\n",
    "import numpy as np\n",
    "import pickle\n",
    "import re\n",
    "from sklearn.feature_extraction.text import CountVectorizer\n",
    "from sklearn.naive_bayes import MultinomialNB"
   ]
  },
  {
   "cell_type": "code",
   "execution_count": 2,
   "metadata": {},
   "outputs": [],
   "source": [
    "# You probably do not need to modify this.\n",
    "def doc2html(doc_raw, w, vocabulary, tokenizer, size_ranges):\n",
    "    html_rep = \"\"\n",
    "    tokens = doc_raw.split(\" \") \n",
    "    seen_tokens = set()\n",
    "    for token in tokens:\n",
    "        vocab_tokens = tokenizer.findall(token.lower())\n",
    "        if len(vocab_tokens) > 0:\n",
    "            vocab_token = vocab_tokens[0]\n",
    "            if vocab_token in vocabulary:\n",
    "                vocab_index = vocabulary[vocab_token]\n",
    "                \n",
    "                ws = \"(%0.2f)\" %w[vocab_index]\n",
    "                #print(ws)\n",
    "\n",
    "                if vocab_index not in seen_tokens:\n",
    "\n",
    "                    if w[vocab_index] > 0: # positive word\n",
    "                        s = np.sum(w[vocab_index] > size_ranges)\n",
    "                        html_rep = html_rep + \"<font size = \" + str(s) + \", color=blue> \" + token + ws + \" </font>\"\n",
    "\n",
    "                    elif w[vocab_index] < 0: # negative word\n",
    "                        s = np.sum(np.abs(w[vocab_index]) > size_ranges)\n",
    "                        html_rep = html_rep + \"<font size = \" + str(s) + \", color=red> \" + token + ws + \" </font>\"\n",
    "\n",
    "                    else: # neutral word\n",
    "                        html_rep = html_rep + \"<font size = 1, color=black> \" + token + \" </font>\"\n",
    "\n",
    "                    seen_tokens.add(vocab_index)\n",
    "\n",
    "                else: # if this is a token we have seen before\n",
    "                    html_rep = html_rep + \"<font size = 1, color=black> \" + token + \" </font>\"\n",
    "            else: # this token does not exist in the vocabulary\n",
    "                html_rep = html_rep + \"<font size = 1, color=gray> \" + token + \" </font>\"\n",
    "        else:\n",
    "            html_rep = html_rep + \"<font size = 1, color=gray> \" + token + \" </font>\"\n",
    "    return html_rep"
   ]
  },
  {
   "cell_type": "code",
   "execution_count": 3,
   "metadata": {},
   "outputs": [],
   "source": [
    "# TODO 1: Modify this variable.\n",
    "# I assume you have the class repository already cloned in your computer; point to the file in that repository.\n",
    "PATH_TO_IMDB_FOLDER = \"../../cs578/notebooks/data\"\n",
    "# Alternatively, you can try using urllib2 with the following url: https://github.com/CS578-S19/CS578/blob/master/notebooks/data/imdb.pickle.z\n",
    "\n",
    "\n",
    "with open(PATH_TO_IMDB_FOLDER+\"/imdb.pickle.z\", 'rb') as f:\n",
    "    compressed_data = f.read()\n",
    "\n",
    "uncompressed_data = codecs.decode(compressed_data, 'zlib_codec')\n",
    "imdb_data = pickle.loads(uncompressed_data)"
   ]
  },
  {
   "cell_type": "code",
   "execution_count": 4,
   "metadata": {},
   "outputs": [],
   "source": [
    "tp = r\"(?u)\\b[\\w\\'/]+\\b\"\n",
    "vect = CountVectorizer(token_pattern=tp, lowercase=True, ngram_range=(1, 1), min_df=100, max_df=0.7, binary=True)"
   ]
  },
  {
   "cell_type": "code",
   "execution_count": 5,
   "metadata": {},
   "outputs": [],
   "source": [
    "X_pool = vect.fit_transform(imdb_data['train_corpus'])\n",
    "X_test = vect.transform(imdb_data['test_corpus'])\n",
    "pool_corpus = imdb_data['train_corpus']"
   ]
  },
  {
   "cell_type": "code",
   "execution_count": 6,
   "metadata": {},
   "outputs": [],
   "source": [
    "# For evaluation purposes\n",
    "y_test = imdb_data['y_test']"
   ]
  },
  {
   "cell_type": "code",
   "execution_count": 7,
   "metadata": {},
   "outputs": [],
   "source": [
    "tokenizer = re.compile(tp)\n",
    "size_ranges = np.linspace(0, 1.5, 8)"
   ]
  },
  {
   "cell_type": "code",
   "execution_count": 8,
   "metadata": {},
   "outputs": [],
   "source": [
    "# TODO 2: Modify this; set it to the last two digits of your A#\n",
    "last_two_digits = 72"
   ]
  },
  {
   "cell_type": "code",
   "execution_count": 9,
   "metadata": {},
   "outputs": [],
   "source": [
    "rand = np.random.RandomState(last_two_digits)\n",
    "candidates = list(rand.permutation(X_pool.shape[0]))"
   ]
  },
  {
   "cell_type": "code",
   "execution_count": 10,
   "metadata": {},
   "outputs": [],
   "source": [
    "# TODO 3: Bootstrap your learning algorithm by labeling at least 5 documents. Go through the objects in the order of candidates.\n",
    "# Modify the train_indices, y_train, and candidates variables accordingly.\n",
    "# Print each document. Here are two examples. Please run the code and your examples will be different."
   ]
  },
  {
   "cell_type": "code",
   "execution_count": 11,
   "metadata": {},
   "outputs": [],
   "source": [
    "# Train is purposefully empty; you'll create it\n",
    "train_indices = []\n",
    "y_train = []"
   ]
  },
  {
   "cell_type": "code",
   "execution_count": 12,
   "metadata": {},
   "outputs": [
    {
     "name": "stdout",
     "output_type": "stream",
     "text": [
      "644\n",
      "I saw this last week after picking up the DVD cheap. I had wanted to see it for ages, finding the plot outline very intriguing. So my disappointment was great, to say the least. I thought the lead actor was very flat. This kind of part required a performance like Johny Depp's in The Ninth Gate (of which this is almost a complete rip-off), but I guess TV budgets don't always stretch to this kind of acting ability.<br /><br />I also the thought the direction was confused and dull, serving only to remind me that Carpenter hasn't done a decent movie since In the Mouth of Madness. As for the story - well, I was disappointed there as well! There was no way it could meet my expectation I guess, but I thought the payoff and explanation was poor, and the way he finally got the film anti-climactic to say the least.<br /><br />This was written by one of the main contributors to AICN, and you can tell he does love his cinema, but I would have liked a better result from such a good initial premise.<br /><br />I took the DVD back to the store the same day!\n"
     ]
    }
   ],
   "source": [
    "c = candidates[0]\n",
    "print(c)\n",
    "print(pool_corpus[c])"
   ]
  },
  {
   "cell_type": "code",
   "execution_count": 13,
   "metadata": {},
   "outputs": [],
   "source": [
    "# Here, I decided  that it is a negative document. \n",
    "y_train.append(0)\n",
    "train_indices.append(c)\n",
    "candidates = candidates[1:]"
   ]
  },
  {
   "cell_type": "code",
   "execution_count": 14,
   "metadata": {},
   "outputs": [
    {
     "name": "stdout",
     "output_type": "stream",
     "text": [
      "5297\n",
      "I saw this movie with my rock climbing instructor, and we found the entire thing so ridiculous as to be beyond pity. (For one, if Stallone is out free-climbing by himself, there's no need to carry any gear, but I guess those dangling carabiners look sorta \"mountain climby,\" so let's throw them in). For those lobotomized folks who think that Colorado looks anything like the Dolomites in Italy (where the movie was filmed), well the Hollywood moguls have got a lot more ridiculous & foul-smelling stuff for you to swallow.\n"
     ]
    }
   ],
   "source": [
    "# Here is another example.\n",
    "c = candidates[0]\n",
    "print(c)\n",
    "print(pool_corpus[c])"
   ]
  },
  {
   "cell_type": "code",
   "execution_count": 15,
   "metadata": {},
   "outputs": [],
   "source": [
    "# Here, I decided  that it is a negative document.\n",
    "y_train.append(0)\n",
    "train_indices.append(c)\n",
    "candidates = candidates[1:]"
   ]
  },
  {
   "cell_type": "code",
   "execution_count": 16,
   "metadata": {},
   "outputs": [],
   "source": [
    "#Continue labeling (at least three more)."
   ]
  },
  {
   "cell_type": "code",
   "execution_count": 17,
   "metadata": {},
   "outputs": [
    {
     "name": "stdout",
     "output_type": "stream",
     "text": [
      "10793\n",
      "I can't believe how awful this movie turned out to be. I feel magnanimous even referring to it as a \"movie\". The acting was flat, the editing was terrible and the plot leaves many major questions unanswered. The premise was OK, if unoriginal: a small group of aliens is living in the US and trying to slowly take over humanity. But it goes rapidly downhill from there. How could they convince a \"human\" to accept an alien as his wife in order to make they alien-human hybrid they require? They show a larval alien but never show what it does. They have a plastic surgeon that can produce perfect looking skin on an industrial scale. They throw in the obligatory huge alien monster with teeth. The ending was almost too painful to watch. I suppose that I'm mostly disappointed that Bruce Boxlietner would have anything to do with this. How could he say to the huge alien monster with teeth, \"Get away from him you son of a b*tch\" with a straight face? It's a long fall from his Babylon 5 days. Avoid this at all costs.\n"
     ]
    }
   ],
   "source": [
    "# Here is another example.\n",
    "c = candidates[0]\n",
    "print(c)\n",
    "print(pool_corpus[c])"
   ]
  },
  {
   "cell_type": "code",
   "execution_count": 18,
   "metadata": {},
   "outputs": [],
   "source": [
    "# Here, I decided  that it is a negative document.\n",
    "y_train.append(0)\n",
    "train_indices.append(c)\n",
    "candidates = candidates[1:]"
   ]
  },
  {
   "cell_type": "code",
   "execution_count": 19,
   "metadata": {
    "scrolled": true
   },
   "outputs": [
    {
     "name": "stdout",
     "output_type": "stream",
     "text": [
      "18736\n",
      "It's a little disconcerting to have a character named Gig Young in a movie...played by Gig Young. But this film is where Gig got his name and also a nice career boost after playing small parts under another name.<br /><br />I'm going to go against the majority of the other comments and state that I really enjoyed this film, mainly because of the vibrant performance of Barbara Stanwyck as Fiona. She was funny, angry, vulnerable, caring, and feisty as the oldest of three daughters whose mother died on the Lusitania, and whose father was later killed during Woar War I. <br /><br />As the \"man\" of the house, Fiona has stood steadfast for years against settling her father's will which would therefore allow a Donald Trump type named Charles Barclay to get the family home. But Fiona's keeping a secret as to why she hates Barclay so much. Geraldine Fitzgerald is the middle, flirty sister, who is married to an Englishman but craves her youngest sister's boyfriend (Gig Young).<br /><br />If you're a Stanwyck fan, this is a no miss.\n"
     ]
    }
   ],
   "source": [
    "# Here is another example.\n",
    "c = candidates[0]\n",
    "print(c)\n",
    "print(pool_corpus[c])"
   ]
  },
  {
   "cell_type": "code",
   "execution_count": 20,
   "metadata": {},
   "outputs": [],
   "source": [
    "# Here, I decided  that it is a positive document.\n",
    "y_train.append(1)\n",
    "train_indices.append(c)\n",
    "candidates = candidates[1:]"
   ]
  },
  {
   "cell_type": "code",
   "execution_count": 21,
   "metadata": {},
   "outputs": [
    {
     "name": "stdout",
     "output_type": "stream",
     "text": [
      "12411\n",
      "Strummer's hippie past was a revelation, but overall this felt like crashing a wake. Campfire stories work best around the intimacy of a campfire. There were just too many semi-boring old friends anecdotes and too much filler stock footage. I love The Clash and Joe for not reuniting and selling their songs until now (FU Mick Jones), but this doc left me wanting..to relate more. Using campfire storytellers without proper explanation of who is telling the anecdote alienates the viewer to some extent. They should have been interviewed on their own. Even using Strummer's 'radio DJ voice' did little to glue the film together. And can someone explain all the flags flying behind the campfire scenes? After the awesome \"Filth And The Fury\" I hoped Temple could deliver. A Joe Strummer doc deserves better.\n"
     ]
    }
   ],
   "source": [
    "# Here is another example.\n",
    "c = candidates[0]\n",
    "print(c)\n",
    "print(pool_corpus[c])"
   ]
  },
  {
   "cell_type": "code",
   "execution_count": 22,
   "metadata": {},
   "outputs": [],
   "source": [
    "# Here, I decided  that it is a negative document.\n",
    "y_train.append(0)\n",
    "train_indices.append(c)\n",
    "candidates = candidates[1:]"
   ]
  },
  {
   "cell_type": "code",
   "execution_count": 23,
   "metadata": {},
   "outputs": [
    {
     "data": {
      "text/plain": [
       "0.50012"
      ]
     },
     "execution_count": 23,
     "metadata": {},
     "output_type": "execute_result"
    }
   ],
   "source": [
    "# TODO 4: Run this.\n",
    "mnb = MultinomialNB()\n",
    "mnb.fit(X_pool[train_indices], y_train)\n",
    "w = mnb.feature_log_prob_[1] - mnb.feature_log_prob_[0]\n",
    "mnb.score(X_test, y_test)"
   ]
  },
  {
   "cell_type": "code",
   "execution_count": 24,
   "metadata": {},
   "outputs": [],
   "source": [
    "# TODO 5: Perform uncertainty sampling for 25 iterations, one document at a time, using uncertainty sampling.\n",
    "# Each time, display the document using display.HTML(doc2html(train_corp[c], w, vect.vocabulary_, tokenizer, size_ranges))\n",
    "# and then label it. Modify the train_indices, y_train, and candidates variables accordingly.\n",
    "# After each labeling, copy and paste the code of TODO 4 and run it."
   ]
  },
  {
   "cell_type": "code",
   "execution_count": 25,
   "metadata": {
    "scrolled": false
   },
   "outputs": [
    {
     "name": "stdout",
     "output_type": "stream",
     "text": [
      "Document 1:\n"
     ]
    },
    {
     "data": {
      "text/html": [
       "<font size = 1, color=gray> In </font><font size = 5, color=red> one(-1.04) </font><font size = 1, color=gray> of </font><font size = 4, color=blue> her(0.75) </font><font size = 1, color=blue> first(0.06) </font><font size = 1, color=blue> movies,(0.06) </font><font size = 1, color=gray> Romy </font><font size = 1, color=gray> Schneider </font><font size = 1, color=blue> shines(0.06) </font><font size = 3, color=red> as(-0.64) </font><font size = 4, color=blue> young(0.75) </font><font size = 1, color=blue> queen(0.06) </font><font size = 1, color=gray> Victoria </font><font size = 1, color=gray> of </font><font size = 1, color=blue> Britain,(0.06) </font><font size = 1, color=black> as </font><font size = 4, color=blue> she(0.75) </font><font size = 1, color=gray> is </font><font size = 1, color=blue> suddenly(0.06) </font><font size = 1, color=blue> put(0.06) </font><font size = 1, color=blue> into(0.06) </font><font size = 1, color=gray> the </font><font size = 1, color=gray> throne </font><font size = 3, color=red> at(-0.64) </font><font size = 1, color=gray> the </font><font size = 1, color=blue> age(0.06) </font><font size = 1, color=gray> of </font><font size = 1, color=blue> 18,(0.06) </font><font size = 1, color=blue> learns(0.06) </font><font size = 1, color=gray> to </font><font size = 1, color=gray> govern </font><font size = 1, color=blue> despite(0.06) </font><font size = 1, color=gray> the </font><font size = 1, color=gray> machinations </font><font size = 1, color=gray> of </font><font size = 1, color=gray> the </font><font size = 1, color=gray> politicians, </font><font size = 1, color=gray> and </font><font size = 1, color=blue> eventually(0.06) </font><font size = 1, color=gray> romances </font><font size = 1, color=gray> and </font><font size = 1, color=gray> marries </font><font size = 1, color=blue> Prince(0.06) </font><font size = 1, color=blue> Albert(0.06) </font><font size = 1, color=gray> of </font><font size = 1, color=gray> Saxony. </font><font size = 1, color=gray> Kitschy </font><font size = 1, color=gray> and </font><font size = 1, color=blue> campy(0.06) </font><font size = 1, color=blue> (though(0.06) </font><font size = 1, color=blue> surprisingly(0.06) </font><font size = 1, color=blue> faithful(0.06) </font><font size = 1, color=gray> to </font><font size = 1, color=gray> the </font><font size = 1, color=blue> real(0.06) </font><font size = 1, color=blue> events),(0.06) </font><font size = 1, color=gray> this </font><font size = 1, color=blue> romantic(0.06) </font><font size = 1, color=blue> piece(0.06) </font><font size = 1, color=gray> is </font><font size = 1, color=gray> irresistible. </font><font size = 1, color=blue> Seeing(0.06) </font><font size = 1, color=gray> this </font><font size = 3, color=red> movie(-0.64) </font><font size = 1, color=blue> about(0.06) </font><font size = 1, color=blue> British(0.06) </font><font size = 1, color=gray> royals </font><font size = 1, color=blue> spoken(0.06) </font><font size = 1, color=gray> in </font><font size = 1, color=blue> German(0.06) </font><font size = 1, color=blue> adds(0.06) </font><font size = 1, color=gray> to </font><font size = 1, color=blue> its(0.06) </font><font size = 1, color=gray> quaint </font><font size = 1, color=blue> charm.(0.06) </font><font size = 2, color=red> On(-0.35) </font><font size = 1, color=gray> that </font><font size = 1, color=blue> front,(0.06) </font><font size = 1, color=black> one </font><font size = 1, color=blue> wonders(0.06) </font><font size = 4, color=blue> why(0.75) </font><font size = 1, color=blue> an(0.06) </font><font size = 1, color=gray> Austrian </font><font size = 1, color=black> movie </font><font size = 5, color=red> was(-0.86) </font><font size = 1, color=blue> made(0.06) </font><font size = 1, color=black> about </font><font size = 1, color=black> an </font><font size = 1, color=blue> English(0.06) </font><font size = 1, color=black> queen; </font><font size = 1, color=gray> but </font><font size = 1, color=blue> then(0.06) </font><font size = 1, color=black> one </font><font size = 1, color=gray> remembers </font><font size = 1, color=gray> that </font><font size = 1, color=gray> in </font><font size = 1, color=gray> 1954, </font><font size = 1, color=gray> Austria </font><font size = 1, color=black> was </font><font size = 1, color=blue> still(0.06) </font><font size = 4, color=blue> under(0.75) </font><font size = 1, color=gray> occupation </font><font size = 2, color=red> by(-0.35) </font><font size = 1, color=gray> allied </font><font size = 1, color=gray> troops, </font><font size = 1, color=blue> including(0.06) </font><font size = 1, color=black> British </font><font size = 1, color=blue> ones.(0.06) </font><font size = 1, color=blue> Maybe(0.06) </font><font size = 1, color=gray> this </font><font size = 1, color=black> was </font><font size = 1, color=black> one </font><font size = 1, color=gray> of </font><font size = 1, color=gray> the </font><font size = 1, color=blue> reasons(0.06) </font><font size = 1, color=gray> for </font><font size = 1, color=gray> the </font><font size = 1, color=blue> existence(0.06) </font><font size = 1, color=gray> of </font><font size = 1, color=gray> this </font><font size = 2, color=red> film.(-0.35) </font>"
      ],
      "text/plain": [
       "<IPython.core.display.HTML object>"
      ]
     },
     "metadata": {},
     "output_type": "display_data"
    },
    {
     "name": "stdout",
     "output_type": "stream",
     "text": [
      "Is this document positive (1) or negative (0)?1\n",
      "\n",
      "This document is classified as positive\n",
      "Acccuracy:  0.50128\n",
      "\n",
      "\n",
      "\n",
      "Document 2:\n"
     ]
    },
    {
     "data": {
      "text/html": [
       "<font size = 1, color=gray> The </font><font size = 1, color=blue> film(0.04) </font><font size = 1, color=blue> notes(0.04) </font><font size = 1, color=blue> describe(0.04) </font><font size = 1, color=gray> the </font><font size = 4, color=red> main(-0.65) </font><font size = 1, color=blue> role(0.04) </font><font size = 4, color=blue> family,(0.74) </font><font size = 2, color=red> as(-0.24) </font><font size = 1, color=gray> Turkish </font><font size = 1, color=gray> immigrants </font><font size = 1, color=blue> which(0.04) </font><font size = 4, color=red> living(-0.65) </font><font size = 1, color=gray> in </font><font size = 1, color=gray> Denmark. </font><font size = 1, color=blue> However,(0.04) </font><font size = 1, color=gray> it </font><font size = 1, color=gray> is </font><font size = 2, color=red> so(-0.36) </font><font size = 1, color=blue> clear(0.04) </font><font size = 1, color=gray> to </font><font size = 1, color=blue> understand(0.04) </font><font size = 1, color=gray> that </font><font size = 1, color=gray> the </font><font size = 1, color=blue> fact(0.04) </font><font size = 1, color=gray> is, </font><font size = 1, color=gray> the </font><font size = 1, color=blue> behavior(0.04) </font><font size = 1, color=gray> and </font><font size = 1, color=gray> the </font><font size = 1, color=blue> culture(0.04) </font><font size = 1, color=blue> point(0.04) </font><font size = 1, color=gray> the </font><font size = 1, color=black> family </font><font size = 1, color=gray> is </font><font size = 1, color=blue> absolute(0.04) </font><font size = 1, color=gray> Kurdish. </font><font size = 1, color=blue> Similar(0.04) </font><font size = 1, color=blue> social(0.04) </font><font size = 1, color=gray> pressures </font><font size = 1, color=gray> and </font><font size = 5, color=red> even(-1.06) </font><font size = 1, color=blue> cultural(0.04) </font><font size = 1, color=blue> murders(0.04) </font><font size = 1, color=blue> keep(0.04) </font><font size = 4, color=blue> going(0.74) </font><font size = 1, color=blue> on(0.04) </font><font size = 1, color=blue> Turkey(0.04) </font><font size = 1, color=blue> today(0.04) </font><font size = 1, color=black> on </font><font size = 1, color=gray> Kurdish </font><font size = 1, color=gray> ethnicity </font><font size = 1, color=gray> societies. </font><font size = 4, color=red> What(-0.65) </font><font size = 1, color=gray> a </font><font size = 1, color=blue> worry...<br(0.04) </font><font size = 1, color=blue> /><br(0.04) </font><font size = 1, color=gray> />It </font><font size = 1, color=gray> is </font><font size = 1, color=gray> widely </font><font size = 1, color=blue> accepted(0.04) </font><font size = 1, color=blue> issue(0.04) </font><font size = 1, color=gray> in </font><font size = 1, color=black> Turkey </font><font size = 1, color=black> today, </font><font size = 1, color=gray> the </font><font size = 1, color=gray> Kurdish </font><font size = 1, color=gray> immigrants </font><font size = 1, color=black> living </font><font size = 1, color=gray> in </font><font size = 1, color=blue> European(0.04) </font><font size = 1, color=blue> Countries(0.04) </font><font size = 1, color=black> today, </font><font size = 1, color=black> which </font><font size = 5, color=red> have(-0.87) </font><font size = 1, color=blue> moved(0.04) </font><font size = 5, color=red> from(-1.06) </font><font size = 1, color=black> Turkey </font><font size = 1, color=blue> at(0.04) </font><font size = 1, color=blue> 70's(0.04) </font><font size = 1, color=blue> are(0.04) </font><font size = 1, color=gray> culturally </font><font size = 1, color=blue> connected(0.04) </font><font size = 1, color=gray> to </font><font size = 1, color=gray> the </font><font size = 1, color=gray> feudal </font><font size = 1, color=blue> moral(0.04) </font><font size = 1, color=gray> laws </font><font size = 1, color=blue> system,(0.04) </font><font size = 1, color=blue> by(0.04) </font><font size = 1, color=blue> growing(0.04) </font><font size = 4, color=blue> daughters(0.74) </font><font size = 1, color=gray> and </font><font size = 1, color=blue> women(0.04) </font><font size = 6, color=blue> under(1.14) </font><font size = 1, color=gray> pressure, </font><font size = 1, color=black> are </font><font size = 1, color=blue> giving(0.04) </font><font size = 1, color=gray> harm </font><font size = 1, color=gray> to </font><font size = 1, color=gray> the </font><font size = 1, color=gray> Turkish </font><font size = 1, color=blue> International(0.04) </font><font size = 1, color=blue> Image.(0.04) </font><font size = 1, color=blue> Also,(0.04) </font><font size = 1, color=black> as </font><font size = 4, color=red> same(-0.65) </font><font size = 1, color=black> as </font><font size = 1, color=gray> widely </font><font size = 1, color=black> accepted </font><font size = 4, color=blue> another(0.74) </font><font size = 1, color=black> issue </font><font size = 1, color=gray> is </font><font size = 1, color=gray> the </font><font size = 1, color=gray> Turkish </font><font size = 1, color=blue> or(0.04) </font><font size = 1, color=gray> Kurdish </font><font size = 1, color=gray> immigrants </font><font size = 1, color=black> on </font><font size = 1, color=blue> these(0.04) </font><font size = 1, color=black> countries </font><font size = 1, color=black> are </font><font size = 1, color=gray> the </font><font size = 1, color=blue> reason(0.04) </font><font size = 1, color=blue> negative(0.04) </font><font size = 1, color=gray> aim </font><font size = 4, color=blue> about(0.74) </font><font size = 1, color=gray> the </font><font size = 1, color=blue> Community(0.04) </font><font size = 1, color=blue> Europe(0.04) </font><font size = 1, color=gray> Nominee. </font>"
      ],
      "text/plain": [
       "<IPython.core.display.HTML object>"
      ]
     },
     "metadata": {},
     "output_type": "display_data"
    },
    {
     "name": "stdout",
     "output_type": "stream",
     "text": [
      "Is this document positive (1) or negative (0)?1\n",
      "\n",
      "This document is classified as positive\n",
      "Acccuracy:  0.5058\n",
      "\n",
      "\n",
      "\n",
      "Document 3:\n"
     ]
    },
    {
     "data": {
      "text/html": [
       "<font size = 1, color=gray> This </font><font size = 1, color=blue> wasn't(0.03) </font><font size = 4, color=blue> funny(0.72) </font><font size = 1, color=gray> in </font><font size = 1, color=gray> 1972. </font><font size = 1, color=blue> It's(0.03) </font><font size = 4, color=red> not(-0.66) </font><font size = 1, color=black> funny </font><font size = 4, color=red> now.<br(-0.66) </font><font size = 3, color=blue> /><br(0.43) </font><font size = 1, color=blue> />Unlike(0.03) </font><font size = 1, color=gray> a </font><font size = 4, color=red> lot(-0.66) </font><font size = 1, color=gray> of </font><font size = 4, color=blue> other(0.72) </font><font size = 1, color=blue> people,(0.03) </font><font size = 1, color=blue> I'm(0.03) </font><font size = 1, color=black> not </font><font size = 1, color=gray> bashing </font><font size = 1, color=gray> the </font><font size = 2, color=blue> film(0.32) </font><font size = 4, color=blue> because(0.72) </font><font size = 1, color=gray> it </font><font size = 1, color=gray> is </font><font size = 1, color=blue> incredibly(0.03) </font><font size = 1, color=gray> sexist </font><font size = 1, color=gray> - </font><font size = 1, color=gray> I </font><font size = 1, color=blue> quote(0.03) </font><font size = 4, color=blue> enjoyed(0.72) </font><font size = 1, color=gray> that </font><font size = 1, color=blue> bit,(0.03) </font><font size = 4, color=blue> or(0.72) </font><font size = 1, color=blue> rather(0.03) </font><font size = 1, color=gray> I </font><font size = 1, color=black> enjoyed </font><font size = 1, color=gray> the </font><font size = 1, color=blue> reaction(0.03) </font><font size = 1, color=gray> it </font><font size = 1, color=gray> generates </font><font size = 1, color=gray> in </font><font size = 1, color=blue> annoying(0.03) </font><font size = 1, color=gray> PC </font><font size = 1, color=black> people </font><font size = 1, color=gray> - </font><font size = 1, color=black> I'm </font><font size = 1, color=gray> bashing </font><font size = 1, color=gray> it </font><font size = 1, color=black> because </font><font size = 1, color=gray> it </font><font size = 1, color=gray> is </font><font size = 1, color=blue> poorly(0.03) </font><font size = 4, color=red> written(-0.66) </font><font size = 1, color=gray> and </font><font size = 1, color=blue> acted.<br(0.03) </font><font size = 1, color=black> /><br </font><font size = 1, color=gray> />The </font><font size = 4, color=red> only(-0.66) </font><font size = 4, color=blue> really(0.72) </font><font size = 1, color=blue> memorable(0.03) </font><font size = 4, color=blue> character(0.72) </font><font size = 1, color=gray> is </font><font size = 1, color=gray> Blakey, </font><font size = 3, color=blue> which(0.43) </font><font size = 4, color=blue> British(0.72) </font><font size = 1, color=black> people </font><font size = 1, color=blue> 25(0.03) </font><font size = 4, color=blue> years(0.72) </font><font size = 4, color=red> old(-0.66) </font><font size = 4, color=blue> will(0.72) </font><font size = 1, color=gray> recognise </font><font size = 1, color=blue> immediately(0.03) </font><font size = 4, color=red> since(-0.66) </font><font size = 5, color=red> he(-1.07) </font><font size = 3, color=red> was(-0.48) </font><font size = 1, color=gray> a </font><font size = 1, color=blue> favourite(0.03) </font><font size = 5, color=red> with(-1.07) </font><font size = 1, color=gray> impressionists </font><font size = 1, color=gray> for </font><font size = 1, color=gray> a </font><font size = 4, color=red> long(-0.66) </font><font size = 1, color=blue> time.<br(0.03) </font><font size = 1, color=black> /><br </font><font size = 4, color=red> />Avoid.<br(-0.66) </font><font size = 1, color=black> /><br </font><font size = 1, color=gray> /> </font>"
      ],
      "text/plain": [
       "<IPython.core.display.HTML object>"
      ]
     },
     "metadata": {},
     "output_type": "display_data"
    },
    {
     "name": "stdout",
     "output_type": "stream",
     "text": [
      "Is this document positive (1) or negative (0)?0\n",
      "\n",
      "This document is classified as negative\n",
      "Acccuracy:  0.50176\n",
      "\n",
      "\n",
      "\n",
      "Document 4:\n"
     ]
    },
    {
     "data": {
      "text/html": [
       "<font size = 1, color=blue> Although(0.04) </font><font size = 1, color=gray> the </font><font size = 1, color=blue> director(0.04) </font><font size = 1, color=blue> tried(the(0.04) </font><font size = 1, color=blue> filming(0.04) </font><font size = 4, color=red> was(-0.65) </font><font size = 4, color=blue> made(0.73) </font><font size = 1, color=gray> in </font><font size = 1, color=gray> Tynisia </font><font size = 1, color=gray> and </font><font size = 1, color=gray> Morocco),this </font><font size = 1, color=blue> attempt(0.04) </font><font size = 1, color=gray> to </font><font size = 1, color=gray> transport </font><font size = 1, color=gray> the </font><font size = 1, color=blue> New(0.04) </font><font size = 1, color=gray> Testament </font><font size = 1, color=gray> in </font><font size = 1, color=gray> the </font><font size = 1, color=blue> screen(0.04) </font><font size = 1, color=blue> failed.The(0.04) </font><font size = 1, color=blue> script(0.04) </font><font size = 4, color=blue> has(0.73) </font><font size = 1, color=blue> serious(0.04) </font><font size = 1, color=gray> inaccuracies </font><font size = 1, color=gray> and </font><font size = 1, color=gray> fantasies,while </font><font size = 1, color=gray> the </font><font size = 1, color=gray> duration </font><font size = 1, color=gray> is </font><font size = 4, color=red> very(-0.65) </font><font size = 5, color=red> long.But(-1.06) </font><font size = 1, color=gray> the </font><font size = 1, color=blue> most(0.04) </font><font size = 1, color=blue> tragic(0.04) </font><font size = 1, color=gray> is </font><font size = 1, color=gray> the </font><font size = 1, color=blue> protagonist(0.04) </font><font size = 1, color=blue> Chris(0.04) </font><font size = 1, color=gray> Sarandon,who </font><font size = 1, color=blue> doesn't(0.04) </font><font size = 1, color=blue> seem(0.04) </font><font size = 1, color=gray> to </font><font size = 4, color=blue> understand(0.73) </font><font size = 1, color=gray> the </font><font size = 1, color=blue> demands(0.04) </font><font size = 1, color=gray> of </font><font size = 2, color=red> his(-0.37) </font><font size = 4, color=blue> role.(0.73) </font>"
      ],
      "text/plain": [
       "<IPython.core.display.HTML object>"
      ]
     },
     "metadata": {},
     "output_type": "display_data"
    },
    {
     "name": "stdout",
     "output_type": "stream",
     "text": [
      "Is this document positive (1) or negative (0)?0\n",
      "\n",
      "This document is classified as negative\n",
      "Acccuracy:  0.5008\n",
      "\n",
      "\n",
      "\n",
      "Document 5:\n"
     ]
    },
    {
     "data": {
      "text/html": [
       "<font size = 1, color=gray> The </font><font size = 1, color=blue> Wooden(0.04) </font><font size = 1, color=blue> Horse(0.04) </font><font size = 1, color=gray> is </font><font size = 1, color=gray> a </font><font size = 5, color=red> very(-1.05) </font><font size = 1, color=blue> clever(0.04) </font><font size = 2, color=red> movie(-0.24) </font><font size = 6, color=blue> about(1.14) </font><font size = 1, color=gray> a </font><font size = 1, color=black> very </font><font size = 1, color=black> clever </font><font size = 1, color=gray> and </font><font size = 1, color=blue> successful(0.04) </font><font size = 1, color=blue> escape(0.04) </font><font size = 1, color=blue> plan(0.04) </font><font size = 1, color=blue> worked(0.04) </font><font size = 5, color=red> out(-1.05) </font><font size = 2, color=blue> by(0.33) </font><font size = 1, color=blue> British(0.04) </font><font size = 1, color=gray> POW's </font><font size = 4, color=blue> during(0.74) </font><font size = 1, color=blue> World(0.04) </font><font size = 4, color=blue> War(0.74) </font><font size = 1, color=blue> II.(0.04) </font><font size = 1, color=gray> It </font><font size = 1, color=gray> is </font><font size = 1, color=blue> superbly(0.04) </font><font size = 4, color=red> acted(-0.65) </font><font size = 7, color=red> with(-1.34) </font><font size = 1, color=gray> a </font><font size = 1, color=gray> wry </font><font size = 1, color=blue> sense(0.04) </font><font size = 1, color=gray> of </font><font size = 1, color=blue> humor,(0.04) </font><font size = 1, color=blue> especially(0.04) </font><font size = 1, color=gray> the </font><font size = 1, color=blue> lines(0.04) </font><font size = 1, color=gray> expressed </font><font size = 1, color=black> by </font><font size = 1, color=gray> the </font><font size = 1, color=gray> acid-tongues </font><font size = 1, color=gray> Leo </font><font size = 1, color=gray> Genn. </font><font size = 1, color=blue> Anthony(0.04) </font><font size = 1, color=gray> Steele </font><font size = 1, color=gray> and </font><font size = 1, color=blue> David(0.04) </font><font size = 1, color=gray> Tomlinson </font><font size = 4, color=blue> (later(0.74) </font><font size = 1, color=blue> George(0.04) </font><font size = 1, color=gray> Banks </font><font size = 1, color=gray> in </font><font size = 1, color=blue> Mary(0.04) </font><font size = 1, color=gray> Poppins) </font><font size = 4, color=blue> are(0.74) </font><font size = 1, color=blue> marvelous(0.04) </font><font size = 1, color=blue> as(0.04) </font><font size = 1, color=gray> the </font><font size = 1, color=blue> two(0.04) </font><font size = 1, color=blue> heroes.(0.04) </font><font size = 1, color=gray> The </font><font size = 4, color=red> direction(-0.65) </font><font size = 1, color=gray> is </font><font size = 1, color=gray> taut </font><font size = 1, color=gray> and </font><font size = 1, color=blue> fast-moving(0.04) </font><font size = 1, color=blue> throughout.(0.04) </font><font size = 1, color=blue> Highly(0.04) </font><font size = 1, color=blue> Recommended.(0.04) </font>"
      ],
      "text/plain": [
       "<IPython.core.display.HTML object>"
      ]
     },
     "metadata": {},
     "output_type": "display_data"
    },
    {
     "name": "stdout",
     "output_type": "stream",
     "text": [
      "Is this document positive (1) or negative (0)?1\n",
      "\n",
      "This document is classified as positive\n",
      "Acccuracy:  0.50368\n",
      "\n",
      "\n",
      "\n",
      "Document 6:\n"
     ]
    },
    {
     "data": {
      "text/html": [
       "<font size = 1, color=gray> \"DÃ´ </font><font size = 1, color=gray> desu </font><font size = 1, color=gray> ka </font><font size = 1, color=gray> den\" </font><font size = 1, color=gray> is </font><font size = 1, color=gray> the </font><font size = 4, color=blue> first(0.73) </font><font size = 1, color=gray> colored </font><font size = 1, color=blue> movie(0.03) </font><font size = 1, color=gray> of </font><font size = 1, color=blue> Master(0.03) </font><font size = 1, color=gray> Akira </font><font size = 1, color=gray> Kurosawa, </font><font size = 1, color=gray> and </font><font size = 4, color=blue> surprisingly(0.73) </font><font size = 1, color=gray> is </font><font size = 5, color=red> not(-1.06) </font><font size = 7, color=blue> about(1.42) </font><font size = 1, color=gray> samurais, </font><font size = 1, color=gray> ronins, </font><font size = 1, color=gray> warlords </font><font size = 1, color=blue> or(0.03) </font><font size = 1, color=gray> battlefields. </font><font size = 1, color=gray> It </font><font size = 1, color=gray> is </font><font size = 1, color=blue> inside(0.03) </font><font size = 1, color=gray> a </font><font size = 2, color=red> very(-0.37) </font><font size = 4, color=red> poor(-0.66) </font><font size = 4, color=blue> community(0.73) </font><font size = 1, color=gray> in </font><font size = 1, color=gray> a </font><font size = 1, color=gray> slum </font><font size = 1, color=gray> in </font><font size = 1, color=gray> Tokyo, </font><font size = 1, color=blue> where(0.03) </font><font size = 1, color=gray> the </font><font size = 1, color=gray> dwellers </font><font size = 6, color=blue> are(1.13) </font><font size = 1, color=gray> homeless </font><font size = 1, color=gray> drunkards, </font><font size = 1, color=gray> beggars, </font><font size = 1, color=gray> tramps, </font><font size = 1, color=gray> abused </font><font size = 4, color=blue> women,(0.73) </font><font size = 1, color=gray> losers. </font><font size = 1, color=gray> I </font><font size = 4, color=red> do(-0.66) </font><font size = 1, color=black> not </font><font size = 1, color=blue> know(0.03) </font><font size = 1, color=gray> the </font><font size = 4, color=blue> reason(0.73) </font><font size = 6, color=blue> why(1.13) </font><font size = 1, color=gray> Kurosawa </font><font size = 1, color=gray> selected </font><font size = 1, color=gray> this </font><font size = 4, color=red> tragic(-0.66) </font><font size = 1, color=blue> theme(0.03) </font><font size = 1, color=gray> and </font><font size = 1, color=blue> environment(0.03) </font><font size = 1, color=gray> to </font><font size = 4, color=blue> put(0.73) </font><font size = 1, color=blue> colors,(0.03) </font><font size = 1, color=gray> but </font><font size = 1, color=blue> indeed(0.03) </font><font size = 5, color=red> they(-1.06) </font><font size = 1, color=black> are </font><font size = 1, color=black> very </font><font size = 1, color=blue> sad(0.03) </font><font size = 4, color=red> stories,(-0.66) </font><font size = 4, color=red> some(-0.66) </font><font size = 1, color=gray> of </font><font size = 4, color=red> them(-0.66) </font><font size = 1, color=blue> heart-breaking.(0.03) </font><font size = 1, color=gray> I </font><font size = 1, color=blue> personally(0.03) </font><font size = 7, color=red> like(-1.35) </font><font size = 1, color=gray> the </font><font size = 1, color=blue> touching(0.03) </font><font size = 4, color=red> story(-0.66) </font><font size = 1, color=gray> of </font><font size = 1, color=gray> the </font><font size = 1, color=blue> boy(0.03) </font><font size = 1, color=gray> and </font><font size = 4, color=red> his(-0.66) </font><font size = 4, color=blue> father(0.73) </font><font size = 1, color=gray> that </font><font size = 1, color=blue> dream(0.03) </font><font size = 4, color=red> with(-0.66) </font><font size = 1, color=gray> a </font><font size = 4, color=blue> house(0.73) </font><font size = 1, color=gray> of </font><font size = 4, color=red> their(-0.66) </font><font size = 4, color=red> own(-0.66) </font><font size = 1, color=gray> and </font><font size = 1, color=blue> built(0.03) </font><font size = 3, color=blue> by(0.55) </font><font size = 1, color=black> them; </font><font size = 1, color=gray> the </font><font size = 1, color=black> story </font><font size = 1, color=gray> of </font><font size = 1, color=gray> the </font><font size = 1, color=blue> retarded(0.03) </font><font size = 1, color=black> boy </font><font size = 1, color=gray> that </font><font size = 1, color=blue> believes(0.03) </font><font size = 7, color=red> he(-1.35) </font><font size = 1, color=gray> pilots </font><font size = 1, color=gray> a </font><font size = 1, color=blue> train;(0.03) </font><font size = 1, color=gray> the </font><font size = 1, color=black> story </font><font size = 1, color=gray> of </font><font size = 1, color=gray> the </font><font size = 4, color=blue> man(0.73) </font><font size = 1, color=gray> that </font><font size = 1, color=gray> raises </font><font size = 1, color=blue> five(0.03) </font><font size = 1, color=blue> children(0.03) </font><font size = 2, color=blue> as(0.26) </font><font size = 2, color=red> if(-0.37) </font><font size = 1, color=black> they </font><font size = 4, color=red> were(-0.66) </font><font size = 1, color=black> their </font><font size = 1, color=black> own </font><font size = 1, color=blue> sons(0.03) </font><font size = 1, color=gray> and </font><font size = 6, color=blue> daughters;(1.13) </font><font size = 1, color=gray> and </font><font size = 1, color=gray> the </font><font size = 1, color=black> story </font><font size = 1, color=gray> of </font><font size = 1, color=gray> the </font><font size = 6, color=blue> young(1.13) </font><font size = 1, color=blue> woman(0.03) </font><font size = 1, color=gray> abused </font><font size = 1, color=black> by </font><font size = 6, color=blue> her(1.13) </font><font size = 1, color=gray> stepfather. </font><font size = 5, color=red> My(-1.06) </font><font size = 1, color=blue> vote(0.03) </font><font size = 1, color=gray> is </font><font size = 1, color=blue> nine.<br(0.03) </font><font size = 1, color=blue> /><br(0.03) </font><font size = 1, color=blue> />Title(0.03) </font><font size = 1, color=blue> (Brazil):(0.03) </font><font size = 1, color=gray> \"Dodeskaden </font><font size = 1, color=blue> Â–(0.03) </font><font size = 1, color=blue> O(0.03) </font><font size = 1, color=gray> Caminho </font><font size = 1, color=gray> da </font><font size = 1, color=gray> Vida\" </font><font size = 1, color=gray> (\"Dodeskaden </font><font size = 1, color=black> Â– </font><font size = 1, color=gray> The </font><font size = 4, color=red> Way(-0.66) </font><font size = 1, color=gray> of </font><font size = 1, color=gray> the </font><font size = 1, color=blue> Life\")(0.03) </font>"
      ],
      "text/plain": [
       "<IPython.core.display.HTML object>"
      ]
     },
     "metadata": {},
     "output_type": "display_data"
    },
    {
     "name": "stdout",
     "output_type": "stream",
     "text": [
      "Is this document positive (1) or negative (0)?1\n",
      "\n",
      "This document is classified as positive\n",
      "Acccuracy:  0.51428\n",
      "\n",
      "\n",
      "\n",
      "Document 7:\n"
     ]
    },
    {
     "data": {
      "text/html": [
       "<font size = 1, color=gray> This </font><font size = 4, color=blue> romantic(0.71) </font><font size = 1, color=blue> adventure(0.02) </font><font size = 1, color=blue> must(0.02) </font><font size = 3, color=red> have(-0.49) </font><font size = 1, color=blue> seemed(0.02) </font><font size = 1, color=gray> shockingly </font><font size = 1, color=gray> subversive </font><font size = 1, color=gray> in </font><font size = 4, color=blue> its(0.71) </font><font size = 4, color=red> day.(-0.67) </font><font size = 1, color=gray> A </font><font size = 1, color=blue> wealthy(0.02) </font><font size = 1, color=blue> upper(0.02) </font><font size = 1, color=blue> class(0.02) </font><font size = 4, color=blue> English(0.71) </font><font size = 4, color=blue> woman(0.71) </font><font size = 1, color=gray> schemes, </font><font size = 1, color=blue> plots(0.02) </font><font size = 1, color=gray> and </font><font size = 1, color=gray> manipulates </font><font size = 1, color=blue> everyone(0.02) </font><font size = 4, color=red> around(-0.67) </font><font size = 7, color=blue> her(1.40) </font><font size = 1, color=gray> for </font><font size = 1, color=black> her </font><font size = 1, color=blue> own(0.02) </font><font size = 1, color=gray> satisfaction. </font><font size = 6, color=blue> She(1.12) </font><font size = 1, color=blue> uses(0.02) </font><font size = 1, color=black> her </font><font size = 1, color=gray> privileged </font><font size = 1, color=blue> position(0.02) </font><font size = 1, color=gray> to </font><font size = 1, color=gray> embark </font><font size = 2, color=blue> on(0.31) </font><font size = 4, color=blue> secret(0.71) </font><font size = 1, color=gray> activities </font><font size = 1, color=gray> of </font><font size = 1, color=gray> a </font><font size = 1, color=gray> decidedly </font><font size = 4, color=red> anti-social(-0.67) </font><font size = 4, color=red> kind.(-0.67) </font><font size = 4, color=red> There's(-0.67) </font><font size = 1, color=gray> a </font><font size = 4, color=blue> clever(0.71) </font><font size = 1, color=blue> sex-role(0.02) </font><font size = 1, color=gray> reversal </font><font size = 2, color=blue> as(0.42) </font><font size = 1, color=black> her </font><font size = 1, color=gray> activities </font><font size = 1, color=blue> prove(0.02) </font><font size = 1, color=black> her </font><font size = 6, color=red> more(-1.08) </font><font size = 1, color=blue> daring(0.02) </font><font size = 1, color=gray> and </font><font size = 1, color=gray> dashing </font><font size = 1, color=blue> than(0.02) </font><font size = 4, color=red> most(-0.67) </font><font size = 1, color=gray> of </font><font size = 1, color=gray> the </font><font size = 1, color=blue> male(0.02) </font><font size = 1, color=blue> characters.(0.02) </font><font size = 1, color=gray> But </font><font size = 1, color=blue> naturally(0.02) </font><font size = 1, color=black> there's </font><font size = 1, color=gray> a </font><font size = 1, color=blue> tall,(0.02) </font><font size = 1, color=blue> dark(0.02) </font><font size = 1, color=gray> and </font><font size = 1, color=blue> handsome(0.02) </font><font size = 1, color=blue> stranger(0.02) </font><font size = 1, color=gray> to </font><font size = 4, color=blue> keep(0.71) </font><font size = 4, color=red> up(-0.67) </font><font size = 1, color=gray> the </font><font size = 6, color=red> love(-1.08) </font><font size = 1, color=blue> interest,(0.02) </font><font size = 1, color=gray> and </font><font size = 1, color=gray> this </font><font size = 1, color=blue> wicked(0.02) </font><font size = 1, color=blue> lady(0.02) </font><font size = 1, color=gray> is </font><font size = 2, color=red> not(-0.39) </font><font size = 1, color=gray> backward </font><font size = 1, color=gray> in </font><font size = 1, color=blue> coming(0.02) </font><font size = 1, color=blue> forward(0.02) </font><font size = 1, color=blue> when(0.02) </font><font size = 1, color=black> she </font><font size = 1, color=blue> meets(0.02) </font><font size = 1, color=gray> the </font><font size = 1, color=blue> right(0.02) </font><font size = 6, color=blue> man.<br(1.12) </font><font size = 2, color=blue> /><br(0.31) </font><font size = 1, color=gray> />The </font><font size = 1, color=gray> wishy-washy </font><font size = 1, color=gray> weakness </font><font size = 1, color=gray> and </font><font size = 1, color=gray> gullibility </font><font size = 1, color=gray> of </font><font size = 1, color=blue> every(0.02) </font><font size = 1, color=blue> other(0.02) </font><font size = 1, color=blue> character(0.02) </font><font size = 4, color=red> make(-0.67) </font><font size = 1, color=gray> the </font><font size = 6, color=red> plot(-1.08) </font><font size = 1, color=blue> unconvincing(0.02) </font><font size = 1, color=gray> in </font><font size = 1, color=gray> the </font><font size = 1, color=blue> extreme,(0.02) </font><font size = 1, color=gray> but </font><font size = 4, color=red> those(-0.67) </font><font size = 4, color=red> who(-0.67) </font><font size = 1, color=gray> thirst </font><font size = 1, color=gray> for </font><font size = 1, color=blue> Romance(0.02) </font><font size = 1, color=blue> will(0.02) </font><font size = 1, color=gray> overlook </font><font size = 1, color=gray> that. </font>"
      ],
      "text/plain": [
       "<IPython.core.display.HTML object>"
      ]
     },
     "metadata": {},
     "output_type": "display_data"
    },
    {
     "name": "stdout",
     "output_type": "stream",
     "text": [
      "Is this document positive (1) or negative (0)?1\n",
      "\n",
      "This document is classified as positive\n",
      "Acccuracy:  0.53364\n",
      "\n",
      "\n",
      "\n",
      "Document 8:\n"
     ]
    },
    {
     "data": {
      "text/html": [
       "<font size = 1, color=gray> I </font><font size = 1, color=blue> didn't(0.00) </font><font size = 1, color=blue> expect(0.00) </font><font size = 1, color=blue> much(0.00) </font><font size = 2, color=red> from(-0.40) </font><font size = 1, color=gray> this, </font><font size = 1, color=gray> but </font><font size = 1, color=gray> I </font><font size = 2, color=red> have(-0.22) </font><font size = 1, color=gray> to </font><font size = 1, color=blue> admit(0.00) </font><font size = 1, color=gray> I </font><font size = 4, color=red> was(-0.84) </font><font size = 1, color=blue> rolling(0.00) </font><font size = 3, color=blue> on(0.51) </font><font size = 1, color=gray> the </font><font size = 1, color=blue> ground(0.00) </font><font size = 1, color=blue> laughing(0.00) </font><font size = 1, color=gray> a </font><font size = 1, color=blue> few(0.00) </font><font size = 1, color=blue> times(0.00) </font><font size = 6, color=blue> during(1.10) </font><font size = 1, color=gray> this </font><font size = 1, color=blue> film.(0.00) </font><font size = 1, color=blue> If(0.00) </font><font size = 7, color=red> you(-1.38) </font><font size = 7, color=blue> are(1.39) </font><font size = 1, color=blue> not(0.00) </font><font size = 1, color=gray> grossly </font><font size = 1, color=gray> offended </font><font size = 1, color=gray> in </font><font size = 1, color=gray> the </font><font size = 6, color=blue> first(1.10) </font><font size = 1, color=blue> ten(0.00) </font><font size = 1, color=blue> minutes,(0.00) </font><font size = 1, color=gray> this </font><font size = 1, color=blue> might(0.00) </font><font size = 6, color=red> be(-1.10) </font><font size = 1, color=gray> a </font><font size = 1, color=black> film </font><font size = 1, color=gray> for </font><font size = 1, color=black> you. </font><font size = 1, color=gray> Ditto </font><font size = 1, color=black> if </font><font size = 1, color=black> you </font><font size = 1, color=black> are </font><font size = 1, color=gray> the </font><font size = 4, color=blue> type(0.70) </font><font size = 1, color=gray> that </font><font size = 2, color=red> would(-0.40) </font><font size = 1, color=blue> enjoy(0.00) </font><font size = 1, color=blue> watching(0.00) </font><font size = 1, color=gray> Amanda </font><font size = 1, color=gray> Peet </font><font size = 1, color=gray> shuffling </font><font size = 1, color=gray> cards </font><font size = 1, color=gray> for </font><font size = 2, color=blue> an(0.41) </font><font size = 1, color=blue> hour(0.00) </font><font size = 1, color=gray> and </font><font size = 1, color=gray> a </font><font size = 1, color=blue> half.(0.00) </font><font size = 2, color=red> It's(-0.40) </font><font size = 1, color=blue> certainly(0.00) </font><font size = 1, color=black> not </font><font size = 1, color=gray> a </font><font size = 1, color=gray> momentous </font><font size = 4, color=red> work(-0.69) </font><font size = 1, color=gray> of </font><font size = 1, color=blue> comedy,(0.00) </font><font size = 1, color=gray> but </font><font size = 1, color=blue> given(0.00) </font><font size = 1, color=gray> the </font><font size = 1, color=blue> low-budget(0.00) </font><font size = 1, color=gray> indy </font><font size = 1, color=gray> genesis </font><font size = 1, color=gray> this </font><font size = 1, color=gray> is </font><font size = 1, color=gray> masterful. </font><font size = 1, color=gray> To </font><font size = 1, color=blue> level(0.00) </font><font size = 1, color=gray> the </font><font size = 4, color=blue> playing(0.70) </font><font size = 1, color=blue> field(0.00) </font><font size = 1, color=gray> for </font><font size = 1, color=blue> comparison,(0.00) </font><font size = 1, color=blue> imagine(0.00) </font><font size = 6, color=red> all(-1.10) </font><font size = 1, color=gray> of </font><font size = 1, color=gray> the </font><font size = 1, color=blue> studio(0.00) </font><font size = 1, color=blue> films(0.00) </font><font size = 2, color=red> with(-0.29) </font><font size = 1, color=blue> their(0.00) </font><font size = 1, color=gray> budgets </font><font size = 1, color=gray> slashed </font><font size = 4, color=blue> by(0.70) </font><font size = 1, color=gray> a </font><font size = 1, color=blue> factor(0.00) </font><font size = 1, color=gray> of </font><font size = 1, color=blue> 100(0.00) </font><font size = 2, color=blue> or(0.41) </font><font size = 1, color=blue> so(0.00) </font><font size = 1, color=gray> and </font><font size = 4, color=red> see(-0.69) </font><font size = 1, color=blue> what(0.00) </font><font size = 1, color=black> you </font><font size = 1, color=blue> get!(0.00) </font><font size = 1, color=blue> Kudos(0.00) </font><font size = 1, color=gray> to </font><font size = 1, color=blue> Peter(0.00) </font><font size = 1, color=gray> Cohen </font><font size = 1, color=gray> and </font><font size = 2, color=red> his(-0.29) </font><font size = 1, color=blue> network(0.00) </font><font size = 1, color=gray> for </font><font size = 4, color=blue> seeing(0.70) </font><font size = 1, color=gray> this </font><font size = 1, color=blue> through.(0.00) </font><font size = 1, color=gray> I </font><font size = 4, color=red> look(-0.69) </font><font size = 4, color=blue> forward(0.70) </font><font size = 1, color=gray> to </font><font size = 1, color=black> his </font><font size = 1, color=blue> next(0.00) </font><font size = 1, color=blue> effort.(0.00) </font>"
      ],
      "text/plain": [
       "<IPython.core.display.HTML object>"
      ]
     },
     "metadata": {},
     "output_type": "display_data"
    },
    {
     "name": "stdout",
     "output_type": "stream",
     "text": [
      "Is this document positive (1) or negative (0)?1\n",
      "\n",
      "This document is classified as positive\n",
      "Acccuracy:  0.56324\n",
      "\n",
      "\n",
      "\n",
      "Document 9:\n"
     ]
    },
    {
     "data": {
      "text/html": [
       "<font size = 1, color=red> Wow!(-0.01) </font><font size = 2, color=red> I'm(-0.42) </font><font size = 1, color=red> shocked(-0.01) </font><font size = 1, color=gray> to </font><font size = 1, color=red> learn(-0.01) </font><font size = 1, color=gray> that </font><font size = 1, color=red> it's(-0.01) </font><font size = 1, color=gray> a </font><font size = 1, color=red> small(-0.01) </font><font size = 4, color=blue> world(0.68) </font><font size = 1, color=gray> and </font><font size = 1, color=gray> that </font><font size = 4, color=red> we(-0.71) </font><font size = 8, color=blue> are(1.60) </font><font size = 2, color=red> all(-0.42) </font><font size = 1, color=gray> interconnected. </font><font size = 2, color=blue> What(0.39) </font><font size = 1, color=gray> a </font><font size = 1, color=red> waste(-0.01) </font><font size = 1, color=gray> of </font><font size = 1, color=gray> 88 </font><font size = 4, color=blue> minutes.(0.68) </font><font size = 1, color=red> John(-0.01) </font><font size = 1, color=gray> Dunne </font><font size = 6, color=blue> put(1.09) </font><font size = 1, color=gray> it </font><font size = 2, color=blue> much(0.39) </font><font size = 6, color=red> better(-1.11) </font><font size = 1, color=gray> in </font><font size = 2, color=red> one(-0.42) </font><font size = 1, color=red> sentence.(-0.01) </font><font size = 2, color=red> \"No(-0.42) </font><font size = 7, color=blue> man(1.37) </font><font size = 1, color=gray> is </font><font size = 4, color=blue> an(0.68) </font><font size = 1, color=red> island.\"(-0.01) </font><font size = 1, color=gray> The </font><font size = 6, color=red> acting(-1.11) </font><font size = 4, color=red> wasn't(-0.71) </font><font size = 1, color=red> bad.(-0.01) </font><font size = 1, color=gray> The </font><font size = 1, color=red> kids(-0.01) </font><font size = 1, color=red> gave(-0.01) </font><font size = 1, color=gray> it </font><font size = 1, color=black> all </font><font size = 2, color=red> they(-0.42) </font><font size = 4, color=red> had(-0.71) </font><font size = 1, color=gray> but </font><font size = 2, color=blue> at(0.39) </font><font size = 4, color=blue> times(0.68) </font><font size = 1, color=gray> the </font><font size = 1, color=gray> thread </font><font size = 2, color=red> got(-0.42) </font><font size = 2, color=blue> so(0.27) </font><font size = 1, color=red> thin(-0.01) </font><font size = 1, color=gray> I </font><font size = 1, color=red> couldn't(-0.01) </font><font size = 1, color=red> follow(-0.01) </font><font size = 1, color=gray> it </font><font size = 1, color=gray> and </font><font size = 1, color=gray> the </font><font size = 6, color=red> only(-1.11) </font><font size = 4, color=blue> real(0.68) </font><font size = 1, color=red> \"hero\"(-0.01) </font><font size = 1, color=gray> in </font><font size = 1, color=gray> the </font><font size = 1, color=blue> film(0.21) </font><font size = 1, color=red> ends(-0.01) </font><font size = 1, color=red> up(-0.01) </font><font size = 1, color=gray> in </font><font size = 1, color=red> jail(-0.01) </font><font size = 2, color=red> after(-0.42) </font><font size = 1, color=red> being(-0.01) </font><font size = 1, color=gray> tormented </font><font size = 4, color=blue> by(0.83) </font><font size = 1, color=gray> a </font><font size = 1, color=gray> meter </font><font size = 1, color=gray> maid. </font><font size = 1, color=gray> I </font><font size = 4, color=red> don't(-0.71) </font><font size = 4, color=blue> know.(0.68) </font><font size = 1, color=gray> I </font><font size = 4, color=red> just(-0.71) </font><font size = 1, color=black> don't </font><font size = 2, color=blue> get(0.39) </font><font size = 1, color=gray> it. </font><font size = 1, color=red> Oh(-0.01) </font><font size = 6, color=red> well.(-1.11) </font>"
      ],
      "text/plain": [
       "<IPython.core.display.HTML object>"
      ]
     },
     "metadata": {},
     "output_type": "display_data"
    },
    {
     "name": "stdout",
     "output_type": "stream",
     "text": [
      "Is this document positive (1) or negative (0)?0\n",
      "\n",
      "This document is classified as negative\n",
      "Acccuracy:  0.54556\n",
      "\n",
      "\n",
      "\n",
      "Document 10:\n"
     ]
    },
    {
     "data": {
      "text/html": [
       "<font size = 1, color=red> Jerry(-0.00) </font><font size = 1, color=gray> spies </font><font size = 1, color=red> Tom(-0.00) </font><font size = 1, color=red> listening(-0.00) </font><font size = 1, color=gray> to </font><font size = 1, color=gray> a </font><font size = 1, color=red> creepy(-0.00) </font><font size = 1, color=red> story(-0.00) </font><font size = 4, color=blue> on(0.69) </font><font size = 1, color=gray> the </font><font size = 4, color=red> radio(-0.69) </font><font size = 1, color=gray> and </font><font size = 1, color=gray> seizes </font><font size = 1, color=gray> the </font><font size = 1, color=red> opportunity(-0.00) </font><font size = 1, color=gray> to </font><font size = 1, color=red> scare(-0.00) </font><font size = 1, color=red> his(-0.00) </font><font size = 1, color=gray> nemesis.<br </font><font size = 3, color=blue> /><br(0.51) </font><font size = 1, color=gray> />I </font><font size = 4, color=blue> didn't(0.69) </font><font size = 1, color=red> find(-0.00) </font><font size = 1, color=gray> this </font><font size = 1, color=red> particular(-0.00) </font><font size = 1, color=red> episode(-0.00) </font><font size = 1, color=gray> that </font><font size = 1, color=red> funny:(-0.00) </font><font size = 1, color=gray> the </font><font size = 1, color=red> humour(-0.00) </font><font size = 4, color=blue> seemed(0.69) </font><font size = 4, color=red> rather(-0.69) </font><font size = 1, color=gray> constrained </font><font size = 1, color=gray> and </font><font size = 1, color=gray> the </font><font size = 1, color=red> whole(-0.00) </font><font size = 1, color=red> set(-0.00) </font><font size = 2, color=red> up(-0.41) </font><font size = 3, color=red> was(-0.56) </font><font size = 1, color=red> kinda(-0.00) </font><font size = 1, color=red> lame(-0.00) </font><font size = 1, color=black> (Jerry </font><font size = 1, color=gray> is </font><font size = 1, color=red> essentially(-0.00) </font><font size = 1, color=gray> the </font><font size = 4, color=red> 'bad(-0.69) </font><font size = 1, color=red> guy'(-0.00) </font><font size = 1, color=gray> in </font><font size = 1, color=gray> this </font><font size = 4, color=red> one,(-0.69) </font><font size = 1, color=gray> tormenting </font><font size = 1, color=red> poor(-0.00) </font><font size = 1, color=black> Tom </font><font size = 1, color=gray> for </font><font size = 4, color=red> no(-0.69) </font><font size = 1, color=black> particular </font><font size = 6, color=blue> reason).<br(1.10) </font><font size = 1, color=black> /><br </font><font size = 7, color=red> />There(-1.39) </font><font size = 1, color=gray> is </font><font size = 1, color=gray> the </font><font size = 1, color=red> occasional(-0.00) </font><font size = 1, color=red> flash(-0.00) </font><font size = 1, color=gray> of </font><font size = 1, color=red> inspiration(-0.00) </font><font size = 4, color=red> (such(-0.69) </font><font size = 3, color=blue> as(0.56) </font><font size = 1, color=gray> Tom's </font><font size = 1, color=gray> literal </font><font size = 4, color=blue> 'heart(0.69) </font><font size = 1, color=gray> in </font><font size = 4, color=red> mouth'(-0.69) </font><font size = 1, color=red> experience,(-0.00) </font><font size = 1, color=gray> and </font><font size = 1, color=gray> the </font><font size = 1, color=red> moment(-0.00) </font><font size = 4, color=blue> when(0.69) </font><font size = 1, color=black> his </font><font size = 1, color=gray> nines </font><font size = 1, color=red> lives(-0.00) </font><font size = 5, color=blue> are(0.92) </font><font size = 1, color=red> sucked(-0.00) </font><font size = 2, color=red> out(-0.41) </font><font size = 1, color=gray> of </font><font size = 1, color=black> his </font><font size = 1, color=red> body),(-0.00) </font><font size = 1, color=gray> but, </font><font size = 1, color=black> on </font><font size = 1, color=gray> the </font><font size = 1, color=black> whole, </font><font size = 1, color=gray> this </font><font size = 4, color=blue> effort(0.69) </font><font size = 1, color=red> lacks(-0.00) </font><font size = 1, color=gray> the </font><font size = 1, color=gray> frenetic </font><font size = 1, color=red> pacing,(-0.00) </font><font size = 1, color=red> excellent(-0.00) </font><font size = 1, color=red> animation(-0.00) </font><font size = 1, color=gray> and </font><font size = 1, color=red> sheer(-0.00) </font><font size = 1, color=red> wit(-0.00) </font><font size = 1, color=gray> of </font><font size = 1, color=red> most(-0.00) </font><font size = 1, color=gray> of </font><font size = 1, color=red> T&J's(-0.00) </font><font size = 2, color=blue> other(0.40) </font><font size = 1, color=red> cartoons.(-0.00) </font>"
      ],
      "text/plain": [
       "<IPython.core.display.HTML object>"
      ]
     },
     "metadata": {},
     "output_type": "display_data"
    },
    {
     "name": "stdout",
     "output_type": "stream",
     "text": [
      "Is this document positive (1) or negative (0)?0\n",
      "\n",
      "This document is classified as negative\n",
      "Acccuracy:  0.53068\n",
      "\n",
      "\n",
      "\n",
      "Document 11:\n"
     ]
    },
    {
     "data": {
      "text/html": [
       "<font size = 1, color=blue> Once(0.01) </font><font size = 1, color=blue> again(0.01) </font><font size = 1, color=gray> the </font><font size = 4, color=blue> two(0.71) </font><font size = 1, color=gray> bickering </font><font size = 1, color=gray> professors </font><font size = 4, color=blue> must(0.71) </font><font size = 1, color=blue> join(0.01) </font><font size = 4, color=red> together(-0.68) </font><font size = 1, color=gray> to </font><font size = 1, color=blue> save(0.01) </font><font size = 1, color=gray> the </font><font size = 1, color=blue> lost(0.01) </font><font size = 1, color=blue> world.(0.01) </font><font size = 1, color=gray> The </font><font size = 4, color=blue> five(0.71) </font><font size = 1, color=blue> members(0.01) </font><font size = 1, color=gray> of </font><font size = 1, color=gray> the </font><font size = 7, color=blue> first(1.40) </font><font size = 1, color=gray> expedition </font><font size = 1, color=blue> return(0.01) </font><font size = 1, color=blue> (see(0.01) </font><font size = 1, color=gray> The </font><font size = 1, color=black> Lost </font><font size = 1, color=black> World, </font><font size = 1, color=gray> 1992, </font><font size = 1, color=gray> for </font><font size = 1, color=gray> a </font><font size = 1, color=blue> list(0.01) </font><font size = 1, color=gray> of </font><font size = 1, color=blue> actors).(0.01) </font><font size = 1, color=gray> A </font><font size = 4, color=blue> man(0.71) </font><font size = 1, color=blue> seeking(0.01) </font><font size = 1, color=blue> oil(0.01) </font><font size = 1, color=blue> brings(0.01) </font><font size = 1, color=gray> a </font><font size = 1, color=gray> drilling </font><font size = 1, color=blue> crew(0.01) </font><font size = 1, color=gray> to </font><font size = 1, color=gray> the </font><font size = 1, color=gray> plateau. </font><font size = 1, color=blue> Instead(0.01) </font><font size = 1, color=gray> of </font><font size = 1, color=blue> striking(0.01) </font><font size = 1, color=black> oil </font><font size = 4, color=red> they(-0.68) </font><font size = 1, color=gray> tap </font><font size = 2, color=blue> an(0.30) </font><font size = 1, color=blue> underground(0.01) </font><font size = 1, color=gray> volcano </font><font size = 1, color=blue> which(0.01) </font><font size = 1, color=gray> threatens </font><font size = 4, color=red> all(-0.68) </font><font size = 4, color=blue> life(0.71) </font><font size = 1, color=gray> in </font><font size = 1, color=gray> the </font><font size = 1, color=black> Lost </font><font size = 1, color=black> World. </font><font size = 1, color=gray> The </font><font size = 1, color=black> oil </font><font size = 1, color=black> crew </font><font size = 1, color=gray> clash </font><font size = 1, color=blue> with(0.01) </font><font size = 1, color=gray> the </font><font size = 1, color=blue> native(0.01) </font><font size = 4, color=red> people(-0.68) </font><font size = 1, color=gray> and </font><font size = 1, color=gray> the </font><font size = 1, color=blue> scientific(0.01) </font><font size = 1, color=gray> expedition. </font><font size = 4, color=red> Although(-0.68) </font><font size = 1, color=gray> the </font><font size = 1, color=blue> situation(0.01) </font><font size = 4, color=red> looks(-0.68) </font><font size = 1, color=gray> hopeless.... </font><font size = 4, color=red> (I'm(-0.68) </font><font size = 2, color=blue> not(0.30) </font><font size = 6, color=blue> going(1.11) </font><font size = 1, color=gray> to </font><font size = 4, color=red> tell(-0.68) </font><font size = 4, color=red> you(-0.68) </font><font size = 1, color=gray> the </font><font size = 4, color=red> ending).(-0.68) </font>"
      ],
      "text/plain": [
       "<IPython.core.display.HTML object>"
      ]
     },
     "metadata": {},
     "output_type": "display_data"
    },
    {
     "name": "stdout",
     "output_type": "stream",
     "text": [
      "Is this document positive (1) or negative (0)?1\n",
      "\n",
      "This document is classified as positive\n",
      "Acccuracy:  0.54524\n",
      "\n",
      "\n",
      "\n",
      "Document 12:\n"
     ]
    },
    {
     "data": {
      "text/html": [
       "<font size = 4, color=red> Need(-0.69) </font><font size = 1, color=gray> I </font><font size = 6, color=red> say--its(-1.10) </font><font size = 1, color=gray> a </font><font size = 1, color=blue> stinker!(0.00) </font><font size = 1, color=gray> (I </font><font size = 4, color=red> gave(-0.69) </font><font size = 1, color=gray> it </font><font size = 1, color=gray> a </font><font size = 1, color=blue> rating(0.00) </font><font size = 1, color=gray> of </font><font size = 1, color=blue> 2)<br(0.00) </font><font size = 2, color=blue> /><br(0.23) </font><font size = 7, color=red> />Only(-1.38) </font><font size = 4, color=red> watch(-0.69) </font><font size = 1, color=gray> it </font><font size = 2, color=blue> if(0.29) </font><font size = 2, color=red> you(-0.28) </font><font size = 1, color=blue> suffer(0.00) </font><font size = 1, color=blue> from(0.00) </font><font size = 1, color=gray> insomnia.<br </font><font size = 1, color=black> /><br </font><font size = 1, color=blue> />There's(0.00) </font><font size = 1, color=blue> plenty(0.00) </font><font size = 1, color=gray> of </font><font size = 1, color=blue> scenery(0.00) </font><font size = 1, color=gray> chewing </font><font size = 1, color=gray> and </font><font size = 1, color=gray> hamming </font><font size = 1, color=gray> it </font><font size = 4, color=red> up,(-0.69) </font><font size = 1, color=gray> but </font><font size = 3, color=blue> not(0.51) </font><font size = 1, color=blue> much(0.00) </font><font size = 1, color=blue> else(0.00) </font><font size = 1, color=blue> happens(0.00) </font><font size = 1, color=gray> in </font><font size = 1, color=gray> this </font><font size = 2, color=blue> movie.(0.23) </font><font size = 8, color=red> There(-1.61) </font><font size = 1, color=gray> is </font><font size = 5, color=red> no(-0.91) </font><font size = 1, color=blue> suspense,(0.00) </font><font size = 1, color=black> no </font><font size = 1, color=blue> deep,(0.00) </font><font size = 1, color=blue> shocking(0.00) </font><font size = 1, color=blue> secrets(0.00) </font><font size = 1, color=blue> revealed,(0.00) </font><font size = 1, color=black> no </font><font size = 1, color=blue> real(0.00) </font><font size = 1, color=blue> threat(0.00) </font><font size = 1, color=gray> to </font><font size = 1, color=gray> the </font><font size = 1, color=gray> heroine's </font><font size = 7, color=red> well(-1.38) </font><font size = 4, color=red> being.(-0.69) </font><font size = 1, color=gray> A </font><font size = 4, color=blue> few(0.70) </font><font size = 1, color=gray> disagreements, </font><font size = 1, color=blue> slight(0.00) </font><font size = 1, color=gray> raising </font><font size = 1, color=gray> of </font><font size = 1, color=blue> voices--that's(0.00) </font><font size = 1, color=blue> pretty(0.00) </font><font size = 1, color=black> much </font><font size = 1, color=gray> it. </font><font size = 1, color=gray> The </font><font size = 1, color=black> secrets </font><font size = 3, color=blue> are(0.51) </font><font size = 1, color=blue> nothing(0.00) </font><font size = 1, color=gray> that </font><font size = 4, color=red> couldn't(-0.69) </font><font size = 1, color=blue> happen(0.00) </font><font size = 1, color=gray> to </font><font size = 1, color=blue> anybody(0.00) </font><font size = 1, color=gray> - </font><font size = 1, color=gray> the </font><font size = 4, color=red> last(-0.69) </font><font size = 6, color=blue> \"secret\"(1.10) </font><font size = 1, color=black> revealed </font><font size = 1, color=gray> in </font><font size = 1, color=gray> the </font><font size = 1, color=blue> film(0.00) </font><font size = 1, color=gray> is </font><font size = 1, color=blue> totally(0.00) </font><font size = 1, color=blue> predictable(0.00) </font><font size = 3, color=blue> by(0.56) </font><font size = 1, color=gray> that </font><font size = 4, color=blue> point.<br(0.70) </font><font size = 1, color=black> /><br </font><font size = 1, color=gray> />The </font><font size = 2, color=red> plot,(-0.40) </font><font size = 6, color=red> such(-1.10) </font><font size = 2, color=blue> as(0.34) </font><font size = 1, color=gray> it </font><font size = 1, color=gray> is, </font><font size = 1, color=blue> revolves(0.00) </font><font size = 1, color=blue> around(0.00) </font><font size = 1, color=gray> a </font><font size = 7, color=blue> young(1.39) </font><font size = 6, color=blue> woman(1.10) </font><font size = 4, color=blue> named(0.70) </font><font size = 1, color=blue> Faith(0.00) </font><font size = 1, color=gray> (Meg </font><font size = 1, color=gray> Tilly), </font><font size = 2, color=red> who(-0.28) </font><font size = 1, color=gray> is </font><font size = 3, color=blue> an(0.51) </font><font size = 1, color=blue> artist,(0.00) </font><font size = 1, color=black> who </font><font size = 1, color=gray> is </font><font size = 1, color=blue> hired(0.00) </font><font size = 1, color=gray> to </font><font size = 1, color=blue> paint(0.00) </font><font size = 1, color=gray> a </font><font size = 1, color=blue> series(0.00) </font><font size = 1, color=gray> of </font><font size = 1, color=gray> mural </font><font size = 1, color=gray> panels </font><font size = 1, color=gray> in </font><font size = 1, color=gray> a </font><font size = 4, color=red> huge(-0.69) </font><font size = 1, color=gray> ballroom </font><font size = 1, color=gray> in </font><font size = 1, color=gray> a </font><font size = 1, color=gray> vast </font><font size = 1, color=blue> mansion(0.00) </font><font size = 1, color=black> by </font><font size = 1, color=gray> a </font><font size = 1, color=blue> very,(0.00) </font><font size = 1, color=black> very </font><font size = 4, color=blue> wealthy,(0.70) </font><font size = 1, color=blue> older(0.00) </font><font size = 1, color=gray> widowed </font><font size = 1, color=black> woman, </font><font size = 1, color=gray> and </font><font size = 1, color=gray> a </font><font size = 4, color=blue> growing(0.70) </font><font size = 1, color=gray> mother/daughter </font><font size = 6, color=blue> type(1.10) </font><font size = 1, color=blue> relationship(0.00) </font><font size = 1, color=gray> that </font><font size = 1, color=gray> the </font><font size = 1, color=black> older </font><font size = 1, color=black> woman </font><font size = 1, color=gray> craves </font><font size = 2, color=blue> with(0.23) </font><font size = 8, color=blue> her.<br(1.61) </font><font size = 1, color=black> /><br </font><font size = 1, color=gray> />It </font><font size = 1, color=blue> turns(0.00) </font><font size = 4, color=red> out(-0.69) </font><font size = 1, color=gray> the </font><font size = 1, color=black> older </font><font size = 1, color=blue> woman's(0.00) </font><font size = 1, color=blue> daughter,(0.00) </font><font size = 1, color=gray> Cassandra, </font><font size = 1, color=gray> is </font><font size = 1, color=blue> dead.(0.00) </font><font size = 1, color=black> You </font><font size = 7, color=red> can(-1.38) </font><font size = 1, color=black> pretty </font><font size = 1, color=black> well </font><font size = 1, color=blue> fit(0.00) </font><font size = 1, color=gray> the </font><font size = 1, color=blue> rest(0.00) </font><font size = 1, color=gray> of </font><font size = 1, color=gray> the </font><font size = 1, color=blue> pieces(0.00) </font><font size = 1, color=blue> together.<br(0.00) </font><font size = 1, color=black> /><br </font><font size = 2, color=red> />Even(-0.40) </font><font size = 1, color=gray> the </font><font size = 1, color=blue> scene(0.00) </font><font size = 1, color=black> with </font><font size = 1, color=gray> the </font><font size = 1, color=blue> mysterious(0.00) </font><font size = 5, color=blue> man(0.92) </font><font size = 1, color=blue> menacing(0.00) </font><font size = 1, color=blue> our(0.00) </font><font size = 1, color=blue> heroine(0.00) </font><font size = 6, color=red> does(-1.10) </font><font size = 1, color=black> not </font><font size = 1, color=blue> advance(0.00) </font><font size = 1, color=gray> to </font><font size = 1, color=gray> the </font><font size = 1, color=black> point </font><font size = 2, color=blue> where(0.41) </font><font size = 1, color=black> you </font><font size = 1, color=blue> really(0.00) </font><font size = 1, color=blue> fear(0.00) </font><font size = 1, color=gray> for </font><font size = 1, color=black> her </font><font size = 1, color=gray> safety </font><font size = 4, color=red> beyond(-0.69) </font><font size = 4, color=blue> maybe(0.70) </font><font size = 1, color=gray> a </font><font size = 1, color=blue> second(0.00) </font><font size = 4, color=blue> or(0.70) </font><font size = 6, color=blue> two.(1.10) </font><font size = 7, color=blue> Why(1.39) </font><font size = 1, color=blue> he's(0.00) </font><font size = 4, color=blue> still(0.70) </font><font size = 1, color=blue> hanging(0.00) </font><font size = 1, color=black> around </font><font size = 1, color=blue> years(0.00) </font><font size = 4, color=red> after(-0.69) </font><font size = 1, color=gray> Cassandra's </font><font size = 1, color=blue> death(0.00) </font><font size = 1, color=gray> is </font><font size = 1, color=gray> a </font><font size = 4, color=red> good(-0.69) </font><font size = 1, color=blue> question.<br(0.00) </font><font size = 1, color=black> /><br </font><font size = 1, color=black> />There's </font><font size = 2, color=blue> also(0.41) </font><font size = 1, color=gray> the </font><font size = 1, color=black> question </font><font size = 1, color=gray> of </font><font size = 1, color=gray> the </font><font size = 4, color=blue> fact(0.70) </font><font size = 1, color=gray> that </font><font size = 1, color=gray> in </font><font size = 1, color=gray> this </font><font size = 1, color=gray> vast </font><font size = 1, color=black> mansion </font><font size = 1, color=black> there </font><font size = 1, color=gray> is </font><font size = 1, color=black> only </font><font size = 5, color=red> one(-0.91) </font><font size = 1, color=gray> servant, </font><font size = 1, color=gray> a </font><font size = 4, color=blue> faithful(0.70) </font><font size = 1, color=gray> butler </font><font size = 1, color=black> who </font><font size = 1, color=blue> seems(0.00) </font><font size = 1, color=gray> to </font><font size = 1, color=blue> do(0.00) </font><font size = 1, color=blue> everything--cooking,(0.00) </font><font size = 1, color=gray> cleaning, </font><font size = 1, color=gray> serving </font><font size = 1, color=gray> the </font><font size = 1, color=gray> meal, </font><font size = 1, color=gray> answering </font><font size = 1, color=gray> the </font><font size = 1, color=blue> door,(0.00) </font><font size = 1, color=blue> etc.(0.00) </font><font size = 1, color=black> Everything </font><font size = 1, color=blue> except(0.00) </font><font size = 1, color=blue> apparently(0.00) </font><font size = 1, color=gray> locking </font><font size = 1, color=gray> the </font><font size = 1, color=black> door--since </font><font size = 1, color=gray> that </font><font size = 1, color=blue> would(0.00) </font><font size = 2, color=red> be(-0.40) </font><font size = 1, color=gray> the </font><font size = 1, color=black> only </font><font size = 6, color=red> explanation(-1.10) </font><font size = 1, color=gray> for </font><font size = 4, color=red> how(-0.69) </font><font size = 1, color=black> one </font><font size = 1, color=gray> of </font><font size = 1, color=gray> the </font><font size = 4, color=blue> characters(0.70) </font><font size = 6, color=red> just(-1.10) </font><font size = 1, color=blue> walks(0.00) </font><font size = 4, color=blue> into(0.70) </font><font size = 1, color=gray> a </font><font size = 1, color=blue> room(0.00) </font><font size = 1, color=black> where </font><font size = 1, color=black> Faith </font><font size = 1, color=gray> is.<br </font><font size = 1, color=black> /><br </font><font size = 1, color=black> />There's </font><font size = 1, color=black> nothing </font><font size = 1, color=gray> that </font><font size = 2, color=blue> will(0.41) </font><font size = 1, color=blue> have(0.00) </font><font size = 1, color=black> you </font><font size = 1, color=gray> grasping </font><font size = 1, color=blue> your(0.00) </font><font size = 1, color=blue> chair(0.00) </font><font size = 1, color=blue> arms,(0.00) </font><font size = 1, color=gray> and </font><font size = 1, color=gray> leaning </font><font size = 6, color=blue> forward(1.10) </font><font size = 2, color=blue> on(0.41) </font><font size = 1, color=gray> the </font><font size = 1, color=blue> edge(0.00) </font><font size = 1, color=gray> of </font><font size = 1, color=black> your </font><font size = 1, color=blue> seat,(0.00) </font><font size = 1, color=blue> because(0.00) </font><font size = 1, color=black> there </font><font size = 1, color=gray> IS </font><font size = 1, color=black> no </font><font size = 1, color=gray> \"mounting\" </font><font size = 1, color=blue> tension(0.00) </font><font size = 1, color=gray> in </font><font size = 1, color=gray> this </font><font size = 1, color=black> film--just </font><font size = 1, color=blue> bland,(0.00) </font><font size = 1, color=blue> pathetic(0.00) </font><font size = 1, color=gray> revelations </font><font size = 1, color=gray> that </font><font size = 1, color=blue> get(0.00) </font><font size = 1, color=gray> tossed </font><font size = 1, color=black> out </font><font size = 1, color=black> from </font><font size = 4, color=red> time(-0.69) </font><font size = 1, color=gray> to </font><font size = 1, color=black> time.<br </font><font size = 1, color=black> /><br </font><font size = 1, color=gray> /> </font>"
      ],
      "text/plain": [
       "<IPython.core.display.HTML object>"
      ]
     },
     "metadata": {},
     "output_type": "display_data"
    },
    {
     "name": "stdout",
     "output_type": "stream",
     "text": [
      "Is this document positive (1) or negative (0)?0\n",
      "\n",
      "This document is classified as negative\n",
      "Acccuracy:  0.51656\n",
      "\n",
      "\n",
      "\n",
      "Document 13:\n"
     ]
    },
    {
     "data": {
      "text/html": [
       "<font size = 1, color=blue> Above-average(0.04) </font><font size = 1, color=red> film(-0.15) </font><font size = 1, color=gray> and </font><font size = 7, color=red> acting(-1.35) </font><font size = 1, color=blue> partly(0.04) </font><font size = 1, color=blue> spoiled(0.04) </font><font size = 2, color=blue> by(0.37) </font><font size = 3, color=blue> its(0.44) </font><font size = 1, color=blue> completely(0.04) </font><font size = 4, color=red> predictable(-0.66) </font><font size = 2, color=red> story(-0.37) </font><font size = 1, color=blue> line.(0.04) </font><font size = 4, color=red> Even(-0.66) </font><font size = 1, color=gray> the </font><font size = 1, color=blue> music(0.04) </font><font size = 1, color=gray> is </font><font size = 1, color=blue> chosen(0.04) </font><font size = 1, color=blue> so(0.04) </font><font size = 1, color=gray> that </font><font size = 1, color=gray> the </font><font size = 1, color=blue> words(0.04) </font><font size = 4, color=red> fit(-0.66) </font><font size = 1, color=gray> the </font><font size = 1, color=blue> action(0.04) </font><font size = 4, color=blue> every(0.73) </font><font size = 5, color=red> time.(-1.06) </font><font size = 1, color=gray> A </font><font size = 1, color=gray> scent </font><font size = 1, color=gray> of </font><font size = 1, color=gray> \"Pleasantville\" </font><font size = 1, color=blue> camp(0.04) </font><font size = 1, color=gray> hangs </font><font size = 2, color=red> around(-0.37) </font><font size = 1, color=gray> this </font><font size = 1, color=blue> flick.(0.04) </font><font size = 1, color=blue> As(0.19) </font><font size = 1, color=gray> a </font><font size = 1, color=blue> period(0.04) </font><font size = 4, color=blue> piece,(0.73) </font><font size = 2, color=red> it's(-0.25) </font><font size = 2, color=red> more(-0.37) </font><font size = 1, color=blue> accurate(0.04) </font><font size = 4, color=blue> than(0.73) </font><font size = 2, color=blue> not.(0.26) </font><font size = 1, color=black> Its </font><font size = 1, color=blue> depiction(0.04) </font><font size = 1, color=gray> of </font><font size = 1, color=gray> the </font><font size = 1, color=blue> tragedy(0.04) </font><font size = 1, color=gray> of </font><font size = 1, color=blue> company(0.04) </font><font size = 1, color=gray> towns </font><font size = 1, color=gray> and </font><font size = 1, color=blue> lack(0.04) </font><font size = 1, color=gray> of </font><font size = 1, color=gray> upward </font><font size = 1, color=gray> mobility </font><font size = 1, color=gray> is </font><font size = 1, color=gray> sketchy </font><font size = 1, color=gray> but </font><font size = 4, color=blue> moving.(0.73) </font><font size = 4, color=red> Chris(-0.66) </font><font size = 1, color=blue> Cooper(0.04) </font><font size = 4, color=red> turns(-0.66) </font><font size = 1, color=gray> in </font><font size = 1, color=gray> a </font><font size = 8, color=blue> first-class(1.65) </font><font size = 1, color=blue> performance(0.04) </font><font size = 1, color=black> as </font><font size = 1, color=gray> Howard's </font><font size = 1, color=gray> coal-miner </font><font size = 1, color=gray> daddy. </font>"
      ],
      "text/plain": [
       "<IPython.core.display.HTML object>"
      ]
     },
     "metadata": {},
     "output_type": "display_data"
    },
    {
     "name": "stdout",
     "output_type": "stream",
     "text": [
      "Is this document positive (1) or negative (0)?1\n",
      "\n",
      "This document is classified as positive\n",
      "Acccuracy:  0.52344\n",
      "\n",
      "\n",
      "\n",
      "Document 14:\n"
     ]
    },
    {
     "data": {
      "text/html": [
       "<font size = 1, color=gray> In </font><font size = 1, color=gray> conception </font><font size = 1, color=gray> a </font><font size = 1, color=blue> splendid(0.03) </font><font size = 1, color=blue> film,(0.03) </font><font size = 1, color=gray> investigating </font><font size = 1, color=gray> the </font><font size = 1, color=gray> tensions </font><font size = 1, color=gray> that </font><font size = 1, color=blue> occur(0.03) </font><font size = 1, color=gray> in </font><font size = 6, color=blue> family(1.13) </font><font size = 6, color=blue> life(1.13) </font><font size = 1, color=gray> in </font><font size = 1, color=gray> the </font><font size = 1, color=gray> idyllic </font><font size = 1, color=blue> setting(0.03) </font><font size = 1, color=gray> of </font><font size = 1, color=gray> Galiano </font><font size = 4, color=red> Island(-0.67) </font><font size = 4, color=red> off(-0.67) </font><font size = 1, color=gray> the </font><font size = 1, color=gray> coast </font><font size = 1, color=gray> of </font><font size = 3, color=blue> British(0.43) </font><font size = 1, color=gray> Columbia, </font><font size = 1, color=gray> _The </font><font size = 1, color=gray> Lotus </font><font size = 1, color=gray> Eaters_ </font><font size = 1, color=gray> is </font><font size = 1, color=gray> marred </font><font size = 3, color=blue> by(0.50) </font><font size = 1, color=gray> the </font><font size = 1, color=blue> fact(0.03) </font><font size = 1, color=gray> that </font><font size = 1, color=gray> it </font><font size = 1, color=blue> has(0.03) </font><font size = 4, color=red> been(-0.67) </font><font size = 1, color=gray> packaged </font><font size = 2, color=blue> as(0.31) </font><font size = 1, color=gray> a </font><font size = 1, color=blue> made-for-TV(0.03) </font><font size = 1, color=blue> movie,(0.03) </font><font size = 1, color=gray> diminishing </font><font size = 1, color=blue> itself(0.03) </font><font size = 4, color=blue> throughout(0.72) </font><font size = 1, color=black> by </font><font size = 1, color=gray> the </font><font size = 1, color=blue> addition(0.03) </font><font size = 1, color=gray> of </font><font size = 1, color=gray> chirpy </font><font size = 4, color=blue> music(0.72) </font><font size = 4, color=red> over(-0.67) </font><font size = 1, color=gray> potentially </font><font size = 1, color=blue> powerful(0.03) </font><font size = 4, color=red> scenes,(-0.67) </font><font size = 1, color=black> as </font><font size = 1, color=blue> if(0.03) </font><font size = 1, color=gray> to </font><font size = 2, color=red> get(-0.26) </font><font size = 1, color=blue> ready(0.03) </font><font size = 1, color=gray> for </font><font size = 1, color=gray> the </font><font size = 1, color=gray> interruption </font><font size = 1, color=gray> of </font><font size = 1, color=blue> commercials.(0.03) </font><font size = 1, color=gray> A </font><font size = 4, color=red> pity,(-0.67) </font><font size = 2, color=red> really.(-0.38) </font>"
      ],
      "text/plain": [
       "<IPython.core.display.HTML object>"
      ]
     },
     "metadata": {},
     "output_type": "display_data"
    },
    {
     "name": "stdout",
     "output_type": "stream",
     "text": [
      "Is this document positive (1) or negative (0)?0\n",
      "\n",
      "This document is classified as negative\n",
      "Acccuracy:  0.51656\n",
      "\n",
      "\n",
      "\n",
      "Document 15:\n"
     ]
    },
    {
     "data": {
      "text/html": [
       "<font size = 1, color=gray> i, </font><font size = 5, color=red> too,(-1.07) </font><font size = 1, color=blue> loved(0.03) </font><font size = 1, color=gray> this </font><font size = 4, color=red> series(-0.66) </font><font size = 1, color=blue> when(0.03) </font><font size = 1, color=gray> i </font><font size = 4, color=red> was(-0.66) </font><font size = 1, color=gray> a </font><font size = 1, color=blue> kid.(0.03) </font><font size = 1, color=gray> In </font><font size = 1, color=gray> 1952 </font><font size = 1, color=gray> i </font><font size = 1, color=black> was </font><font size = 4, color=red> 5(-0.66) </font><font size = 1, color=gray> and </font><font size = 2, color=red> my(-0.37) </font><font size = 3, color=blue> family(0.44) </font><font size = 4, color=red> always(-0.66) </font><font size = 1, color=blue> watched(0.03) </font><font size = 1, color=gray> this </font><font size = 4, color=red> show.(-0.66) </font><font size = 1, color=black> My </font><font size = 1, color=blue> favorite(0.03) </font><font size = 3, color=blue> character(0.44) </font><font size = 1, color=black> was </font><font size = 1, color=gray> the </font><font size = 5, color=red> one(-1.07) </font><font size = 4, color=blue> played(0.73) </font><font size = 2, color=blue> by(0.32) </font><font size = 1, color=gray> Marion </font><font size = 1, color=gray> Lorne </font><font size = 1, color=blue> as(0.17) </font><font size = 1, color=gray> a </font><font size = 5, color=red> rather(-1.07) </font><font size = 1, color=gray> stuttering, </font><font size = 1, color=gray> bumbling </font><font size = 1, color=gray> and </font><font size = 2, color=red> very(-0.25) </font><font size = 1, color=blue> lovable(0.03) </font><font size = 1, color=blue> \"aunt\"(0.03) </font><font size = 3, color=blue> type(0.44) </font><font size = 1, color=blue> person.(0.03) </font><font size = 1, color=gray> i </font><font size = 8, color=red> can(-1.58) </font><font size = 1, color=blue> still(0.03) </font><font size = 1, color=blue> recall(0.03) </font><font size = 5, color=blue> her(0.95) </font><font size = 1, color=gray> \"ubba </font><font size = 1, color=gray> bubba </font><font size = 1, color=gray> um </font><font size = 1, color=gray> um\" </font><font size = 1, color=black> type </font><font size = 4, color=blue> comments(0.73) </font><font size = 1, color=black> as </font><font size = 7, color=blue> she(1.42) </font><font size = 2, color=red> would(-0.25) </font><font size = 1, color=blue> try(0.03) </font><font size = 1, color=gray> and </font><font size = 7, color=red> say(-1.35) </font><font size = 1, color=blue> something(0.03) </font><font size = 1, color=blue> important.(0.03) </font><font size = 1, color=gray> And </font><font size = 4, color=blue> then(0.73) </font><font size = 1, color=black> when </font><font size = 1, color=black> she </font><font size = 1, color=blue> came(0.03) </font><font size = 4, color=red> back(-0.66) </font><font size = 1, color=gray> and </font><font size = 1, color=black> played </font><font size = 1, color=black> Aunt </font><font size = 1, color=gray> Clara </font><font size = 1, color=gray> in </font><font size = 1, color=gray> Bewitched </font><font size = 1, color=gray> it </font><font size = 1, color=black> was </font><font size = 4, color=red> great(-0.66) </font><font size = 1, color=blue> casting!(0.03) </font><font size = 1, color=blue> <br(0.03) </font><font size = 1, color=black> /><br </font><font size = 1, color=gray> />It </font><font size = 1, color=black> was </font><font size = 1, color=gray> the </font><font size = 8, color=blue> first(1.82) </font><font size = 2, color=red> time(-0.37) </font><font size = 1, color=gray> that </font><font size = 1, color=gray> i </font><font size = 1, color=black> can </font><font size = 1, color=blue> remember(0.03) </font><font size = 6, color=blue> seeing(1.13) </font><font size = 1, color=blue> Walter(0.03) </font><font size = 1, color=gray> Matthau </font><font size = 4, color=blue> whose(0.73) </font><font size = 4, color=blue> career(0.73) </font><font size = 1, color=gray> i </font><font size = 1, color=blue> followed(0.03) </font><font size = 1, color=black> as </font><font size = 1, color=gray> a </font><font size = 4, color=blue> fan(0.73) </font><font size = 1, color=gray> for </font><font size = 5, color=red> many(-1.07) </font><font size = 1, color=black> many </font><font size = 2, color=red> years.<br(-0.37) </font><font size = 1, color=black> /><br </font><font size = 1, color=gray> />i </font><font size = 1, color=red> have(-0.15) </font><font size = 1, color=gray> a </font><font size = 4, color=red> question(-0.66) </font><font size = 1, color=red> if(-0.19) </font><font size = 1, color=blue> anyone(0.03) </font><font size = 1, color=black> can </font><font size = 1, color=gray> verify: </font><font size = 1, color=black> was </font><font size = 1, color=gray> the </font><font size = 4, color=blue> title(0.73) </font><font size = 2, color=blue> or(0.32) </font><font size = 1, color=blue> end(0.03) </font><font size = 1, color=blue> credits(0.03) </font><font size = 1, color=blue> music(0.03) </font><font size = 1, color=gray> the </font><font size = 1, color=gray> \"Swedish </font><font size = 1, color=gray> Rhapsody\" </font><font size = 1, color=black> by </font><font size = 1, color=gray> Hugo </font><font size = 1, color=gray> Alfven? </font><font size = 6, color=blue> Every(1.13) </font><font size = 1, color=black> time </font><font size = 1, color=gray> i </font><font size = 1, color=blue> hear(0.03) </font><font size = 1, color=gray> it </font><font size = 1, color=black> played </font><font size = 2, color=blue> on(0.22) </font><font size = 1, color=black> my </font><font size = 1, color=gray> classical </font><font size = 5, color=red> radio(-1.07) </font><font size = 1, color=blue> station(0.03) </font><font size = 1, color=blue> here(0.03) </font><font size = 1, color=gray> in </font><font size = 1, color=blue> Southern(0.03) </font><font size = 1, color=blue> California(0.03) </font><font size = 1, color=gray> it </font><font size = 4, color=blue> brings(0.73) </font><font size = 1, color=black> back </font><font size = 1, color=blue> memories(0.03) </font><font size = 1, color=gray> of </font><font size = 1, color=gray> the </font><font size = 4, color=blue> image(0.73) </font><font size = 1, color=gray> of </font><font size = 1, color=blue> Mr.(0.03) </font><font size = 1, color=gray> Peepers </font><font size = 1, color=blue> walking(0.03) </font><font size = 4, color=red> away(-0.66) </font><font size = 1, color=blue> with(0.03) </font><font size = 1, color=red> his(-0.19) </font><font size = 1, color=black> back </font><font size = 1, color=gray> to </font><font size = 1, color=gray> the </font><font size = 1, color=blue> camera.(0.03) </font><font size = 2, color=red> i'm(-0.25) </font><font size = 3, color=blue> not(0.44) </font><font size = 2, color=red> even(-0.25) </font><font size = 1, color=blue> certain(0.03) </font><font size = 1, color=black> if </font><font size = 1, color=gray> this </font><font size = 1, color=black> image </font><font size = 1, color=gray> in </font><font size = 1, color=black> my </font><font size = 1, color=gray> mind's </font><font size = 1, color=blue> eye(0.03) </font><font size = 1, color=gray> is </font><font size = 1, color=blue> correct.(0.03) </font>"
      ],
      "text/plain": [
       "<IPython.core.display.HTML object>"
      ]
     },
     "metadata": {},
     "output_type": "display_data"
    },
    {
     "name": "stdout",
     "output_type": "stream",
     "text": [
      "Is this document positive (1) or negative (0)?1\n",
      "\n",
      "This document is classified as positive\n",
      "Acccuracy:  0.54084\n",
      "\n",
      "\n",
      "\n",
      "Document 16:\n"
     ]
    },
    {
     "data": {
      "text/html": [
       "<font size = 1, color=blue> ********Spoilers--Careful*********<br(0.01) </font><font size = 1, color=blue> /><br(0.20) </font><font size = 1, color=blue> />What(0.01) </font><font size = 5, color=red> can(-0.90) </font><font size = 1, color=gray> I </font><font size = 4, color=red> say?(-0.68) </font><font size = 1, color=blue> I'm(0.01) </font><font size = 1, color=gray> biased </font><font size = 2, color=blue> when(0.42) </font><font size = 1, color=gray> it </font><font size = 1, color=blue> comes(0.01) </font><font size = 1, color=gray> to </font><font size = 1, color=blue> Urban(0.01) </font><font size = 1, color=blue> Cowboy.(0.01) </font><font size = 1, color=gray> I </font><font size = 2, color=red> love(-0.39) </font><font size = 1, color=gray> it </font><font size = 1, color=gray> and </font><font size = 1, color=blue> have(0.01) </font><font size = 4, color=blue> watched(0.71) </font><font size = 1, color=gray> it </font><font size = 1, color=blue> countless(0.01) </font><font size = 1, color=blue> times--and(0.01) </font><font size = 1, color=blue> usually(0.01) </font><font size = 4, color=red> find(-0.68) </font><font size = 5, color=red> out(-0.90) </font><font size = 4, color=blue> something(0.71) </font><font size = 4, color=red> new(-0.68) </font><font size = 8, color=blue> about(1.62) </font><font size = 1, color=gray> it </font><font size = 1, color=blue> with(0.20) </font><font size = 1, color=blue> each(0.01) </font><font size = 1, color=blue> viewing.<br(0.01) </font><font size = 1, color=black> /><br </font><font size = 1, color=gray> />I </font><font size = 4, color=red> think(-0.68) </font><font size = 4, color=red> one(-0.68) </font><font size = 1, color=gray> of </font><font size = 1, color=gray> the </font><font size = 1, color=blue> things(0.01) </font><font size = 1, color=gray> I </font><font size = 4, color=red> like(-0.68) </font><font size = 1, color=black> about </font><font size = 1, color=gray> it </font><font size = 1, color=gray> is </font><font size = 1, color=gray> that </font><font size = 1, color=black> Urban </font><font size = 1, color=black> Cowboy </font><font size = 1, color=gray> is </font><font size = 1, color=black> about </font><font size = 1, color=blue> working(0.01) </font><font size = 6, color=blue> class(1.11) </font><font size = 1, color=blue> people,(0.01) </font><font size = 3, color=blue> not(0.57) </font><font size = 1, color=blue> rich(0.01) </font><font size = 1, color=black> people </font><font size = 3, color=red> who(-0.50) </font><font size = 1, color=blue> live(0.01) </font><font size = 1, color=gray> in </font><font size = 1, color=blue> either(0.01) </font><font size = 1, color=blue> L.A.(0.01) </font><font size = 3, color=blue> or(0.53) </font><font size = 1, color=black> New </font><font size = 1, color=blue> York.(0.01) </font><font size = 8, color=red> Well,(-1.60) </font><font size = 1, color=gray> it </font><font size = 1, color=gray> is </font><font size = 1, color=blue> true(0.01) </font><font size = 4, color=red> except(-0.68) </font><font size = 1, color=gray> for </font><font size = 1, color=gray> Pam.<br </font><font size = 1, color=black> /><br </font><font size = 1, color=gray> />Travolta </font><font size = 1, color=blue> plays(0.01) </font><font size = 1, color=gray> Bud, </font><font size = 1, color=gray> a </font><font size = 2, color=red> small(-0.39) </font><font size = 1, color=blue> town(0.01) </font><font size = 1, color=blue> Texas(0.01) </font><font size = 4, color=blue> boy(0.71) </font><font size = 1, color=black> who </font><font size = 1, color=blue> moves(0.01) </font><font size = 1, color=gray> to </font><font size = 1, color=gray> Houston </font><font size = 1, color=gray> to </font><font size = 1, color=blue> work(0.01) </font><font size = 1, color=gray> in </font><font size = 1, color=gray> the </font><font size = 4, color=blue> oil(0.71) </font><font size = 1, color=gray> fields. </font><font size = 1, color=gray> And </font><font size = 1, color=gray> this </font><font size = 1, color=gray> is </font><font size = 1, color=black> when </font><font size = 1, color=gray> Travolta </font><font size = 1, color=blue> actually(0.01) </font><font size = 6, color=blue> played(1.11) </font><font size = 1, color=gray> in </font><font size = 6, color=red> good(-1.08) </font><font size = 1, color=blue> dramatic(0.01) </font><font size = 4, color=blue> movies(0.71) </font><font size = 1, color=black> like </font><font size = 1, color=blue> Saturday(0.01) </font><font size = 1, color=blue> Night(0.01) </font><font size = 1, color=gray> Fever </font><font size = 4, color=blue> instead(0.71) </font><font size = 1, color=gray> of </font><font size = 6, color=blue> playing(1.11) </font><font size = 1, color=blue> stereotypical(0.01) </font><font size = 6, color=red> bad(-1.08) </font><font size = 1, color=gray> guys/good </font><font size = 1, color=blue> guys(0.01) </font><font size = 1, color=gray> in </font><font size = 1, color=blue> big(0.01) </font><font size = 4, color=blue> budget(0.71) </font><font size = 1, color=black> movies. </font><font size = 1, color=gray> This </font><font size = 1, color=gray> is </font><font size = 1, color=gray> a </font><font size = 4, color=red> really(-0.68) </font><font size = 1, color=black> good </font><font size = 1, color=red> movie--the(-0.17) </font><font size = 1, color=gray> mechanical </font><font size = 1, color=gray> bull </font><font size = 1, color=blue> riding(0.01) </font><font size = 1, color=gray> contest </font><font size = 1, color=gray> and </font><font size = 2, color=blue> two-step(0.42) </font><font size = 1, color=blue> dancing(0.01) </font><font size = 1, color=blue> may(0.01) </font><font size = 4, color=red> be(-0.68) </font><font size = 1, color=blue> silly,(0.01) </font><font size = 1, color=gray> but </font><font size = 3, color=red> you(-0.50) </font><font size = 1, color=black> have </font><font size = 1, color=gray> to </font><font size = 4, color=blue> enjoy(0.71) </font><font size = 1, color=gray> this </font><font size = 1, color=gray> for </font><font size = 1, color=black> what </font><font size = 1, color=gray> it </font><font size = 1, color=gray> is.<br </font><font size = 1, color=black> /><br </font><font size = 1, color=gray> />Bud </font><font size = 4, color=blue> meets(0.71) </font><font size = 1, color=gray> Sissy </font><font size = 1, color=black> (played </font><font size = 2, color=blue> by(0.42) </font><font size = 1, color=gray> Debra </font><font size = 1, color=gray> Winger </font><font size = 1, color=black> with </font><font size = 1, color=gray> slutty </font><font size = 1, color=blue> brilliance)--and(0.01) </font><font size = 1, color=blue> soon(0.01) </font><font size = 5, color=red> after,(-0.90) </font><font size = 2, color=red> they(-0.27) </font><font size = 2, color=blue> are(0.24) </font><font size = 4, color=blue> married(0.71) </font><font size = 1, color=gray> and </font><font size = 1, color=blue> living(0.01) </font><font size = 1, color=gray> in </font><font size = 2, color=blue> their(0.42) </font><font size = 4, color=blue> dream(0.71) </font><font size = 1, color=blue> trailer.(0.01) </font><font size = 1, color=gray> But </font><font size = 1, color=black> their </font><font size = 4, color=red> relationship(-0.68) </font><font size = 1, color=blue> becomes(0.01) </font><font size = 1, color=gray> a </font><font size = 2, color=red> real(-0.39) </font><font size = 2, color=blue> life(0.42) </font><font size = 1, color=blue> battle(0.01) </font><font size = 1, color=gray> of </font><font size = 1, color=gray> the </font><font size = 1, color=gray> sexes. </font><font size = 1, color=gray> Bud </font><font size = 1, color=blue> wants(0.01) </font><font size = 1, color=gray> to </font><font size = 1, color=black> be </font><font size = 1, color=gray> a </font><font size = 1, color=black> real </font><font size = 1, color=black> cowboy. </font><font size = 1, color=gray> Sissy </font><font size = 1, color=black> wants </font><font size = 1, color=gray> to </font><font size = 1, color=black> be </font><font size = 1, color=black> with </font><font size = 1, color=gray> a </font><font size = 1, color=black> real </font><font size = 1, color=black> cowboy. </font><font size = 1, color=gray> But </font><font size = 1, color=gray> in </font><font size = 1, color=blue> modern(0.01) </font><font size = 1, color=black> times, </font><font size = 1, color=gray> men's </font><font size = 1, color=blue> roles(0.01) </font><font size = 1, color=black> are </font><font size = 1, color=black> not </font><font size = 2, color=blue> as(0.27) </font><font size = 4, color=blue> clear.(0.71) </font><font size = 1, color=blue> Where(0.01) </font><font size = 1, color=black> can </font><font size = 1, color=gray> Bud </font><font size = 4, color=blue> prove(0.71) </font><font size = 4, color=red> he's(-0.68) </font><font size = 1, color=gray> a </font><font size = 1, color=black> real </font><font size = 3, color=blue> man?(0.53) </font><font size = 4, color=red> He(-0.68) </font><font size = 1, color=black> can </font><font size = 1, color=black> work </font><font size = 1, color=blue> his(0.01) </font><font size = 1, color=blue> dangerous(0.01) </font><font size = 1, color=blue> job(0.01) </font><font size = 1, color=black> by </font><font size = 1, color=blue> day(0.01) </font><font size = 1, color=gray> and </font><font size = 1, color=blue> ride(0.01) </font><font size = 1, color=gray> the </font><font size = 1, color=gray> mechanical </font><font size = 1, color=gray> bull </font><font size = 1, color=black> by </font><font size = 1, color=black> night--he </font><font size = 1, color=black> can </font><font size = 1, color=black> be </font><font size = 1, color=gray> a </font><font size = 1, color=black> \"urban </font><font size = 1, color=black> cowboy.\" </font><font size = 1, color=gray> But </font><font size = 1, color=gray> Sissy </font><font size = 1, color=black> wants </font><font size = 1, color=gray> to </font><font size = 1, color=blue> drive(0.01) </font><font size = 1, color=black> his </font><font size = 1, color=blue> pick-up(0.01) </font><font size = 1, color=blue> truck,(0.01) </font><font size = 1, color=gray> and </font><font size = 8, color=blue> she(1.62) </font><font size = 1, color=black> wants </font><font size = 1, color=gray> to </font><font size = 1, color=black> ride </font><font size = 1, color=gray> the </font><font size = 1, color=gray> mechanical </font><font size = 1, color=gray> bull, </font><font size = 2, color=red> too.(-0.39) </font><font size = 2, color=blue> So(0.24) </font><font size = 1, color=black> where </font><font size = 7, color=red> does(-1.37) </font><font size = 1, color=gray> this </font><font size = 1, color=blue> leave(0.01) </font><font size = 1, color=gray> Bud? </font><font size = 1, color=black> As </font><font size = 1, color=gray> Sissy </font><font size = 1, color=gray> asserts </font><font size = 6, color=blue> her(1.11) </font><font size = 1, color=gray> independence, </font><font size = 1, color=black> she </font><font size = 1, color=blue> lies(0.01) </font><font size = 1, color=black> about </font><font size = 1, color=black> riding </font><font size = 1, color=gray> the </font><font size = 1, color=gray> bull </font><font size = 1, color=gray> and </font><font size = 1, color=gray> flirts </font><font size = 1, color=black> with </font><font size = 1, color=gray> the </font><font size = 1, color=blue> ex-con(0.01) </font><font size = 1, color=gray> and </font><font size = 1, color=blue> prison(0.01) </font><font size = 1, color=gray> rodeo </font><font size = 1, color=blue> star--a(0.01) </font><font size = 1, color=black> real </font><font size = 1, color=gray> bull </font><font size = 1, color=gray> rider--, </font><font size = 1, color=gray> Wes </font><font size = 1, color=black> (played </font><font size = 1, color=blue> wonderfully(0.01) </font><font size = 1, color=gray> greasy </font><font size = 1, color=black> by </font><font size = 1, color=blue> Scott(0.01) </font><font size = 1, color=gray> Glenn). </font><font size = 1, color=gray> Bud </font><font size = 1, color=gray> is </font><font size = 1, color=gray> threatened, </font><font size = 1, color=gray> and </font><font size = 1, color=gray> Bud </font><font size = 1, color=gray> and </font><font size = 1, color=gray> Sissy </font><font size = 1, color=blue> break(0.01) </font><font size = 5, color=red> up.<br(-0.90) </font><font size = 1, color=black> /><br </font><font size = 1, color=gray> />Sissy </font><font size = 1, color=gray> shacks </font><font size = 1, color=black> up </font><font size = 1, color=black> with </font><font size = 1, color=gray> Wes, </font><font size = 1, color=black> who </font><font size = 1, color=gray> abuses </font><font size = 1, color=black> her. </font><font size = 1, color=gray> Emasculating </font><font size = 4, color=red> himself(-0.68) </font><font size = 1, color=blue> further,(0.01) </font><font size = 1, color=gray> Bud </font><font size = 1, color=black> becomes </font><font size = 1, color=gray> the </font><font size = 1, color=black> boy </font><font size = 1, color=blue> toy(0.01) </font><font size = 1, color=gray> of </font><font size = 1, color=gray> Pam, </font><font size = 1, color=gray> a </font><font size = 1, color=black> rich </font><font size = 1, color=blue> girl(0.01) </font><font size = 6, color=blue> whose(1.11) </font><font size = 1, color=gray> Daddy </font><font size = 1, color=gray> is </font><font size = 1, color=gray> in </font><font size = 1, color=black> oil </font><font size = 1, color=gray> and </font><font size = 2, color=red> all(-0.27) </font><font size = 1, color=gray> that </font><font size = 1, color=gray> implies. </font><font size = 1, color=gray> Sissy </font><font size = 1, color=black> comes </font><font size = 1, color=black> by </font><font size = 1, color=gray> the </font><font size = 1, color=black> trailer </font><font size = 1, color=gray> to </font><font size = 1, color=blue> clean(0.01) </font><font size = 1, color=gray> it </font><font size = 1, color=black> up--Pam </font><font size = 4, color=red> doesn't(-0.68) </font><font size = 2, color=red> do(-0.39) </font><font size = 1, color=gray> that </font><font size = 1, color=blue> kind(0.01) </font><font size = 1, color=gray> of </font><font size = 4, color=red> thing.(-0.68) </font><font size = 1, color=black> She </font><font size = 1, color=gray> writes </font><font size = 1, color=gray> a </font><font size = 1, color=blue> make(0.01) </font><font size = 1, color=black> up </font><font size = 1, color=blue> letter(0.01) </font><font size = 1, color=gray> to </font><font size = 1, color=gray> Bud, </font><font size = 1, color=gray> but </font><font size = 1, color=blue> evil(0.01) </font><font size = 1, color=gray> Pam </font><font size = 1, color=blue> tears(0.01) </font><font size = 1, color=gray> it </font><font size = 1, color=black> up </font><font size = 1, color=gray> and </font><font size = 1, color=blue> takes(0.01) </font><font size = 1, color=gray> the </font><font size = 1, color=blue> credit(0.01) </font><font size = 1, color=gray> for </font><font size = 1, color=gray> Sissy's </font><font size = 1, color=gray> housework.<br </font><font size = 1, color=black> /><br </font><font size = 1, color=gray> />Bud's </font><font size = 1, color=blue> Uncle(0.01) </font><font size = 1, color=blue> Bob(0.01) </font><font size = 1, color=blue> dies(0.01) </font><font size = 1, color=gray> tragically </font><font size = 1, color=blue> at(0.01) </font><font size = 1, color=black> work </font><font size = 1, color=black> when </font><font size = 1, color=gray> lightening </font><font size = 1, color=blue> strikes(0.01) </font><font size = 1, color=gray> and </font><font size = 1, color=blue> causes(0.01) </font><font size = 2, color=blue> an(0.24) </font><font size = 1, color=blue> explosion.(0.01) </font><font size = 1, color=gray> Bud </font><font size = 1, color=gray> and </font><font size = 1, color=gray> Sissy </font><font size = 1, color=black> have </font><font size = 1, color=gray> a </font><font size = 1, color=blue> chance(0.01) </font><font size = 1, color=black> at </font><font size = 1, color=gray> reconciliation, </font><font size = 1, color=gray> but </font><font size = 1, color=black> are </font><font size = 1, color=black> too </font><font size = 1, color=gray> stubborn. </font><font size = 6, color=blue> Later(1.11) </font><font size = 1, color=gray> the </font><font size = 1, color=gray> mechanical </font><font size = 1, color=gray> bull </font><font size = 1, color=black> riding </font><font size = 1, color=blue> competition(0.01) </font><font size = 1, color=gray> is </font><font size = 1, color=black> at </font><font size = 1, color=gray> Gilley's, </font><font size = 1, color=gray> and </font><font size = 1, color=black> you </font><font size = 1, color=blue> know(0.01) </font><font size = 1, color=gray> Bud </font><font size = 1, color=gray> is </font><font size = 7, color=blue> going(1.40) </font><font size = 1, color=gray> to </font><font size = 1, color=blue> win.(0.01) </font><font size = 1, color=gray> Pam </font><font size = 1, color=blue> realizes(0.01) </font><font size = 1, color=gray> that </font><font size = 1, color=gray> Bud </font><font size = 1, color=black> doesn't </font><font size = 1, color=black> love </font><font size = 1, color=black> her, </font><font size = 1, color=gray> but </font><font size = 1, color=gray> Sissy--he </font><font size = 4, color=red> did(-0.68) </font><font size = 1, color=gray> it </font><font size = 1, color=gray> for </font><font size = 1, color=black> her. </font><font size = 1, color=gray> Wes </font><font size = 1, color=blue> tries(0.01) </font><font size = 1, color=gray> to </font><font size = 1, color=blue> rob(0.01) </font><font size = 1, color=gray> Gilleys, </font><font size = 1, color=gray> but </font><font size = 1, color=blue> wouldn't(0.01) </font><font size = 1, color=black> you </font><font size = 1, color=black> know </font><font size = 1, color=gray> that </font><font size = 1, color=black> urban </font><font size = 1, color=black> cowboy, </font><font size = 1, color=gray> Bud, </font><font size = 1, color=blue> saves(0.01) </font><font size = 1, color=gray> the </font><font size = 1, color=black> day </font><font size = 1, color=gray> and </font><font size = 1, color=blue> wins(0.01) </font><font size = 1, color=blue> back(0.01) </font><font size = 1, color=gray> the </font><font size = 2, color=blue> woman(0.42) </font><font size = 1, color=black> he </font><font size = 1, color=blue> loves.<br(0.01) </font><font size = 1, color=black> /><br </font><font size = 1, color=gray> />Of </font><font size = 1, color=blue> course,(0.01) </font><font size = 1, color=black> you </font><font size = 1, color=black> may </font><font size = 1, color=blue> ask(0.01) </font><font size = 1, color=blue> yourself(0.01) </font><font size = 4, color=blue> why(0.71) </font><font size = 1, color=gray> Bud </font><font size = 1, color=gray> and </font><font size = 1, color=gray> Sissy </font><font size = 1, color=blue> would(0.01) </font><font size = 4, color=blue> go(0.71) </font><font size = 1, color=gray> to </font><font size = 1, color=gray> Gilleys </font><font size = 1, color=black> about </font><font size = 7, color=blue> every(1.40) </font><font size = 1, color=black> night </font><font size = 1, color=gray> and </font><font size = 1, color=black> \"live </font><font size = 1, color=black> like </font><font size = 1, color=gray> pigs.\" </font><font size = 1, color=blue> Maybe(0.01) </font><font size = 1, color=gray> that </font><font size = 1, color=gray> contributed </font><font size = 1, color=gray> to </font><font size = 1, color=black> their </font><font size = 1, color=black> bad </font><font size = 1, color=blue> marriage.(0.01) </font><font size = 1, color=black> Or </font><font size = 1, color=black> why </font><font size = 1, color=blue> didn't(0.01) </font><font size = 1, color=gray> Bud </font><font size = 1, color=blue> stay(0.01) </font><font size = 1, color=black> with </font><font size = 1, color=gray> Pam--she </font><font size = 6, color=red> wasn't(-1.08) </font><font size = 1, color=gray> that </font><font size = 1, color=black> bad </font><font size = 1, color=gray> and </font><font size = 6, color=red> had(-1.08) </font><font size = 1, color=blue> money.(0.01) </font><font size = 1, color=black> Or </font><font size = 1, color=black> why </font><font size = 1, color=black> they </font><font size = 1, color=black> had </font><font size = 1, color=gray> to </font><font size = 1, color=blue> kill(0.01) </font><font size = 6, color=red> off(-1.08) </font><font size = 1, color=black> Uncle </font><font size = 1, color=black> Bob. </font><font size = 1, color=black> Or </font><font size = 1, color=black> why </font><font size = 1, color=gray> Bud </font><font size = 1, color=gray> and </font><font size = 1, color=gray> Sissy </font><font size = 1, color=black> had </font><font size = 7, color=red> such(-1.37) </font><font size = 1, color=blue> stupid(0.01) </font><font size = 4, color=red> friends(-0.68) </font><font size = 1, color=black> like </font><font size = 1, color=gray> Marshall </font><font size = 1, color=gray> and </font><font size = 1, color=gray> Jessie </font><font size = 1, color=black> who </font><font size = 1, color=blue> were(0.01) </font><font size = 1, color=blue> always(0.01) </font><font size = 4, color=red> trying(-0.68) </font><font size = 1, color=gray> to </font><font size = 1, color=black> break </font><font size = 1, color=blue> them(0.01) </font><font size = 1, color=black> up: </font><font size = 1, color=gray> Marshall </font><font size = 1, color=blue> says(0.01) </font><font size = 1, color=gray> to </font><font size = 1, color=gray> Bud, </font><font size = 1, color=black> \"She </font><font size = 1, color=gray> {Sissy} </font><font size = 1, color=gray> rides </font><font size = 1, color=gray> that </font><font size = 1, color=gray> bull </font><font size = 7, color=red> better(-1.37) </font><font size = 6, color=blue> than(1.11) </font><font size = 1, color=black> you </font><font size = 1, color=black> do!\" </font><font size = 1, color=gray> But </font><font size = 4, color=red> part(-0.68) </font><font size = 1, color=gray> of </font><font size = 1, color=gray> the </font><font size = 1, color=blue> fun(0.01) </font><font size = 1, color=gray> of </font><font size = 1, color=black> Urban </font><font size = 1, color=black> Cowboy </font><font size = 1, color=gray> is </font><font size = 1, color=blue> making(0.01) </font><font size = 1, color=black> fun </font><font size = 1, color=gray> of </font><font size = 1, color=gray> it </font><font size = 1, color=gray> a </font><font size = 1, color=blue> little(0.01) </font><font size = 4, color=red> bit--and(-0.68) </font><font size = 1, color=blue> saying,(0.01) </font><font size = 1, color=blue> isn't(0.01) </font><font size = 1, color=gray> that </font><font size = 1, color=gray> Bonnie </font><font size = 1, color=gray> Raitt </font><font size = 2, color=blue> on(0.35) </font><font size = 1, color=gray> the </font><font size = 1, color=blue> stage!(0.01) </font>"
      ],
      "text/plain": [
       "<IPython.core.display.HTML object>"
      ]
     },
     "metadata": {},
     "output_type": "display_data"
    },
    {
     "name": "stdout",
     "output_type": "stream",
     "text": [
      "Is this document positive (1) or negative (0)?1\n",
      "\n",
      "This document is classified as positive\n",
      "Acccuracy:  0.5916\n",
      "\n",
      "\n",
      "\n",
      "Document 17:\n"
     ]
    },
    {
     "data": {
      "text/html": [
       "<font size = 1, color=gray> This </font><font size = 1, color=gray> is </font><font size = 1, color=gray> the </font><font size = 4, color=red> best(-0.72) </font><font size = 1, color=red> movie(-0.03) </font><font size = 1, color=gray> I </font><font size = 1, color=blue> have(0.12) </font><font size = 1, color=red> ever(-0.03) </font><font size = 1, color=red> seen.<br(-0.03) </font><font size = 2, color=blue> /><br(0.31) </font><font size = 1, color=red> />I've(-0.03) </font><font size = 1, color=black> seen </font><font size = 1, color=gray> the </font><font size = 1, color=black> movie </font><font size = 3, color=blue> on(0.44) </font><font size = 1, color=gray> Dutch </font><font size = 1, color=red> television(-0.03) </font><font size = 1, color=gray> sometime </font><font size = 1, color=gray> in </font><font size = 1, color=gray> 1988 </font><font size = 1, color=black> (?).<br </font><font size = 1, color=black> /><br </font><font size = 1, color=gray> />That </font><font size = 1, color=red> month(-0.03) </font><font size = 1, color=red> they(-0.03) </font><font size = 2, color=blue> were(0.38) </font><font size = 1, color=red> showing(-0.03) </font><font size = 1, color=gray> a </font><font size = 1, color=gray> Yugoslavian </font><font size = 1, color=black> movie </font><font size = 8, color=blue> every(1.58) </font><font size = 1, color=red> Sunday(-0.03) </font><font size = 4, color=blue> night.<br(0.66) </font><font size = 1, color=black> /><br </font><font size = 1, color=gray> />The </font><font size = 4, color=blue> next(0.66) </font><font size = 4, color=red> week(-0.72) </font><font size = 8, color=red> there(-1.82) </font><font size = 3, color=red> was(-0.50) </font><font size = 5, color=blue> another(1.07) </font><font size = 1, color=red> great(-0.03) </font><font size = 1, color=black> movie </font><font size = 1, color=red> (involving(-0.03) </font><font size = 1, color=gray> a </font><font size = 4, color=blue> train,(0.66) </font><font size = 3, color=red> rather(-0.43) </font><font size = 7, color=blue> than(1.36) </font><font size = 1, color=gray> a </font><font size = 1, color=red> bus)(-0.03) </font><font size = 1, color=gray> the </font><font size = 4, color=blue> name(0.66) </font><font size = 1, color=gray> of </font><font size = 2, color=blue> which(0.26) </font><font size = 1, color=gray> I </font><font size = 6, color=red> don't(-1.13) </font><font size = 4, color=blue> remember.(0.66) </font><font size = 1, color=red> If(-0.03) </font><font size = 2, color=red> you(-0.25) </font><font size = 2, color=blue> know(0.38) </font><font size = 1, color=gray> it, </font><font size = 1, color=red> please(-0.03) </font><font size = 1, color=red> let(-0.03) </font><font size = 6, color=red> me(-1.13) </font><font size = 1, color=black> know! </font><font size = 1, color=gray> In </font><font size = 4, color=red> any(-0.72) </font><font size = 1, color=red> case,(-0.03) </font><font size = 6, color=red> how(-1.13) </font><font size = 3, color=red> can(-0.54) </font><font size = 1, color=gray> I </font><font size = 3, color=red> get(-0.54) </font><font size = 1, color=gray> to </font><font size = 2, color=blue> see(0.38) </font><font size = 1, color=gray> this </font><font size = 1, color=black> movie </font><font size = 4, color=blue> again????(0.66) </font><font size = 1, color=gray> A </font><font size = 4, color=red> DVD(-0.72) </font><font size = 1, color=gray> of </font><font size = 1, color=gray> this </font><font size = 1, color=black> movie, </font><font size = 2, color=blue> where??(0.26) </font><font size = 1, color=black> Please </font><font size = 1, color=red> tell(-0.03) </font><font size = 1, color=black> me </font><font size = 2, color=blue> at(0.26) </font><font size = 1, color=gray> vannoord@let.rug.nl<br </font><font size = 1, color=black> /><br </font><font size = 1, color=gray> />The </font><font size = 1, color=black> next </font><font size = 1, color=black> week </font><font size = 1, color=black> there </font><font size = 1, color=black> was </font><font size = 1, color=black> another </font><font size = 1, color=black> great </font><font size = 1, color=black> movie </font><font size = 1, color=black> (involving </font><font size = 1, color=gray> a </font><font size = 1, color=black> train, </font><font size = 1, color=black> rather </font><font size = 1, color=black> than </font><font size = 1, color=gray> a </font><font size = 1, color=black> bus) </font><font size = 1, color=gray> the </font><font size = 1, color=black> name </font><font size = 1, color=gray> of </font><font size = 1, color=black> which </font><font size = 1, color=gray> I </font><font size = 1, color=black> don't </font><font size = 1, color=black> remember. </font><font size = 1, color=black> If </font><font size = 1, color=black> you </font><font size = 1, color=black> know </font><font size = 1, color=gray> it, </font><font size = 1, color=black> please </font><font size = 1, color=black> let </font><font size = 1, color=black> me </font><font size = 1, color=black> know! </font><font size = 1, color=gray> In </font><font size = 1, color=black> any </font><font size = 1, color=black> case, </font><font size = 1, color=black> how </font><font size = 1, color=black> can </font><font size = 1, color=gray> I </font><font size = 1, color=black> get </font><font size = 1, color=gray> to </font><font size = 1, color=black> see </font><font size = 1, color=gray> this </font><font size = 1, color=black> movie </font><font size = 1, color=black> again???? </font><font size = 1, color=gray> A </font><font size = 1, color=black> DVD </font><font size = 1, color=gray> of </font><font size = 1, color=gray> this </font><font size = 1, color=black> movie, </font><font size = 1, color=black> where?? </font><font size = 1, color=black> Please </font><font size = 1, color=black> tell </font><font size = 1, color=black> me </font><font size = 1, color=black> at </font><font size = 1, color=gray> vannoord@let.rug.nl </font>"
      ],
      "text/plain": [
       "<IPython.core.display.HTML object>"
      ]
     },
     "metadata": {},
     "output_type": "display_data"
    },
    {
     "name": "stdout",
     "output_type": "stream",
     "text": [
      "Is this document positive (1) or negative (0)?1\n",
      "\n",
      "This document is classified as positive\n",
      "Acccuracy:  0.59824\n",
      "\n",
      "\n",
      "\n",
      "Document 18:\n"
     ]
    },
    {
     "data": {
      "text/html": [
       "<font size = 1, color=gray> This </font><font size = 1, color=gray> is </font><font size = 1, color=gray> the </font><font size = 3, color=red> most(-0.44) </font><font size = 4, color=red> boring(-0.73) </font><font size = 1, color=red> worthless(-0.04) </font><font size = 5, color=blue> piece(1.06) </font><font size = 1, color=gray> of </font><font size = 1, color=red> crap(-0.04) </font><font size = 4, color=blue> I've(0.65) </font><font size = 4, color=blue> ever(0.65) </font><font size = 1, color=red> wasted(-0.04) </font><font size = 2, color=blue> an(0.37) </font><font size = 4, color=blue> hour(0.65) </font><font size = 1, color=gray> of </font><font size = 1, color=red> my(-0.04) </font><font size = 4, color=blue> life(0.65) </font><font size = 3, color=blue> on.(0.55) </font><font size = 1, color=red> All(-0.04) </font><font size = 1, color=gray> I </font><font size = 2, color=red> can(-0.26) </font><font size = 2, color=red> say(-0.33) </font><font size = 1, color=gray> is </font><font size = 1, color=red> thank(-0.04) </font><font size = 1, color=red> God(-0.04) </font><font size = 1, color=gray> it </font><font size = 2, color=red> was(-0.33) </font><font size = 8, color=red> only(-1.65) </font><font size = 1, color=black> an </font><font size = 1, color=black> hour. </font><font size = 6, color=red> Over(-1.14) </font><font size = 4, color=blue> half(0.65) </font><font size = 1, color=gray> of </font><font size = 1, color=gray> this </font><font size = 1, color=blue> 'movie'(0.11) </font><font size = 1, color=gray> is </font><font size = 4, color=red> footage(-0.73) </font><font size = 2, color=red> from(-0.33) </font><font size = 1, color=gray> the </font><font size = 1, color=red> original(-0.04) </font><font size = 1, color=gray> \"Criminally </font><font size = 1, color=red> Insane\".(-0.04) </font><font size = 3, color=blue> At(0.47) </font><font size = 1, color=gray> the </font><font size = 1, color=red> very(-0.04) </font><font size = 4, color=red> least,(-0.73) </font><font size = 1, color=gray> I </font><font size = 1, color=black> was </font><font size = 1, color=red> able(-0.04) </font><font size = 1, color=gray> to </font><font size = 4, color=blue> see(0.65) </font><font size = 1, color=gray> the </font><font size = 1, color=red> highlights(-0.04) </font><font size = 1, color=black> from </font><font size = 1, color=gray> that </font><font size = 1, color=red> rare(-0.04) </font><font size = 1, color=red> exploitation(-0.04) </font><font size = 1, color=red> classic,(-0.04) </font><font size = 7, color=red> since(-1.43) </font><font size = 1, color=gray> for </font><font size = 1, color=red> some(-0.04) </font><font size = 1, color=red> reality-defying(-0.04) </font><font size = 2, color=blue> reason(0.37) </font><font size = 1, color=black> my </font><font size = 1, color=red> video(-0.04) </font><font size = 4, color=red> store(-0.73) </font><font size = 1, color=black> only </font><font size = 3, color=red> has(-0.44) </font><font size = 1, color=gray> \"Criminally </font><font size = 1, color=black> Insane </font><font size = 4, color=blue> II\"(0.65) </font><font size = 2, color=blue> (as(0.32) </font><font size = 1, color=gray> it </font><font size = 3, color=red> had(-0.44) </font><font size = 1, color=gray> it, </font><font size = 1, color=red> \"Crazy(-0.04) </font><font size = 1, color=red> Fat(-0.04) </font><font size = 1, color=gray> Ethel </font><font size = 1, color=black> II\"). </font><font size = 1, color=gray> But </font><font size = 1, color=gray> the </font><font size = 4, color=red> rest(-0.73) </font><font size = 1, color=gray> of </font><font size = 1, color=gray> this </font><font size = 1, color=black> movie </font><font size = 1, color=gray> is </font><font size = 1, color=black> some </font><font size = 1, color=gray> of </font><font size = 1, color=gray> the </font><font size = 4, color=blue> absolute(0.65) </font><font size = 1, color=red> worst(-0.04) </font><font size = 4, color=blue> home-video(0.65) </font><font size = 4, color=red> acting(-0.73) </font><font size = 1, color=gray> and </font><font size = 1, color=gray> backyard </font><font size = 1, color=gray> filmmaking </font><font size = 1, color=red> you'll(-0.04) </font><font size = 1, color=black> ever </font><font size = 1, color=black> see. </font><font size = 5, color=blue> Why(0.88) </font><font size = 1, color=gray> is </font><font size = 1, color=gray> it </font><font size = 1, color=black> my </font><font size = 1, color=black> video </font><font size = 1, color=black> store </font><font size = 1, color=black> has </font><font size = 1, color=gray> this </font><font size = 1, color=gray> and </font><font size = 4, color=blue> not(0.65) </font><font size = 1, color=gray> the </font><font size = 1, color=black> original? </font><font size = 1, color=black> Why </font><font size = 4, color=red> does(-0.73) </font><font size = 4, color=red> stuff(-0.73) </font><font size = 2, color=red> like(-0.33) </font><font size = 1, color=gray> this </font><font size = 4, color=blue> actually(0.65) </font><font size = 4, color=blue> end(0.65) </font><font size = 3, color=red> up(-0.55) </font><font size = 1, color=gray> in </font><font size = 1, color=black> video </font><font size = 1, color=gray> stores? </font><font size = 1, color=black> Why </font><font size = 1, color=red> do(-0.04) </font><font size = 2, color=blue> people(0.37) </font><font size = 1, color=red> rent(-0.04) </font><font size = 1, color=gray> it </font><font size = 1, color=gray> and </font><font size = 1, color=black> not </font><font size = 4, color=red> immediately(-0.73) </font><font size = 1, color=red> burn(-0.04) </font><font size = 1, color=gray> the </font><font size = 1, color=red> copy(-0.04) </font><font size = 4, color=blue> once(0.65) </font><font size = 1, color=red> they've(-0.04) </font><font size = 4, color=blue> seen(0.65) </font><font size = 4, color=blue> its(0.65) </font><font size = 4, color=red> sheer(-0.73) </font><font size = 1, color=red> horror?(-0.04) </font><font size = 1, color=black> Why </font><font size = 1, color=gray> - </font><font size = 1, color=gray> AAUUGGHH </font><font size = 1, color=gray> - </font><font size = 1, color=black> Why, </font><font size = 1, color=black> God, </font><font size = 1, color=black> why?<br </font><font size = 3, color=blue> /><br(0.43) </font><font size = 1, color=red> />Unless(-0.04) </font><font size = 1, color=red> you(-0.04) </font><font size = 5, color=blue> enjoy(1.06) </font><font size = 7, color=blue> seeing(1.35) </font><font size = 4, color=red> annoying(-0.73) </font><font size = 1, color=gray> fruits </font><font size = 1, color=red> eating(-0.04) </font><font size = 1, color=black> an </font><font size = 4, color=red> entire(-0.73) </font><font size = 1, color=red> candy(-0.04) </font><font size = 1, color=red> bar(-0.04) </font><font size = 1, color=gray> in </font><font size = 1, color=black> an </font><font size = 1, color=gray> excruciatingly </font><font size = 1, color=red> slow(-0.04) </font><font size = 4, color=red> scene,(-0.73) </font><font size = 4, color=blue> or(0.65) </font><font size = 1, color=red> said(-0.04) </font><font size = 1, color=gray> fruit </font><font size = 1, color=red> getting(-0.04) </font><font size = 1, color=gray> hung </font><font size = 1, color=black> from </font><font size = 1, color=gray> the </font><font size = 1, color=gray> stair </font><font size = 1, color=gray> railing </font><font size = 1, color=gray> in </font><font size = 1, color=black> an </font><font size = 1, color=red> even(-0.04) </font><font size = 1, color=gray> slower </font><font size = 1, color=black> scene, </font><font size = 1, color=black> or </font><font size = 1, color=gray> a </font><font size = 4, color=blue> character(0.65) </font><font size = 1, color=black> getting </font><font size = 1, color=gray> stabbed </font><font size = 1, color=gray> sideways </font><font size = 3, color=red> (don't(-0.44) </font><font size = 4, color=blue> ask)(0.65) </font><font size = 1, color=red> multiple(-0.04) </font><font size = 2, color=blue> times(0.37) </font><font size = 1, color=gray> in </font><font size = 1, color=gray> the </font><font size = 2, color=blue> back,(0.37) </font><font size = 1, color=black> or </font><font size = 1, color=red> brain(-0.04) </font><font size = 1, color=red> cell-murdering(-0.04) </font><font size = 1, color=gray> monologues </font><font size = 8, color=blue> about(1.75) </font><font size = 4, color=blue> giving(0.65) </font><font size = 1, color=gray> poisoned </font><font size = 1, color=red> tea(-0.04) </font><font size = 1, color=gray> to </font><font size = 1, color=red> one's(-0.04) </font><font size = 4, color=red> wife(-0.73) </font><font size = 1, color=gray> and </font><font size = 5, color=blue> then(1.06) </font><font size = 1, color=gray> complaining </font><font size = 1, color=gray> that </font><font size = 1, color=black> all </font><font size = 1, color=gray> the </font><font size = 1, color=red> talk(-0.04) </font><font size = 1, color=black> has </font><font size = 3, color=red> made(-0.44) </font><font size = 1, color=black> one's </font><font size = 2, color=blue> own(0.37) </font><font size = 1, color=black> tea </font><font size = 5, color=blue> go(1.06) </font><font size = 1, color=red> cold,(-0.04) </font><font size = 1, color=black> or </font><font size = 1, color=gray> the </font><font size = 1, color=red> mentally-retarded(-0.04) </font><font size = 1, color=black> eating </font><font size = 1, color=red> fly(-0.04) </font><font size = 1, color=gray> soup, </font><font size = 1, color=black> or </font><font size = 7, color=red> just(-1.43) </font><font size = 1, color=red> simply(-0.04) </font><font size = 1, color=red> want(-0.04) </font><font size = 1, color=gray> to </font><font size = 1, color=black> see </font><font size = 1, color=black> Crazy </font><font size = 1, color=black> Fat </font><font size = 1, color=gray> Ethel </font><font size = 4, color=blue> dancing(0.65) </font><font size = 2, color=blue> with(0.30) </font><font size = 1, color=gray> a </font><font size = 1, color=red> bloody(-0.04) </font><font size = 1, color=red> knife(-0.04) </font><font size = 1, color=gray> in </font><font size = 1, color=gray> a </font><font size = 1, color=gray> garden: </font><font size = 1, color=black> Don't </font><font size = 6, color=red> watch(-1.14) </font><font size = 1, color=gray> this </font><font size = 1, color=black> movie. </font><font size = 1, color=red> Repeat:(-0.04) </font><font size = 1, color=black> Do </font><font size = 1, color=black> NOT </font><font size = 1, color=black> watch </font><font size = 1, color=gray> this </font><font size = 1, color=black> movie. </font><font size = 1, color=black> Do </font><font size = 1, color=black> not </font><font size = 1, color=black> rent </font><font size = 1, color=gray> this </font><font size = 1, color=black> movie. </font><font size = 1, color=blue> If(0.14) </font><font size = 1, color=black> at </font><font size = 1, color=black> all </font><font size = 1, color=red> possible,(-0.04) </font><font size = 1, color=black> do </font><font size = 1, color=black> not </font><font size = 1, color=red> walk(-0.04) </font><font size = 4, color=red> past(-0.73) </font><font size = 1, color=gray> a </font><font size = 1, color=red> shelf(-0.04) </font><font size = 1, color=gray> in </font><font size = 1, color=gray> a </font><font size = 1, color=black> video </font><font size = 1, color=black> store </font><font size = 1, color=gray> that </font><font size = 1, color=black> has </font><font size = 1, color=gray> a </font><font size = 1, color=black> copy </font><font size = 1, color=gray> of </font><font size = 1, color=gray> this </font><font size = 1, color=black> movie </font><font size = 4, color=red> setting(-0.73) </font><font size = 1, color=black> on </font><font size = 1, color=gray> it. </font><font size = 1, color=black> You </font><font size = 1, color=black> can </font><font size = 2, color=blue> still(0.37) </font><font size = 2, color=red> be(-0.33) </font><font size = 1, color=red> saved,(-0.04) </font><font size = 1, color=gray> but </font><font size = 1, color=gray> it </font><font size = 1, color=gray> is </font><font size = 1, color=red> too(-0.04) </font><font size = 1, color=red> late(-0.04) </font><font size = 1, color=gray> for </font><font size = 3, color=red> me(-0.44) </font><font size = 6, color=red> now.(-1.14) </font><font size = 1, color=gray> . </font><font size = 1, color=gray> . </font>"
      ],
      "text/plain": [
       "<IPython.core.display.HTML object>"
      ]
     },
     "metadata": {},
     "output_type": "display_data"
    },
    {
     "name": "stdout",
     "output_type": "stream",
     "text": [
      "Is this document positive (1) or negative (0)?0\n",
      "\n",
      "This document is classified as negative\n",
      "Acccuracy:  0.59132\n",
      "\n",
      "\n",
      "\n",
      "Document 19:\n"
     ]
    },
    {
     "data": {
      "text/html": [
       "<font size = 1, color=blue> As(0.21) </font><font size = 1, color=red> I've(-0.01) </font><font size = 1, color=red> noticed(-0.01) </font><font size = 1, color=blue> with(0.14) </font><font size = 1, color=gray> a </font><font size = 6, color=red> lot(-1.11) </font><font size = 1, color=gray> of </font><font size = 1, color=red> IMDb(-0.01) </font><font size = 6, color=blue> comments,(1.09) </font><font size = 4, color=blue> certain(0.68) </font><font size = 1, color=red> reviewers(-0.01) </font><font size = 4, color=red> seem(-0.70) </font><font size = 1, color=gray> to </font><font size = 1, color=gray> demand </font><font size = 1, color=gray> that </font><font size = 8, color=blue> every(1.78) </font><font size = 1, color=red> film(-0.16) </font><font size = 1, color=blue> they(0.21) </font><font size = 2, color=blue> see(0.28) </font><font size = 2, color=blue> have(0.28) </font><font size = 1, color=gray> smugly </font><font size = 1, color=red> intelligent(-0.01) </font><font size = 4, color=blue> plots(0.68) </font><font size = 1, color=gray> that </font><font size = 1, color=gray> wallow </font><font size = 1, color=gray> in </font><font size = 6, color=red> there(-1.11) </font><font size = 1, color=red> own(-0.01) </font><font size = 1, color=gray> cleverness. </font><font size = 1, color=gray> I </font><font size = 1, color=red> am(-0.01) </font><font size = 3, color=blue> not(0.46) </font><font size = 2, color=red> one(-0.42) </font><font size = 1, color=gray> of </font><font size = 1, color=red> those(-0.01) </font><font size = 1, color=red> people.(-0.01) </font><font size = 1, color=red> If(-0.01) </font><font size = 1, color=gray> I </font><font size = 7, color=red> watch(-1.40) </font><font size = 1, color=blue> an(0.17) </font><font size = 4, color=blue> action(0.68) </font><font size = 1, color=black> film, </font><font size = 1, color=gray> I </font><font size = 4, color=red> want(-0.70) </font><font size = 1, color=gray> to </font><font size = 1, color=black> see </font><font size = 1, color=red> explosions,(-0.01) </font><font size = 1, color=gray> gunfire </font><font size = 1, color=gray> and </font><font size = 1, color=gray> heroics. </font><font size = 1, color=black> If </font><font size = 1, color=gray> I </font><font size = 1, color=black> watch </font><font size = 1, color=gray> a </font><font size = 4, color=blue> comedy,(0.68) </font><font size = 1, color=gray> I </font><font size = 1, color=black> want </font><font size = 1, color=gray> to </font><font size = 1, color=black> have </font><font size = 4, color=blue> tears(0.68) </font><font size = 1, color=gray> of </font><font size = 1, color=red> laughter(-0.01) </font><font size = 1, color=gray> in </font><font size = 2, color=red> my(-0.30) </font><font size = 1, color=red> eyes.(-0.01) </font><font size = 1, color=red> You(-0.19) </font><font size = 2, color=red> get(-0.23) </font><font size = 1, color=gray> the </font><font size = 1, color=red> idea.(-0.01) </font><font size = 4, color=blue> Therefore(0.68) </font><font size = 4, color=blue> watching(0.68) </font><font size = 1, color=gray> a </font><font size = 4, color=red> horror(-0.70) </font><font size = 1, color=black> film, </font><font size = 1, color=gray> I </font><font size = 1, color=red> primarily(-0.01) </font><font size = 1, color=black> want </font><font size = 1, color=gray> to </font><font size = 3, color=red> be(-0.52) </font><font size = 1, color=red> scared.(-0.01) </font><font size = 1, color=gray> The </font><font size = 1, color=gray> Grudge </font><font size = 1, color=gray> is </font><font size = 1, color=gray> a </font><font size = 2, color=red> very(-0.23) </font><font size = 1, color=red> scary(-0.01) </font><font size = 1, color=black> film, </font><font size = 1, color=gray> in </font><font size = 1, color=red> both(-0.01) </font><font size = 1, color=red> it's(-0.01) </font><font size = 5, color=red> well(-0.93) </font><font size = 1, color=red> executed(-0.01) </font><font size = 1, color=red> 'jump'(-0.01) </font><font size = 6, color=red> scenes,(-1.11) </font><font size = 1, color=gray> and </font><font size = 1, color=black> it's </font><font size = 4, color=red> creepy(-0.70) </font><font size = 1, color=red> imagery.(-0.01) </font><font size = 1, color=black> I've </font><font size = 6, color=red> been(-1.11) </font><font size = 1, color=gray> a </font><font size = 1, color=black> horror </font><font size = 1, color=black> film </font><font size = 6, color=blue> fan(1.09) </font><font size = 1, color=gray> for </font><font size = 2, color=red> many(-0.42) </font><font size = 1, color=red> years,(-0.01) </font><font size = 1, color=gray> and </font><font size = 1, color=blue> I'm(0.21) </font><font size = 1, color=red> talking(-0.01) </font><font size = 6, color=blue> about(1.09) </font><font size = 1, color=gray> the </font><font size = 1, color=gray> masters </font><font size = 4, color=red> such(-0.70) </font><font size = 1, color=black> as </font><font size = 1, color=gray> Dario </font><font size = 1, color=gray> Argento, </font><font size = 1, color=red> rather(-0.01) </font><font size = 8, color=blue> than(1.60) </font><font size = 1, color=red> directors(-0.01) </font><font size = 1, color=gray> of </font><font size = 2, color=red> some(-0.42) </font><font size = 1, color=gray> of </font><font size = 1, color=gray> the </font><font size = 1, color=gray> treadmill </font><font size = 1, color=red> teen(-0.01) </font><font size = 1, color=black> horror </font><font size = 1, color=red> flicks(-0.01) </font><font size = 1, color=gray> that </font><font size = 2, color=blue> are(0.39) </font><font size = 1, color=gray> churned </font><font size = 3, color=red> out(-0.52) </font><font size = 4, color=blue> these(0.68) </font><font size = 4, color=red> days.(-0.70) </font><font size = 1, color=black> If </font><font size = 1, color=black> you </font><font size = 1, color=black> want </font><font size = 1, color=gray> to </font><font size = 1, color=black> be </font><font size = 1, color=black> scared, </font><font size = 1, color=black> watch </font><font size = 1, color=gray> this </font><font size = 1, color=black> film. </font><font size = 1, color=red> Way(-0.01) </font><font size = 1, color=gray> scarier </font><font size = 1, color=black> than </font><font size = 1, color=gray> the </font><font size = 4, color=red> original(-0.70) </font><font size = 1, color=red> Japanese(-0.01) </font><font size = 1, color=red> 'Ring'(-0.01) </font><font size = 3, color=blue> (which(0.50) </font><font size = 1, color=gray> I </font><font size = 1, color=red> also(-0.01) </font><font size = 1, color=red> think(-0.01) </font><font size = 1, color=gray> is </font><font size = 1, color=gray> a </font><font size = 2, color=blue> great(0.39) </font><font size = 1, color=black> film). </font>"
      ],
      "text/plain": [
       "<IPython.core.display.HTML object>"
      ]
     },
     "metadata": {},
     "output_type": "display_data"
    },
    {
     "name": "stdout",
     "output_type": "stream",
     "text": [
      "Is this document positive (1) or negative (0)?1\n",
      "\n",
      "This document is classified as positive\n",
      "Acccuracy:  0.62064\n",
      "\n",
      "\n",
      "\n",
      "Document 20:\n"
     ]
    },
    {
     "data": {
      "text/html": [
       "<font size = 1, color=gray> A </font><font size = 3, color=red> lot(-0.43) </font><font size = 1, color=gray> of </font><font size = 1, color=gray> the </font><font size = 1, color=gray> user </font><font size = 7, color=blue> comments(1.36) </font><font size = 1, color=gray> i </font><font size = 2, color=blue> have(0.38) </font><font size = 1, color=red> seen(-0.03) </font><font size = 2, color=blue> on(0.38) </font><font size = 1, color=gray> the </font><font size = 4, color=blue> IMDB(0.67) </font><font size = 1, color=gray> for </font><font size = 1, color=gray> this </font><font size = 1, color=red> movie(-0.03) </font><font size = 4, color=red> don't(-0.72) </font><font size = 2, color=red> really(-0.31) </font><font size = 2, color=red> do(-0.31) </font><font size = 1, color=gray> it </font><font size = 1, color=red> justice.(-0.03) </font><font size = 8, color=blue> First(1.92) </font><font size = 1, color=gray> of </font><font size = 2, color=red> all,(-0.25) </font><font size = 4, color=blue> let(0.67) </font><font size = 4, color=red> me(-0.72) </font><font size = 8, color=red> just(-1.64) </font><font size = 3, color=red> say(-0.54) </font><font size = 1, color=gray> that </font><font size = 1, color=gray> this </font><font size = 1, color=black> movie </font><font size = 1, color=gray> is </font><font size = 3, color=blue> not(0.56) </font><font size = 1, color=gray> to </font><font size = 2, color=red> be(-0.25) </font><font size = 1, color=red> taken(-0.03) </font><font size = 1, color=red> seriously.(-0.03) </font><font size = 1, color=blue> It's(0.20) </font><font size = 1, color=red> supposed(-0.03) </font><font size = 1, color=gray> to </font><font size = 1, color=black> be </font><font size = 1, color=gray> a </font><font size = 4, color=blue> fun,(0.67) </font><font size = 1, color=red> yet(-0.03) </font><font size = 4, color=blue> stupid(0.67) </font><font size = 1, color=black> movie, </font><font size = 1, color=gray> that </font><font size = 1, color=red> doesn't(-0.03) </font><font size = 1, color=gray> require </font><font size = 1, color=red> one(-0.21) </font><font size = 1, color=gray> to </font><font size = 2, color=blue> think,(0.38) </font><font size = 8, color=red> only(-1.82) </font><font size = 1, color=gray> to </font><font size = 2, color=blue> enjoy(0.38) </font><font size = 1, color=gray> it. </font><font size = 1, color=blue> If(0.13) </font><font size = 1, color=red> you(-0.03) </font><font size = 4, color=red> watch(-0.72) </font><font size = 1, color=gray> this </font><font size = 1, color=black> movie </font><font size = 2, color=blue> with(0.26) </font><font size = 1, color=gray> the </font><font size = 1, color=red> intent(-0.03) </font><font size = 1, color=gray> to </font><font size = 3, color=blue> see(0.48) </font><font size = 1, color=gray> a </font><font size = 1, color=red> masterpiece(-0.03) </font><font size = 1, color=gray> in </font><font size = 4, color=blue> either(0.67) </font><font size = 1, color=gray> filmmaking </font><font size = 2, color=blue> or(0.38) </font><font size = 1, color=gray> in </font><font size = 4, color=red> humour,(-0.72) </font><font size = 2, color=blue> then(0.38) </font><font size = 1, color=black> you </font><font size = 1, color=red> will(-0.03) </font><font size = 1, color=black> be </font><font size = 1, color=gray> sorely </font><font size = 6, color=red> disappointed.(-1.13) </font><font size = 1, color=black> Yet, </font><font size = 1, color=black> if </font><font size = 1, color=black> you </font><font size = 1, color=red> want(-0.03) </font><font size = 1, color=gray> to </font><font size = 1, color=black> just </font><font size = 1, color=black> watch </font><font size = 1, color=gray> a </font><font size = 1, color=red> goofy(-0.03) </font><font size = 1, color=black> movie </font><font size = 1, color=black> with </font><font size = 1, color=red> some(-0.03) </font><font size = 1, color=red> talented(-0.03) </font><font size = 1, color=gray> actors/actresses, </font><font size = 1, color=gray> and </font><font size = 1, color=black> some </font><font size = 3, color=red> good(-0.43) </font><font size = 1, color=red> catch-phrases,(-0.03) </font><font size = 1, color=black> then </font><font size = 1, color=black> you </font><font size = 1, color=black> will </font><font size = 1, color=black> enjoy </font><font size = 1, color=gray> it. </font>"
      ],
      "text/plain": [
       "<IPython.core.display.HTML object>"
      ]
     },
     "metadata": {},
     "output_type": "display_data"
    },
    {
     "name": "stdout",
     "output_type": "stream",
     "text": [
      "Is this document positive (1) or negative (0)?1\n",
      "\n",
      "This document is classified as positive\n",
      "Acccuracy:  0.60912\n",
      "\n",
      "\n",
      "\n",
      "Document 21:\n"
     ]
    },
    {
     "data": {
      "text/html": [
       "<font size = 4, color=red> Director(-0.73) </font><font size = 1, color=gray> Spike </font><font size = 1, color=red> Lee(-0.04) </font><font size = 1, color=gray> is </font><font size = 1, color=red> famous(-0.04) </font><font size = 1, color=gray> for </font><font size = 4, color=blue> making(0.66) </font><font size = 4, color=blue> films(0.66) </font><font size = 1, color=gray> pointing </font><font size = 2, color=red> out(-0.26) </font><font size = 1, color=red> racism.(-0.04) </font><font size = 1, color=gray> In </font><font size = 1, color=red> many(-0.04) </font><font size = 1, color=gray> of </font><font size = 1, color=black> films, </font><font size = 2, color=red> such(-0.33) </font><font size = 1, color=red> \"Do(-0.04) </font><font size = 1, color=gray> The </font><font size = 4, color=blue> Right(0.66) </font><font size = 1, color=red> Thing,\"(-0.04) </font><font size = 4, color=red> most(-0.73) </font><font size = 1, color=gray> of </font><font size = 1, color=gray> the </font><font size = 1, color=red> white(-0.04) </font><font size = 2, color=blue> people(0.25) </font><font size = 3, color=blue> are(0.52) </font><font size = 1, color=red> all(-0.04) </font><font size = 1, color=red> brutal(-0.04) </font><font size = 1, color=gray> racists. </font><font size = 1, color=gray> In </font><font size = 1, color=gray> this </font><font size = 1, color=blue> movie,(0.10) </font><font size = 1, color=gray> interracial </font><font size = 4, color=blue> marriage(0.66) </font><font size = 1, color=gray> is </font><font size = 1, color=gray> the </font><font size = 1, color=red> subject,(-0.04) </font><font size = 2, color=blue> with(0.37) </font><font size = 1, color=black> racism </font><font size = 1, color=red> once(-0.04) </font><font size = 5, color=blue> again(1.06) </font><font size = 6, color=red> being(-1.14) </font><font size = 1, color=gray> the </font><font size = 6, color=red> entire(-1.14) </font><font size = 4, color=blue> issue.<br(0.66) </font><font size = 2, color=blue> /><br(0.25) </font><font size = 2, color=blue> />What(0.25) </font><font size = 1, color=black> Lee </font><font size = 5, color=red> does,(-0.95) </font><font size = 4, color=blue> however,(0.66) </font><font size = 1, color=gray> is </font><font size = 1, color=black> once </font><font size = 1, color=black> again </font><font size = 1, color=gray> demonstrate </font><font size = 1, color=blue> his(0.14) </font><font size = 1, color=gray> bigotry </font><font size = 4, color=blue> against(0.66) </font><font size = 1, color=gray> Christianity. </font><font size = 2, color=blue> It's(0.37) </font><font size = 1, color=red> amazing(-0.04) </font><font size = 1, color=gray> the </font><font size = 1, color=red> double(-0.04) </font><font size = 1, color=red> standards(-0.04) </font><font size = 1, color=gray> that </font><font size = 1, color=red> exist(-0.04) </font><font size = 1, color=gray> in </font><font size = 1, color=gray> the </font><font size = 1, color=red> film(-0.04) </font><font size = 2, color=blue> world.(0.37) </font><font size = 2, color=blue> If(0.25) </font><font size = 1, color=black> Lee </font><font size = 3, color=blue> or(0.52) </font><font size = 4, color=blue> anyone(0.66) </font><font size = 4, color=red> else(-0.73) </font><font size = 1, color=red> ever(-0.04) </font><font size = 1, color=red> produced(-0.04) </font><font size = 1, color=gray> this </font><font size = 2, color=blue> kind(0.37) </font><font size = 1, color=gray> of </font><font size = 1, color=gray> bias </font><font size = 1, color=black> against </font><font size = 7, color=blue> another(1.35) </font><font size = 4, color=red> group(-0.73) </font><font size = 2, color=red> he(-0.33) </font><font size = 1, color=blue> would(0.19) </font><font size = 1, color=red> be(-0.04) </font><font size = 1, color=gray> vilified, </font><font size = 1, color=gray> but </font><font size = 1, color=gray> Christians? </font><font size = 1, color=red> Hey,(-0.04) </font><font size = 1, color=black> it's </font><font size = 1, color=red> \"open(-0.04) </font><font size = 1, color=red> season\"(-0.04) </font><font size = 3, color=blue> on(0.47) </font><font size = 2, color=blue> them.<br(0.37) </font><font size = 1, color=black> /><br </font><font size = 1, color=gray> />Ossie </font><font size = 1, color=red> Davis,(-0.04) </font><font size = 1, color=gray> a </font><font size = 1, color=gray> reverend </font><font size = 1, color=gray> in </font><font size = 1, color=gray> this </font><font size = 1, color=black> film, </font><font size = 1, color=red> shoots(-0.04) </font><font size = 1, color=black> his </font><font size = 4, color=red> son(-0.73) </font><font size = 1, color=gray> and </font><font size = 4, color=blue> then(0.66) </font><font size = 1, color=red> puts(-0.04) </font><font size = 1, color=gray> the </font><font size = 1, color=gray> smoldering </font><font size = 1, color=red> gun(-0.04) </font><font size = 1, color=red> down(-0.04) </font><font size = 1, color=black> on </font><font size = 1, color=red> top(-0.04) </font><font size = 1, color=gray> of </font><font size = 1, color=black> his </font><font size = 1, color=gray> Bible. </font><font size = 2, color=blue> They(0.37) </font><font size = 1, color=gray> zoom </font><font size = 1, color=gray> in </font><font size = 1, color=black> on </font><font size = 1, color=gray> that </font><font size = 1, color=gray> for </font><font size = 1, color=black> another </font><font size = 1, color=gray> closeup </font><font size = 5, color=red> just(-0.95) </font><font size = 1, color=gray> in </font><font size = 4, color=blue> case(0.66) </font><font size = 1, color=blue> you(0.12) </font><font size = 1, color=red> missed(-0.04) </font><font size = 1, color=gray> it. </font><font size = 1, color=black> Hey, </font><font size = 4, color=red> folks,(-0.73) </font><font size = 1, color=red> here's(-0.04) </font><font size = 1, color=black> another </font><font size = 1, color=gray> Bible </font><font size = 1, color=gray> reader </font><font size = 1, color=gray> and </font><font size = 1, color=red> look(-0.04) </font><font size = 1, color=black> what </font><font size = 1, color=gray> he''s </font><font size = 3, color=red> like!(-0.55) </font><font size = 1, color=black> Lee </font><font size = 1, color=black> does </font><font size = 1, color=gray> this </font><font size = 1, color=red> sort(-0.04) </font><font size = 1, color=gray> of </font><font size = 1, color=black> thing </font><font size = 1, color=gray> in </font><font size = 1, color=black> just </font><font size = 6, color=blue> about(1.22) </font><font size = 8, color=blue> every(1.91) </font><font size = 1, color=black> movie </font><font size = 1, color=black> he </font><font size = 1, color=red> makes.<br(-0.04) </font><font size = 1, color=black> /><br </font><font size = 1, color=black> />He </font><font size = 1, color=red> shows(-0.04) </font><font size = 1, color=gray> the </font><font size = 1, color=red> same(-0.04) </font><font size = 1, color=red> hatred(-0.04) </font><font size = 4, color=blue> when(0.66) </font><font size = 1, color=red> dealing(-0.04) </font><font size = 1, color=black> with </font><font size = 1, color=red> race(-0.04) </font><font size = 1, color=gray> relations. </font><font size = 2, color=red> Who(-0.26) </font><font size = 7, color=red> could(-1.42) </font><font size = 1, color=red> argue(-0.04) </font><font size = 1, color=black> with </font><font size = 1, color=red> portraying(-0.04) </font><font size = 1, color=black> racism </font><font size = 2, color=blue> as(0.28) </font><font size = 2, color=blue> an(0.30) </font><font size = 4, color=blue> evil(0.66) </font><font size = 1, color=black> thing? </font><font size = 1, color=black> However, </font><font size = 1, color=black> Lee </font><font size = 1, color=gray> perpetuates </font><font size = 1, color=gray> it </font><font size = 1, color=gray> in </font><font size = 1, color=gray> this </font><font size = 1, color=black> film </font><font size = 1, color=black> as </font><font size = 1, color=black> he </font><font size = 4, color=red> has(-0.73) </font><font size = 1, color=gray> in </font><font size = 1, color=black> his </font><font size = 1, color=red> other(-0.04) </font><font size = 1, color=black> films. </font><font size = 1, color=black> His </font><font size = 1, color=red> obvious(-0.04) </font><font size = 1, color=gray> bitterness </font><font size = 1, color=red> toward(-0.04) </font><font size = 1, color=black> white </font><font size = 1, color=black> people </font><font size = 2, color=blue> doesn't(0.37) </font><font size = 1, color=red> help(-0.04) </font><font size = 1, color=gray> the </font><font size = 4, color=blue> situation.(0.66) </font><font size = 1, color=gray> It </font><font size = 6, color=red> only(-1.14) </font><font size = 4, color=blue> adds(0.66) </font><font size = 1, color=gray> fuel </font><font size = 1, color=gray> to </font><font size = 1, color=gray> the </font><font size = 1, color=red> fire.(-0.04) </font><font size = 1, color=black> <br </font><font size = 1, color=black> /><br </font><font size = 1, color=black> />Hey, </font><font size = 1, color=gray> Spike: </font><font size = 1, color=red> start(-0.04) </font><font size = 1, color=red> \"doing(-0.04) </font><font size = 1, color=gray> the </font><font size = 1, color=black> right </font><font size = 1, color=black> thing\" </font><font size = 1, color=gray> and </font><font size = 4, color=blue> leave(0.66) </font><font size = 4, color=red> your(-0.73) </font><font size = 1, color=gray> prejudices </font><font size = 1, color=gray> in </font><font size = 1, color=gray> the </font><font size = 1, color=gray> closet. </font><font size = 4, color=red> Better(-0.73) </font><font size = 4, color=blue> yet,(0.66) </font><font size = 1, color=red> \"get(-0.04) </font><font size = 7, color=red> over(-1.42) </font><font size = 1, color=gray> it.\"<br </font><font size = 1, color=black> /><br </font><font size = 1, color=gray> />This </font><font size = 1, color=gray> is </font><font size = 2, color=red> too(-0.33) </font><font size = 3, color=red> bad(-0.44) </font><font size = 3, color=red> because(-0.44) </font><font size = 1, color=gray> the </font><font size = 1, color=black> subject </font><font size = 1, color=red> matter(-0.04) </font><font size = 1, color=black> could </font><font size = 3, color=blue> have(0.47) </font><font size = 4, color=red> made(-0.73) </font><font size = 1, color=gray> for </font><font size = 1, color=gray> a </font><font size = 4, color=red> thought-(-0.73) </font><font size = 1, color=red> provoking(-0.04) </font><font size = 1, color=black> film </font><font size = 1, color=black> if </font><font size = 1, color=gray> it </font><font size = 4, color=red> had(-0.73) </font><font size = 3, color=red> been(-0.44) </font><font size = 4, color=red> done(-0.73) </font><font size = 1, color=black> with </font><font size = 1, color=gray> objectivity </font><font size = 1, color=gray> and </font><font size = 1, color=red> intelligence.(-0.04) </font>"
      ],
      "text/plain": [
       "<IPython.core.display.HTML object>"
      ]
     },
     "metadata": {},
     "output_type": "display_data"
    },
    {
     "name": "stdout",
     "output_type": "stream",
     "text": [
      "Is this document positive (1) or negative (0)?0\n",
      "\n",
      "This document is classified as negative\n",
      "Acccuracy:  0.6078\n",
      "\n",
      "\n",
      "\n",
      "Document 22:\n"
     ]
    },
    {
     "data": {
      "text/html": [
       "<font size = 4, color=blue> Despite(0.68) </font><font size = 1, color=red> having(-0.01) </font><font size = 1, color=red> 6(-0.01) </font><font size = 1, color=red> different(-0.01) </font><font size = 4, color=blue> directors,(0.68) </font><font size = 1, color=gray> this </font><font size = 1, color=red> fantasy(-0.01) </font><font size = 1, color=gray> hangs </font><font size = 2, color=red> together(-0.42) </font><font size = 1, color=gray> remarkably </font><font size = 3, color=red> well.<br(-0.52) </font><font size = 1, color=blue> /><br(0.12) </font><font size = 1, color=gray> />It </font><font size = 2, color=red> was(-0.42) </font><font size = 4, color=red> filmed(-0.71) </font><font size = 1, color=gray> in </font><font size = 1, color=red> England(-0.01) </font><font size = 1, color=red> (nowhere(-0.01) </font><font size = 1, color=red> near(-0.01) </font><font size = 1, color=gray> Morocco) </font><font size = 1, color=gray> in </font><font size = 1, color=red> studios(-0.01) </font><font size = 1, color=gray> and </font><font size = 2, color=blue> on(0.34) </font><font size = 1, color=gray> a </font><font size = 1, color=red> few(-0.01) </font><font size = 1, color=gray> beaches. </font><font size = 1, color=blue> At(0.21) </font><font size = 1, color=gray> the </font><font size = 1, color=gray> outbreak </font><font size = 1, color=gray> of </font><font size = 6, color=blue> war,(1.09) </font><font size = 4, color=red> everything(-0.71) </font><font size = 1, color=black> was </font><font size = 4, color=blue> moved(0.68) </font><font size = 1, color=gray> to </font><font size = 1, color=red> America(-0.01) </font><font size = 1, color=gray> and </font><font size = 2, color=blue> some(0.28) </font><font size = 2, color=red> scenes(-0.42) </font><font size = 4, color=blue> were(0.68) </font><font size = 1, color=black> filmed </font><font size = 1, color=gray> in </font><font size = 1, color=gray> the </font><font size = 1, color=red> Grand(-0.01) </font><font size = 1, color=gray> Canyon.<br </font><font size = 1, color=black> /><br </font><font size = 1, color=red> />Notable(-0.01) </font><font size = 1, color=gray> for </font><font size = 1, color=black> having </font><font size = 1, color=red> one(-0.01) </font><font size = 1, color=gray> of </font><font size = 1, color=gray> the </font><font size = 1, color=gray> corniest </font><font size = 1, color=gray> lyrics </font><font size = 1, color=gray> in </font><font size = 1, color=gray> a </font><font size = 1, color=red> song(-0.01) </font><font size = 1, color=gray> - </font><font size = 1, color=gray> \"I </font><font size = 2, color=blue> want(0.39) </font><font size = 1, color=gray> to </font><font size = 1, color=red> be(-0.19) </font><font size = 1, color=gray> a </font><font size = 1, color=gray> bandit, </font><font size = 4, color=red> can't(-0.71) </font><font size = 1, color=red> you(-0.01) </font><font size = 1, color=red> understand(-0.01) </font><font size = 1, color=gray> it\". </font><font size = 1, color=gray> It </font><font size = 1, color=red> remains(-0.01) </font><font size = 1, color=gray> a </font><font size = 4, color=red> favourite(-0.71) </font><font size = 1, color=gray> of </font><font size = 2, color=red> many(-0.30) </font><font size = 1, color=red> people.(-0.01) </font>"
      ],
      "text/plain": [
       "<IPython.core.display.HTML object>"
      ]
     },
     "metadata": {},
     "output_type": "display_data"
    },
    {
     "name": "stdout",
     "output_type": "stream",
     "text": [
      "Is this document positive (1) or negative (0)?1\n",
      "\n",
      "This document is classified as positive\n",
      "Acccuracy:  0.61456\n",
      "\n",
      "\n",
      "\n",
      "Document 23:\n"
     ]
    },
    {
     "data": {
      "text/html": [
       "<font size = 1, color=gray> I </font><font size = 2, color=red> don't(-0.31) </font><font size = 1, color=red> pretend(-0.02) </font><font size = 1, color=gray> to </font><font size = 1, color=red> be(-0.02) </font><font size = 1, color=blue> an(0.13) </font><font size = 1, color=gray> authority </font><font size = 3, color=blue> on(0.43) </font><font size = 4, color=blue> actors(0.67) </font><font size = 2, color=red> who(-0.43) </font><font size = 2, color=blue> have(0.34) </font><font size = 7, color=blue> played(1.37) </font><font size = 1, color=gray> Othello, </font><font size = 1, color=gray> but </font><font size = 2, color=blue> I've(0.39) </font><font size = 4, color=red> never(-0.71) </font><font size = 1, color=gray> witnessed </font><font size = 1, color=gray> a </font><font size = 2, color=blue> performance(0.39) </font><font size = 1, color=gray> of </font><font size = 1, color=gray> the </font><font size = 1, color=red> play,(-0.02) </font><font size = 1, color=black> on </font><font size = 1, color=red> film(-0.15) </font><font size = 2, color=blue> or(0.32) </font><font size = 1, color=black> on </font><font size = 4, color=blue> stage,(0.67) </font><font size = 1, color=gray> wherein </font><font size = 1, color=gray> Othello </font><font size = 2, color=red> was(-0.27) </font><font size = 1, color=red> portrayed(-0.02) </font><font size = 2, color=blue> with(0.23) </font><font size = 1, color=red> more(-0.02) </font><font size = 4, color=red> humanity(-0.71) </font><font size = 1, color=gray> and </font><font size = 1, color=gray> authenticity.<br </font><font size = 2, color=blue> /><br(0.23) </font><font size = 1, color=red> />According(-0.02) </font><font size = 1, color=gray> to </font><font size = 1, color=gray> the </font><font size = 1, color=gray> biographical </font><font size = 4, color=blue> notes,(0.67) </font><font size = 1, color=gray> Fishburne </font><font size = 1, color=black> never </font><font size = 1, color=red> received(-0.02) </font><font size = 1, color=red> any(-0.02) </font><font size = 1, color=red> professional(-0.02) </font><font size = 1, color=red> training(-0.02) </font><font size = 1, color=blue> as(0.18) </font><font size = 1, color=black> an </font><font size = 4, color=red> actor.(-0.71) </font><font size = 1, color=red> Perhaps(-0.02) </font><font size = 1, color=gray> this </font><font size = 1, color=red> explains(-0.02) </font><font size = 3, color=blue> why(0.49) </font><font size = 1, color=red> his(-0.02) </font><font size = 5, color=red> acting,(-0.94) </font><font size = 1, color=gray> in </font><font size = 1, color=gray> this </font><font size = 1, color=red> beautifully(-0.02) </font><font size = 1, color=red> edited(-0.02) </font><font size = 1, color=black> film, </font><font size = 4, color=blue> comes(0.67) </font><font size = 8, color=red> over(-1.63) </font><font size = 1, color=black> as </font><font size = 2, color=blue> so(0.39) </font><font size = 1, color=red> believable(-0.02) </font><font size = 1, color=gray> and </font><font size = 1, color=black> so </font><font size = 4, color=red> powerful.(-0.71) </font><font size = 6, color=blue> Instead(1.08) </font><font size = 1, color=gray> of </font><font size = 1, color=gray> chewing </font><font size = 1, color=gray> the </font><font size = 4, color=red> scenery(-0.71) </font><font size = 1, color=gray> in </font><font size = 1, color=gray> the </font><font size = 1, color=gray> approved </font><font size = 1, color=red> fashion(-0.02) </font><font size = 1, color=gray> for </font><font size = 3, color=red> such(-0.53) </font><font size = 1, color=red> high-powered(-0.02) </font><font size = 4, color=blue> roles,(0.67) </font><font size = 1, color=gray> Fishburne's </font><font size = 1, color=red> portrayal(-0.02) </font><font size = 1, color=gray> is </font><font size = 1, color=red> focused(-0.02) </font><font size = 1, color=black> more </font><font size = 1, color=black> on </font><font size = 1, color=gray> Othello's </font><font size = 1, color=red> love(-0.02) </font><font size = 1, color=gray> for </font><font size = 1, color=black> his </font><font size = 6, color=red> wife,(-1.12) </font><font size = 1, color=gray> and </font><font size = 1, color=black> on </font><font size = 1, color=black> his </font><font size = 1, color=red> profound(-0.02) </font><font size = 1, color=red> sadness(-0.02) </font><font size = 2, color=blue> at(0.39) </font><font size = 6, color=blue> her(1.23) </font><font size = 4, color=blue> supposed(0.67) </font><font size = 1, color=gray> betrayal, </font><font size = 8, color=blue> than(1.77) </font><font size = 1, color=black> on </font><font size = 1, color=red> violence(-0.02) </font><font size = 1, color=gray> and </font><font size = 1, color=gray> vengeance. </font><font size = 1, color=gray> In </font><font size = 1, color=gray> a </font><font size = 1, color=red> word,(-0.02) </font><font size = 1, color=gray> the </font><font size = 1, color=black> performance </font><font size = 1, color=gray> is </font><font size = 1, color=gray> understated, </font><font size = 1, color=gray> and </font><font size = 5, color=red> made(-0.94) </font><font size = 1, color=red> far(-0.02) </font><font size = 1, color=black> more </font><font size = 1, color=red> impressive(-0.02) </font><font size = 3, color=blue> by(0.49) </font><font size = 1, color=gray> Fishburne's </font><font size = 1, color=red> extremely(-0.02) </font><font size = 4, color=blue> intelligent(0.67) </font><font size = 1, color=red> interpretation(-0.02) </font><font size = 1, color=black> than </font><font size = 1, color=gray> it </font><font size = 1, color=red> otherwise(-0.02) </font><font size = 1, color=red> would(-0.02) </font><font size = 1, color=black> have </font><font size = 4, color=red> been.<br(-0.71) </font><font size = 1, color=black> /><br </font><font size = 1, color=gray> />The </font><font size = 1, color=black> acting </font><font size = 1, color=red> throughout(-0.02) </font><font size = 1, color=gray> is </font><font size = 1, color=red> superb,(-0.02) </font><font size = 1, color=gray> and </font><font size = 1, color=gray> the </font><font size = 1, color=gray> (abridged) </font><font size = 1, color=gray> speeches </font><font size = 1, color=red> gain(-0.02) </font><font size = 1, color=red> grace(-0.02) </font><font size = 3, color=red> from(-0.53) </font><font size = 4, color=blue> their(0.67) </font><font size = 1, color=red> light(-0.02) </font><font size = 4, color=red> editing.(-0.71) </font><font size = 2, color=red> (Even(-0.24) </font><font size = 1, color=gray> Shakesspeare, </font><font size = 3, color=red> after(-0.53) </font><font size = 1, color=red> all,(-0.20) </font><font size = 2, color=red> can(-0.43) </font><font size = 1, color=black> be </font><font size = 1, color=red> improved(-0.02) </font><font size = 1, color=red> upon,(-0.02) </font><font size = 7, color=red> now(-1.41) </font><font size = 1, color=gray> and </font><font size = 2, color=blue> again(0.39) </font><font size = 1, color=gray> -- </font><font size = 1, color=gray> and </font><font size = 1, color=blue> if(0.11) </font><font size = 1, color=gray> that </font><font size = 1, color=black> be </font><font size = 1, color=gray> treason, </font><font size = 2, color=blue> make(0.39) </font><font size = 1, color=gray> the </font><font size = 5, color=red> most(-0.94) </font><font size = 1, color=gray> of </font><font size = 1, color=gray> it! </font>"
      ],
      "text/plain": [
       "<IPython.core.display.HTML object>"
      ]
     },
     "metadata": {},
     "output_type": "display_data"
    },
    {
     "name": "stdout",
     "output_type": "stream",
     "text": [
      "Is this document positive (1) or negative (0)?1\n",
      "\n",
      "This document is classified as positive\n",
      "Acccuracy:  0.61484\n",
      "\n",
      "\n",
      "\n",
      "Document 24:\n"
     ]
    },
    {
     "data": {
      "text/html": [
       "<font size = 1, color=gray> I </font><font size = 1, color=red> hope(-0.04) </font><font size = 8, color=blue> she(1.75) </font><font size = 2, color=red> can(-0.22) </font><font size = 5, color=blue> keep(1.06) </font><font size = 3, color=red> acting(-0.55) </font><font size = 1, color=gray> and </font><font size = 1, color=red> directing.(-0.04) </font><font size = 1, color=red> She's(-0.04) </font><font size = 1, color=red> surely(-0.04) </font><font size = 4, color=red> up(-0.73) </font><font size = 1, color=gray> to </font><font size = 1, color=gray> the </font><font size = 1, color=red> task(-0.04) </font><font size = 1, color=gray> and </font><font size = 8, color=red> could(-1.65) </font><font size = 1, color=red> easily(-0.04) </font><font size = 1, color=red> develop(-0.04) </font><font size = 1, color=gray> that </font><font size = 1, color=gray> visionary </font><font size = 1, color=gray> streak </font><font size = 1, color=red> into(-0.04) </font><font size = 1, color=gray> a </font><font size = 7, color=red> long(-1.42) </font><font size = 5, color=blue> career(1.06) </font><font size = 1, color=gray> of </font><font size = 1, color=gray> unconventional </font><font size = 1, color=gray> and </font><font size = 4, color=red> rare(-0.73) </font><font size = 1, color=red> works(-0.04) </font><font size = 1, color=gray> of </font><font size = 1, color=red> art.(-0.04) </font><font size = 7, color=blue> Her(1.35) </font><font size = 2, color=blue> work(0.37) </font><font size = 5, color=red> has(-0.95) </font><font size = 1, color=gray> a </font><font size = 1, color=black> rare </font><font size = 1, color=red> kind(-0.04) </font><font size = 1, color=gray> of </font><font size = 1, color=gray> generosity </font><font size = 1, color=gray> and </font><font size = 1, color=black> her </font><font size = 1, color=red> timing(-0.04) </font><font size = 1, color=gray> is </font><font size = 1, color=red> spot-on!(-0.04) </font><font size = 1, color=gray> Oy </font><font size = 2, color=blue> I'm(0.37) </font><font size = 1, color=gray> kvell </font>"
      ],
      "text/plain": [
       "<IPython.core.display.HTML object>"
      ]
     },
     "metadata": {},
     "output_type": "display_data"
    },
    {
     "name": "stdout",
     "output_type": "stream",
     "text": [
      "Is this document positive (1) or negative (0)?1\n",
      "\n",
      "This document is classified as positive\n",
      "Acccuracy:  0.61148\n",
      "\n",
      "\n",
      "\n",
      "Document 25:\n"
     ]
    },
    {
     "data": {
      "text/html": [
       "<font size = 1, color=gray> To </font><font size = 1, color=gray> a </font><font size = 5, color=blue> certain(1.06) </font><font size = 4, color=red> extent,(-0.74) </font><font size = 1, color=gray> I </font><font size = 1, color=red> actually(-0.04) </font><font size = 4, color=red> liked(-0.74) </font><font size = 1, color=gray> this </font><font size = 1, color=red> film(-0.04) </font><font size = 5, color=red> better(-0.96) </font><font size = 8, color=blue> than(1.90) </font><font size = 1, color=gray> the </font><font size = 1, color=red> original(-0.04) </font><font size = 1, color=red> VAMPIRES.(-0.04) </font><font size = 1, color=gray> I </font><font size = 4, color=red> found(-0.74) </font><font size = 1, color=gray> that </font><font size = 1, color=red> movie(-0.04) </font><font size = 1, color=gray> to </font><font size = 1, color=blue> be(0.11) </font><font size = 1, color=red> quite(-0.04) </font><font size = 1, color=gray> misogynistic. </font><font size = 2, color=blue> As(0.24) </font><font size = 1, color=gray> a </font><font size = 4, color=blue> woman(0.65) </font><font size = 1, color=gray> and </font><font size = 1, color=gray> a </font><font size = 1, color=red> horror(-0.04) </font><font size = 7, color=blue> fan,(1.34) </font><font size = 3, color=blue> I'm(0.52) </font><font size = 1, color=red> used(-0.04) </font><font size = 1, color=gray> to </font><font size = 1, color=gray> the </font><font size = 3, color=red> fact(-0.45) </font><font size = 1, color=gray> that </font><font size = 5, color=blue> women(1.06) </font><font size = 1, color=gray> in </font><font size = 1, color=gray> peril </font><font size = 2, color=blue> are(0.29) </font><font size = 1, color=gray> a </font><font size = 1, color=gray> staple </font><font size = 1, color=gray> of </font><font size = 1, color=gray> the </font><font size = 1, color=red> genre.(-0.04) </font><font size = 1, color=gray> But </font><font size = 1, color=blue> they(0.14) </font><font size = 6, color=red> just(-1.14) </font><font size = 1, color=red> slap(-0.04) </font><font size = 1, color=gray> Sheryl </font><font size = 4, color=red> Lee(-0.74) </font><font size = 1, color=red> around(-0.04) </font><font size = 2, color=blue> way(0.36) </font><font size = 3, color=red> too(-0.55) </font><font size = 2, color=red> much.(-0.33) </font><font size = 1, color=gray> In </font><font size = 1, color=gray> this </font><font size = 1, color=black> movie, </font><font size = 1, color=gray> Natasha </font><font size = 1, color=gray> Wagner </font><font size = 1, color=gray> is </font><font size = 1, color=gray> a </font><font size = 2, color=blue> more(0.24) </font><font size = 1, color=red> fully-realized(-0.04) </font><font size = 2, color=blue> character,(0.24) </font><font size = 1, color=gray> and </font><font size = 1, color=gray> the </font><font size = 1, color=red> main(-0.04) </font><font size = 4, color=red> bad(-0.74) </font><font size = 4, color=red> guy(-0.74) </font><font size = 1, color=gray> is </font><font size = 1, color=gray> a </font><font size = 1, color=gray> gal! </font><font size = 1, color=gray> Arly </font><font size = 1, color=gray> Jover </font><font size = 2, color=red> (who(-0.23) </font><font size = 8, color=blue> played(1.57) </font><font size = 1, color=gray> a </font><font size = 1, color=red> sidekick(-0.04) </font><font size = 1, color=gray> vamp </font><font size = 1, color=gray> in </font><font size = 1, color=gray> BLADE) </font><font size = 1, color=gray> is </font><font size = 1, color=red> very(-0.04) </font><font size = 1, color=gray> otherworldly </font><font size = 1, color=gray> and </font><font size = 1, color=red> deadly.(-0.04) </font><font size = 1, color=red> Jon(-0.04) </font><font size = 1, color=gray> Bon </font><font size = 1, color=gray> Jovi... </font><font size = 1, color=red> okay,(-0.04) </font><font size = 1, color=red> yeah,(-0.04) </font><font size = 6, color=red> no(-1.14) </font><font size = 4, color=blue> great(0.65) </font><font size = 1, color=red> actor,(-0.04) </font><font size = 1, color=gray> but </font><font size = 3, color=red> he(-0.55) </font><font size = 6, color=red> does(-1.14) </font><font size = 4, color=red> OK.(-0.74) </font><font size = 3, color=blue> At(0.52) </font><font size = 6, color=red> least(-1.14) </font><font size = 1, color=black> he </font><font size = 1, color=red> doesn't(-0.04) </font><font size = 4, color=red> start(-0.74) </font><font size = 1, color=gray> to </font><font size = 1, color=red> sing.(-0.04) </font><font size = 4, color=blue> Catch(0.65) </font><font size = 1, color=gray> it </font><font size = 3, color=blue> on(0.58) </font><font size = 1, color=red> cable(-0.04) </font><font size = 1, color=blue> if(0.21) </font><font size = 1, color=blue> you(0.09) </font><font size = 1, color=red> can.(-0.04) </font><font size = 1, color=blue> It's(0.14) </font><font size = 1, color=black> on </font><font size = 1, color=gray> Encore </font><font size = 5, color=blue> Action(1.06) </font><font size = 1, color=gray> this </font><font size = 4, color=blue> month.(0.65) </font>"
      ],
      "text/plain": [
       "<IPython.core.display.HTML object>"
      ]
     },
     "metadata": {},
     "output_type": "display_data"
    },
    {
     "name": "stdout",
     "output_type": "stream",
     "text": [
      "Is this document positive (1) or negative (0)?1\n",
      "\n",
      "This document is classified as positive\n",
      "Acccuracy:  0.58844\n",
      "\n",
      "\n",
      "\n"
     ]
    }
   ],
   "source": [
    "budget = 25\n",
    "for b in range(budget):\n",
    "    decision = '?'\n",
    "    val = '?'\n",
    "    probs = mnb.predict_proba(X_pool[candidates])\n",
    "    c = candidates[np.argmin(np.max(probs, axis=1))]\n",
    "    print(\"Document\",str(b+1)+':')\n",
    "    display.display(display.HTML(doc2html(pool_corpus[c], w, vect.vocabulary_, tokenizer, size_ranges)))\n",
    "    while True:\n",
    "        decision = input(\"Is this document positive (1) or negative (0)?\")\n",
    "        if decision == '1':\n",
    "            val = 'positive'\n",
    "            break\n",
    "        elif decision == '0':\n",
    "            val = 'negative'\n",
    "            break\n",
    "        else:\n",
    "            print(\"Invalid Input. Please enter 1 for positive or 0 for negative\")\n",
    "    print(\"\\nThis document is classified as\", val)\n",
    "    train_indices.append(c)\n",
    "    candidates.remove(c)\n",
    "    y_train.append(int(decision))\n",
    "    mnb = MultinomialNB()\n",
    "    mnb.fit(X_pool[train_indices], y_train)\n",
    "    w = mnb.feature_log_prob_[1] - mnb.feature_log_prob_[0]\n",
    "    print('Acccuracy: ', mnb.score(X_test, y_test))\n",
    "    print('\\n\\n')"
   ]
  },
  {
   "cell_type": "code",
   "execution_count": 26,
   "metadata": {},
   "outputs": [],
   "source": [
    "# TODO 6: Discuss your findings and your experience."
   ]
  },
  {
   "cell_type": "markdown",
   "metadata": {},
   "source": [
    "#### It was interesting to see initially the postive vs negative algorithm was picking up actual positive and negative words but still predicting the values wrong due to sarcasm and \"not\" words disregaring the overall classification of the document.\n",
    "#### As the process continued the accuracy increased and the most negative and positive words became helper words such as better, least and instead. \n",
    "#### The most interesting part was how random words such as could, her, she, played, ... were classified as either positive or negative as more documents were added classified (the accuracy also jumped up and down when this occured). It was interesting to see these words have high values in there classification.\n",
    "#### It was sometimes difficult for me to classify the documents with some documents giving both positives and negative of the movie. It would be helpful to see the rating (numeric value) of the reviews. But even then, classifying a document postive and negative is tricky since ratings can be in the middle. A (yes/no) question regarding if the movie would be recommended to others would be helpful in this case."
   ]
  }
 ],
 "metadata": {
  "kernelspec": {
   "display_name": "Python 3",
   "language": "python",
   "name": "python3"
  },
  "language_info": {
   "codemirror_mode": {
    "name": "ipython",
    "version": 3
   },
   "file_extension": ".py",
   "mimetype": "text/x-python",
   "name": "python",
   "nbconvert_exporter": "python",
   "pygments_lexer": "ipython3",
   "version": "3.6.8"
  },
  "toc": {
   "base_numbering": 1,
   "nav_menu": {},
   "number_sections": false,
   "sideBar": true,
   "skip_h1_title": false,
   "title_cell": "Table of Contents",
   "title_sidebar": "Contents",
   "toc_cell": false,
   "toc_position": {},
   "toc_section_display": true,
   "toc_window_display": false
  }
 },
 "nbformat": 4,
 "nbformat_minor": 2
}
